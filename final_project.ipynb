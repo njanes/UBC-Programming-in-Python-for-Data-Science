{
 "cells": [
  {
   "cell_type": "markdown",
   "metadata": {
    "tags": []
   },
   "source": [
    "# Exploratory data analysis of the Disney Datasets"
   ]
  },
  {
   "cell_type": "markdown",
   "metadata": {},
   "source": [
    "# Introduction\n",
    "\n",
    "## Questions of interest\n",
    "In this analysis, I will be evaluating questions related to the Disney dataset. I would like to investigate to determine: \n",
    "\n",
    "> **1**: Which genre of movie has generated Disney the most income, and \\\n",
    "> **2**: Whether disney has the most productions in their highest-grossing genre\n",
    "\n",
    "Adventure movies are popular as they often provide a family-friendly viewing experience, with immersive storylines and captivating scenes and soundtracks. Due to its popularity and accesssabililty to all audiences, I would like to see whether adventure is the top-grossing Disney genre. I expect that this will be the case. \n",
    "\n",
    "I expect that the films with the highest gross will also have the highest number of productions (and vice versa). Disney would prefer to produce films which gross the highest, so executives often make business decisions based on past performance, and would therefore produce more films in the genre that generates the most income. \n",
    "\n",
    "## Dataset description \n",
    "\n",
    "The following description is an exerpt from the [website](https://data.world/kgarrett/disney-character-success-00-16) where the dataset was found:\n",
    "\n",
    "\"This dataset explores the box office data of Walt Disney Studios from 2000 to 2016. It includes information on the movie title, release date, main character, villain, and songs associated with each film. This dataset provides insights into how different elements contribute to a movie's success or failure\n",
    "\n",
    "When exploring this dataset, there are a few things to keep in mind. Firstly, the data is divided into four different files: `disney-characters.csv`, `disney_movies_total_gross.csv`, `disney-voice-actors.csv`, and `disney_revenue_1991-2016.csv`. Each of these files contains information on different aspects of Disney's box office data.\n",
    "\n",
    "To make things easier, we've created a quick guide that outlines what you can find in each file:\"\n",
    "\n",
    "* **disney-characters.csv**\n",
    "    * This file contains information on the movie title, release date, main character, villain, and songs associated with each film\n",
    "* **disney_movies_total_gross.csv** \n",
    "    * This file includes data on the total gross of Walt Disney Studios movies from 2000 to 2016\n",
    "* **disney-voice-actors.csv** \n",
    "    * This file contains information on the voice actors for Disney characters\n",
    "* **disney_revenue_1991-2016.csv** \n",
    "    * This file contains data on the revenue of the Walt Disney Company from 1991 to 2016"
   ]
  },
  {
   "cell_type": "markdown",
   "metadata": {
    "tags": []
   },
   "source": [
    "# Methods and Results\n",
    "\n",
    "First, I will import the csv files and visualize the data. \n",
    "I will only be importing the **disney_movies_total_gross** file as I am only interested in the `genre` and `inflation_adjusted_gross` variables. I want to create a data frame containing the columns *genre*, *inflation_adjusted_gross*, and a new column *productions* containing the number of movies made in each genre. "
   ]
  },
  {
   "cell_type": "code",
   "execution_count": 1,
   "metadata": {},
   "outputs": [],
   "source": [
    "# import required libraries\n",
    "import altair as alt\n",
    "import pandas as pd\n",
    "import numpy as np\n",
    "\n",
    "# import Disney data\n",
    "data = pd.read_csv(\"data/disney_movies_total_gross.csv\")"
   ]
  },
  {
   "cell_type": "markdown",
   "metadata": {},
   "source": [
    "Now, I will use the `head()` method to view the first 5 rows of the data frame"
   ]
  },
  {
   "cell_type": "code",
   "execution_count": 2,
   "metadata": {},
   "outputs": [
    {
     "data": {
      "text/html": [
       "<div>\n",
       "<style scoped>\n",
       "    .dataframe tbody tr th:only-of-type {\n",
       "        vertical-align: middle;\n",
       "    }\n",
       "\n",
       "    .dataframe tbody tr th {\n",
       "        vertical-align: top;\n",
       "    }\n",
       "\n",
       "    .dataframe thead th {\n",
       "        text-align: right;\n",
       "    }\n",
       "</style>\n",
       "<table border=\"1\" class=\"dataframe\">\n",
       "  <thead>\n",
       "    <tr style=\"text-align: right;\">\n",
       "      <th></th>\n",
       "      <th>movie_title</th>\n",
       "      <th>release_date</th>\n",
       "      <th>genre</th>\n",
       "      <th>MPAA_rating</th>\n",
       "      <th>total_gross</th>\n",
       "      <th>inflation_adjusted_gross</th>\n",
       "    </tr>\n",
       "  </thead>\n",
       "  <tbody>\n",
       "    <tr>\n",
       "      <th>0</th>\n",
       "      <td>Snow White and the Seven Dwarfs</td>\n",
       "      <td>Dec 21, 1937</td>\n",
       "      <td>Musical</td>\n",
       "      <td>G</td>\n",
       "      <td>$184,925,485</td>\n",
       "      <td>$5,228,953,251</td>\n",
       "    </tr>\n",
       "    <tr>\n",
       "      <th>1</th>\n",
       "      <td>Pinocchio</td>\n",
       "      <td>Feb 9, 1940</td>\n",
       "      <td>Adventure</td>\n",
       "      <td>G</td>\n",
       "      <td>$84,300,000</td>\n",
       "      <td>$2,188,229,052</td>\n",
       "    </tr>\n",
       "    <tr>\n",
       "      <th>2</th>\n",
       "      <td>Fantasia</td>\n",
       "      <td>Nov 13, 1940</td>\n",
       "      <td>Musical</td>\n",
       "      <td>G</td>\n",
       "      <td>$83,320,000</td>\n",
       "      <td>$2,187,090,808</td>\n",
       "    </tr>\n",
       "    <tr>\n",
       "      <th>3</th>\n",
       "      <td>Song of the South</td>\n",
       "      <td>Nov 12, 1946</td>\n",
       "      <td>Adventure</td>\n",
       "      <td>G</td>\n",
       "      <td>$65,000,000</td>\n",
       "      <td>$1,078,510,579</td>\n",
       "    </tr>\n",
       "    <tr>\n",
       "      <th>4</th>\n",
       "      <td>Cinderella</td>\n",
       "      <td>Feb 15, 1950</td>\n",
       "      <td>Drama</td>\n",
       "      <td>G</td>\n",
       "      <td>$85,000,000</td>\n",
       "      <td>$920,608,730</td>\n",
       "    </tr>\n",
       "  </tbody>\n",
       "</table>\n",
       "</div>"
      ],
      "text/plain": [
       "                       movie_title  release_date      genre MPAA_rating  \\\n",
       "0  Snow White and the Seven Dwarfs  Dec 21, 1937    Musical           G   \n",
       "1                        Pinocchio   Feb 9, 1940  Adventure           G   \n",
       "2                         Fantasia  Nov 13, 1940    Musical           G   \n",
       "3                Song of the South  Nov 12, 1946  Adventure           G   \n",
       "4                       Cinderella  Feb 15, 1950      Drama           G   \n",
       "\n",
       "    total_gross inflation_adjusted_gross  \n",
       "0  $184,925,485           $5,228,953,251  \n",
       "1   $84,300,000           $2,188,229,052  \n",
       "2   $83,320,000           $2,187,090,808  \n",
       "3   $65,000,000           $1,078,510,579  \n",
       "4   $85,000,000             $920,608,730  "
      ]
     },
     "execution_count": 2,
     "metadata": {},
     "output_type": "execute_result"
    }
   ],
   "source": [
    "# get first 5 rows of data\n",
    "data.head()"
   ]
  },
  {
   "cell_type": "markdown",
   "metadata": {},
   "source": [
    "**Table 1: First 5 rows of data frame data**"
   ]
  },
  {
   "cell_type": "markdown",
   "metadata": {},
   "source": [
    "Using the `info()` method, I can view more information about the data, such as the length, column names and data types."
   ]
  },
  {
   "cell_type": "code",
   "execution_count": 3,
   "metadata": {},
   "outputs": [
    {
     "name": "stdout",
     "output_type": "stream",
     "text": [
      "<class 'pandas.core.frame.DataFrame'>\n",
      "RangeIndex: 579 entries, 0 to 578\n",
      "Data columns (total 6 columns):\n",
      " #   Column                    Non-Null Count  Dtype \n",
      "---  ------                    --------------  ----- \n",
      " 0   movie_title               579 non-null    object\n",
      " 1   release_date              579 non-null    object\n",
      " 2   genre                     562 non-null    object\n",
      " 3   MPAA_rating               523 non-null    object\n",
      " 4   total_gross               579 non-null    object\n",
      " 5   inflation_adjusted_gross  579 non-null    object\n",
      "dtypes: object(6)\n",
      "memory usage: 27.3+ KB\n"
     ]
    }
   ],
   "source": [
    "# get data frame shape and column dtypes\n",
    "data.info()"
   ]
  },
  {
   "cell_type": "markdown",
   "metadata": {},
   "source": [
    "**Table 2: Data frame shape, columns, dtypes, and memory information**"
   ]
  },
  {
   "cell_type": "markdown",
   "metadata": {},
   "source": [
    "The data frame has $579$ rows and $6$ columns. For every movie_title, there is a release_date, MPAA_rating, total_gross, and inflation_adjusted_gross."
   ]
  },
  {
   "cell_type": "markdown",
   "metadata": {
    "tags": []
   },
   "source": [
    "### Calculating Total Gross and Number of Productions by Genre\n",
    "\n",
    "By applying the `loc()` method to the **data** data frame, I create a new dataframe containing only the columns **movie_title**, **genre**, and **inflation_adjusted_gross** "
   ]
  },
  {
   "cell_type": "code",
   "execution_count": 4,
   "metadata": {
    "tags": []
   },
   "outputs": [],
   "source": [
    "# create data frame with select columns\n",
    "movies = data.loc[:,['movie_title', 'genre', 'inflation_adjusted_gross']]"
   ]
  },
  {
   "cell_type": "markdown",
   "metadata": {
    "tags": []
   },
   "source": [
    "Next, I import a script called **func_script** which contains a function `char_del()` that accepts a dataframe, columns, and a list of character strings, then returns the dataframe with strings removed from the designated columns. This script also contains a function `col_div()` that accepts a dataframe, a column, and an integer, then returns the dataframe with the specified column as type int64 and divided by the integer. I use the `char_del()` custom function to format the *inflation_adjusted_gross* column by removing the currency symbol and commas. Then, I use the `col_div()` custom function to change the type of *inflation_adjusted_gross* column to int64 to avoid an OverflowError and divide by 1,000,000 and for readability. "
   ]
  },
  {
   "cell_type": "code",
   "execution_count": 5,
   "metadata": {
    "tags": []
   },
   "outputs": [
    {
     "data": {
      "text/html": [
       "<div>\n",
       "<style scoped>\n",
       "    .dataframe tbody tr th:only-of-type {\n",
       "        vertical-align: middle;\n",
       "    }\n",
       "\n",
       "    .dataframe tbody tr th {\n",
       "        vertical-align: top;\n",
       "    }\n",
       "\n",
       "    .dataframe thead th {\n",
       "        text-align: right;\n",
       "    }\n",
       "</style>\n",
       "<table border=\"1\" class=\"dataframe\">\n",
       "  <thead>\n",
       "    <tr style=\"text-align: right;\">\n",
       "      <th></th>\n",
       "      <th>genre</th>\n",
       "      <th>total_gross_M</th>\n",
       "      <th>movie_count</th>\n",
       "    </tr>\n",
       "  </thead>\n",
       "  <tbody>\n",
       "    <tr>\n",
       "      <th>0</th>\n",
       "      <td>Action</td>\n",
       "      <td>5498.936786</td>\n",
       "      <td>40</td>\n",
       "    </tr>\n",
       "    <tr>\n",
       "      <th>1</th>\n",
       "      <td>Adventure</td>\n",
       "      <td>24561.266158</td>\n",
       "      <td>129</td>\n",
       "    </tr>\n",
       "    <tr>\n",
       "      <th>2</th>\n",
       "      <td>Black Comedy</td>\n",
       "      <td>156.730475</td>\n",
       "      <td>3</td>\n",
       "    </tr>\n",
       "    <tr>\n",
       "      <th>3</th>\n",
       "      <td>Comedy</td>\n",
       "      <td>15409.526913</td>\n",
       "      <td>182</td>\n",
       "    </tr>\n",
       "    <tr>\n",
       "      <th>4</th>\n",
       "      <td>Concert/Performance</td>\n",
       "      <td>114.821678</td>\n",
       "      <td>2</td>\n",
       "    </tr>\n",
       "    <tr>\n",
       "      <th>5</th>\n",
       "      <td>Documentary</td>\n",
       "      <td>203.488418</td>\n",
       "      <td>16</td>\n",
       "    </tr>\n",
       "    <tr>\n",
       "      <th>6</th>\n",
       "      <td>Drama</td>\n",
       "      <td>8195.804484</td>\n",
       "      <td>114</td>\n",
       "    </tr>\n",
       "    <tr>\n",
       "      <th>7</th>\n",
       "      <td>Horror</td>\n",
       "      <td>140.483092</td>\n",
       "      <td>6</td>\n",
       "    </tr>\n",
       "    <tr>\n",
       "      <th>8</th>\n",
       "      <td>Musical</td>\n",
       "      <td>9657.565776</td>\n",
       "      <td>16</td>\n",
       "    </tr>\n",
       "    <tr>\n",
       "      <th>9</th>\n",
       "      <td>Romantic Comedy</td>\n",
       "      <td>1788.872933</td>\n",
       "      <td>23</td>\n",
       "    </tr>\n",
       "    <tr>\n",
       "      <th>10</th>\n",
       "      <td>Thriller/Suspense</td>\n",
       "      <td>2151.690954</td>\n",
       "      <td>24</td>\n",
       "    </tr>\n",
       "    <tr>\n",
       "      <th>11</th>\n",
       "      <td>Western</td>\n",
       "      <td>516.709946</td>\n",
       "      <td>7</td>\n",
       "    </tr>\n",
       "  </tbody>\n",
       "</table>\n",
       "</div>"
      ],
      "text/plain": [
       "                  genre  total_gross_M  movie_count\n",
       "0                Action    5498.936786           40\n",
       "1             Adventure   24561.266158          129\n",
       "2          Black Comedy     156.730475            3\n",
       "3                Comedy   15409.526913          182\n",
       "4   Concert/Performance     114.821678            2\n",
       "5           Documentary     203.488418           16\n",
       "6                 Drama    8195.804484          114\n",
       "7                Horror     140.483092            6\n",
       "8               Musical    9657.565776           16\n",
       "9       Romantic Comedy    1788.872933           23\n",
       "10    Thriller/Suspense    2151.690954           24\n",
       "11              Western     516.709946            7"
      ]
     },
     "execution_count": 5,
     "metadata": {},
     "output_type": "execute_result"
    }
   ],
   "source": [
    "# import custom modules\n",
    "import func_script as fs\n",
    "\n",
    "# remove '$' and ',' from inflation_adjusted_gross\n",
    "fs.char_del(movies, ['inflation_adjusted_gross'], ['$',','])\n",
    "\n",
    "# change type to int64 and divide by 1,000,000\n",
    "fs.col_div(movies, 'inflation_adjusted_gross', 1000000)    \n",
    "\n",
    "# group by genre, sum inflation_adjusted_gross, and count movie_title\n",
    "movies_grouped = movies.groupby(by='genre', as_index = False).agg({'inflation_adjusted_gross':'sum','movie_title':'count'})\n",
    "\n",
    "# rename columns to reflect values\n",
    "movies_grouped = movies_grouped.reset_index(drop = True).rename({'inflation_adjusted_gross': 'total_gross_M', 'movie_title': 'movie_count'}, axis='columns')\n",
    "movies_grouped"
   ]
  },
  {
   "cell_type": "markdown",
   "metadata": {
    "tags": []
   },
   "source": [
    "**Table 3: Cleaned and grouped data frame. Contains total gross in \\$M USD, and count of movies by genre.**"
   ]
  },
  {
   "cell_type": "markdown",
   "metadata": {
    "tags": []
   },
   "source": [
    "### Visualizing Total Gross and Number of Productions by Genre\n",
    "\n",
    "I will plot the total gross in millions by genre, which will give a numerical representation of viewers' preference of genre. The public is likely to re-watch and recommend movies they like to others, and as such, this will be reflected in the gross of movies (and thereby genres). \n",
    "\n",
    "I will also visualize the number of movies produced by Disney for every genre. This will give an idea of Disney's preference of genre, as a higher number of films produced indicates a preference by Disney to produce a given genre. "
   ]
  },
  {
   "cell_type": "code",
   "execution_count": 6,
   "metadata": {},
   "outputs": [
    {
     "data": {
      "text/html": [
       "\n",
       "<div id=\"altair-viz-8f0994d8bb1f498685da96b702848ee5\"></div>\n",
       "<script type=\"text/javascript\">\n",
       "  (function(spec, embedOpt){\n",
       "    let outputDiv = document.currentScript.previousElementSibling;\n",
       "    if (outputDiv.id !== \"altair-viz-8f0994d8bb1f498685da96b702848ee5\") {\n",
       "      outputDiv = document.getElementById(\"altair-viz-8f0994d8bb1f498685da96b702848ee5\");\n",
       "    }\n",
       "    const paths = {\n",
       "      \"vega\": \"https://cdn.jsdelivr.net/npm//vega@5?noext\",\n",
       "      \"vega-lib\": \"https://cdn.jsdelivr.net/npm//vega-lib?noext\",\n",
       "      \"vega-lite\": \"https://cdn.jsdelivr.net/npm//vega-lite@4.8.1?noext\",\n",
       "      \"vega-embed\": \"https://cdn.jsdelivr.net/npm//vega-embed@6?noext\",\n",
       "    };\n",
       "\n",
       "    function loadScript(lib) {\n",
       "      return new Promise(function(resolve, reject) {\n",
       "        var s = document.createElement('script');\n",
       "        s.src = paths[lib];\n",
       "        s.async = true;\n",
       "        s.onload = () => resolve(paths[lib]);\n",
       "        s.onerror = () => reject(`Error loading script: ${paths[lib]}`);\n",
       "        document.getElementsByTagName(\"head\")[0].appendChild(s);\n",
       "      });\n",
       "    }\n",
       "\n",
       "    function showError(err) {\n",
       "      outputDiv.innerHTML = `<div class=\"error\" style=\"color:red;\">${err}</div>`;\n",
       "      throw err;\n",
       "    }\n",
       "\n",
       "    function displayChart(vegaEmbed) {\n",
       "      vegaEmbed(outputDiv, spec, embedOpt)\n",
       "        .catch(err => showError(`Javascript Error: ${err.message}<br>This usually means there's a typo in your chart specification. See the javascript console for the full traceback.`));\n",
       "    }\n",
       "\n",
       "    if(typeof define === \"function\" && define.amd) {\n",
       "      requirejs.config({paths});\n",
       "      require([\"vega-embed\"], displayChart, err => showError(`Error loading script: ${err.message}`));\n",
       "    } else if (typeof vegaEmbed === \"function\") {\n",
       "      displayChart(vegaEmbed);\n",
       "    } else {\n",
       "      loadScript(\"vega\")\n",
       "        .then(() => loadScript(\"vega-lite\"))\n",
       "        .then(() => loadScript(\"vega-embed\"))\n",
       "        .catch(showError)\n",
       "        .then(() => displayChart(vegaEmbed));\n",
       "    }\n",
       "  })({\"config\": {\"view\": {\"continuousWidth\": 400, \"continuousHeight\": 300}}, \"data\": {\"name\": \"data-4cb32b2f175a4e8bb1f1c5a7600345c3\"}, \"mark\": {\"type\": \"bar\", \"color\": \"#519681\"}, \"encoding\": {\"x\": {\"type\": \"nominal\", \"field\": \"genre\", \"sort\": \"-y\", \"title\": \"Genre\"}, \"y\": {\"type\": \"quantitative\", \"field\": \"total_gross_M\", \"title\": \"Total Gross ($M USD)\"}}, \"height\": 350, \"title\": \"Figure 1: Total Gross by Genre in Millions (Inflation Adjusted)\", \"width\": 600, \"$schema\": \"https://vega.github.io/schema/vega-lite/v4.8.1.json\", \"datasets\": {\"data-4cb32b2f175a4e8bb1f1c5a7600345c3\": [{\"genre\": \"Action\", \"total_gross_M\": 5498.936786, \"movie_count\": 40}, {\"genre\": \"Adventure\", \"total_gross_M\": 24561.266158, \"movie_count\": 129}, {\"genre\": \"Black Comedy\", \"total_gross_M\": 156.730475, \"movie_count\": 3}, {\"genre\": \"Comedy\", \"total_gross_M\": 15409.526912999996, \"movie_count\": 182}, {\"genre\": \"Concert/Performance\", \"total_gross_M\": 114.82167799999999, \"movie_count\": 2}, {\"genre\": \"Documentary\", \"total_gross_M\": 203.48841800000002, \"movie_count\": 16}, {\"genre\": \"Drama\", \"total_gross_M\": 8195.804483999998, \"movie_count\": 114}, {\"genre\": \"Horror\", \"total_gross_M\": 140.483092, \"movie_count\": 6}, {\"genre\": \"Musical\", \"total_gross_M\": 9657.565776, \"movie_count\": 16}, {\"genre\": \"Romantic Comedy\", \"total_gross_M\": 1788.8729329999999, \"movie_count\": 23}, {\"genre\": \"Thriller/Suspense\", \"total_gross_M\": 2151.6909539999997, \"movie_count\": 24}, {\"genre\": \"Western\", \"total_gross_M\": 516.709946, \"movie_count\": 7}]}}, {\"mode\": \"vega-lite\"});\n",
       "</script>"
      ],
      "text/plain": [
       "alt.Chart(...)"
      ]
     },
     "execution_count": 6,
     "metadata": {},
     "output_type": "execute_result"
    }
   ],
   "source": [
    "gross_plot = alt.Chart(movies_grouped).mark_bar(color = '#519681').encode(\n",
    "    x=alt.X('genre', title='Genre', sort = '-y'),\n",
    "    y=alt.Y('total_gross_M',title='Total Gross ($M USD)')).properties(\n",
    "    title='Figure 1: Total Gross by Genre in Millions (Inflation Adjusted)', height = 350,width = 600)\n",
    "gross_plot"
   ]
  },
  {
   "cell_type": "markdown",
   "metadata": {},
   "source": [
    "From the chart above (figure 1), we see that the genre with the highest total gross is Adventure *(\\$24561.27M)*, followed by Comedy *(\\$15409.53M)* and Musical *(\\$9657.57M)*. The genre with the least total gross is Concert/Performance, with a value of *(\\$114.82M)*. "
   ]
  },
  {
   "cell_type": "code",
   "execution_count": 7,
   "metadata": {},
   "outputs": [
    {
     "data": {
      "text/html": [
       "\n",
       "<div id=\"altair-viz-0f1e17df6fd84cb78deb53c3c91d0569\"></div>\n",
       "<script type=\"text/javascript\">\n",
       "  (function(spec, embedOpt){\n",
       "    let outputDiv = document.currentScript.previousElementSibling;\n",
       "    if (outputDiv.id !== \"altair-viz-0f1e17df6fd84cb78deb53c3c91d0569\") {\n",
       "      outputDiv = document.getElementById(\"altair-viz-0f1e17df6fd84cb78deb53c3c91d0569\");\n",
       "    }\n",
       "    const paths = {\n",
       "      \"vega\": \"https://cdn.jsdelivr.net/npm//vega@5?noext\",\n",
       "      \"vega-lib\": \"https://cdn.jsdelivr.net/npm//vega-lib?noext\",\n",
       "      \"vega-lite\": \"https://cdn.jsdelivr.net/npm//vega-lite@4.8.1?noext\",\n",
       "      \"vega-embed\": \"https://cdn.jsdelivr.net/npm//vega-embed@6?noext\",\n",
       "    };\n",
       "\n",
       "    function loadScript(lib) {\n",
       "      return new Promise(function(resolve, reject) {\n",
       "        var s = document.createElement('script');\n",
       "        s.src = paths[lib];\n",
       "        s.async = true;\n",
       "        s.onload = () => resolve(paths[lib]);\n",
       "        s.onerror = () => reject(`Error loading script: ${paths[lib]}`);\n",
       "        document.getElementsByTagName(\"head\")[0].appendChild(s);\n",
       "      });\n",
       "    }\n",
       "\n",
       "    function showError(err) {\n",
       "      outputDiv.innerHTML = `<div class=\"error\" style=\"color:red;\">${err}</div>`;\n",
       "      throw err;\n",
       "    }\n",
       "\n",
       "    function displayChart(vegaEmbed) {\n",
       "      vegaEmbed(outputDiv, spec, embedOpt)\n",
       "        .catch(err => showError(`Javascript Error: ${err.message}<br>This usually means there's a typo in your chart specification. See the javascript console for the full traceback.`));\n",
       "    }\n",
       "\n",
       "    if(typeof define === \"function\" && define.amd) {\n",
       "      requirejs.config({paths});\n",
       "      require([\"vega-embed\"], displayChart, err => showError(`Error loading script: ${err.message}`));\n",
       "    } else if (typeof vegaEmbed === \"function\") {\n",
       "      displayChart(vegaEmbed);\n",
       "    } else {\n",
       "      loadScript(\"vega\")\n",
       "        .then(() => loadScript(\"vega-lite\"))\n",
       "        .then(() => loadScript(\"vega-embed\"))\n",
       "        .catch(showError)\n",
       "        .then(() => displayChart(vegaEmbed));\n",
       "    }\n",
       "  })({\"config\": {\"view\": {\"continuousWidth\": 400, \"continuousHeight\": 300}}, \"data\": {\"name\": \"data-4cb32b2f175a4e8bb1f1c5a7600345c3\"}, \"mark\": {\"type\": \"bar\", \"color\": \"#5362b0\"}, \"encoding\": {\"x\": {\"type\": \"nominal\", \"field\": \"genre\", \"sort\": \"-y\", \"title\": \"Genre\"}, \"y\": {\"type\": \"quantitative\", \"field\": \"movie_count\", \"title\": \"Number of Productions\"}}, \"height\": 350, \"title\": \"Figure 2: Total Movie Productions by Genre\", \"width\": 600, \"$schema\": \"https://vega.github.io/schema/vega-lite/v4.8.1.json\", \"datasets\": {\"data-4cb32b2f175a4e8bb1f1c5a7600345c3\": [{\"genre\": \"Action\", \"total_gross_M\": 5498.936786, \"movie_count\": 40}, {\"genre\": \"Adventure\", \"total_gross_M\": 24561.266158, \"movie_count\": 129}, {\"genre\": \"Black Comedy\", \"total_gross_M\": 156.730475, \"movie_count\": 3}, {\"genre\": \"Comedy\", \"total_gross_M\": 15409.526912999996, \"movie_count\": 182}, {\"genre\": \"Concert/Performance\", \"total_gross_M\": 114.82167799999999, \"movie_count\": 2}, {\"genre\": \"Documentary\", \"total_gross_M\": 203.48841800000002, \"movie_count\": 16}, {\"genre\": \"Drama\", \"total_gross_M\": 8195.804483999998, \"movie_count\": 114}, {\"genre\": \"Horror\", \"total_gross_M\": 140.483092, \"movie_count\": 6}, {\"genre\": \"Musical\", \"total_gross_M\": 9657.565776, \"movie_count\": 16}, {\"genre\": \"Romantic Comedy\", \"total_gross_M\": 1788.8729329999999, \"movie_count\": 23}, {\"genre\": \"Thriller/Suspense\", \"total_gross_M\": 2151.6909539999997, \"movie_count\": 24}, {\"genre\": \"Western\", \"total_gross_M\": 516.709946, \"movie_count\": 7}]}}, {\"mode\": \"vega-lite\"});\n",
       "</script>"
      ],
      "text/plain": [
       "alt.Chart(...)"
      ]
     },
     "execution_count": 7,
     "metadata": {},
     "output_type": "execute_result"
    }
   ],
   "source": [
    "prod_plot = alt.Chart(movies_grouped).mark_bar(color = '#5362b0').encode(\n",
    "    x=alt.X('genre', title='Genre', sort = '-y'),\n",
    "    y=alt.Y('movie_count',title='Number of Productions')).properties(\n",
    "    title='Figure 2: Total Movie Productions by Genre', height = 350,width = 600)\n",
    "prod_plot"
   ]
  },
  {
   "cell_type": "markdown",
   "metadata": {},
   "source": [
    "As illustrated above (figure 2), the genre with the most productions is Comedy (*182*), followed by Adventure (*129*) and Drama (*114*). The genre with the least productions is Concert/Performance, with a mere *2* titles. "
   ]
  },
  {
   "cell_type": "markdown",
   "metadata": {},
   "source": [
    "# Discussion\n",
    "\n",
    "This project showcases the analysis of the Disney dataset. The objective was to attempt to evaluate which genre of movie generates Disney the most income, and which genre is most produced by Disney. \n",
    "\n",
    "The genre with the highest total gross is Adventure (figure 1), which I had expected. However, I did not expect the result that was obtained for the genre with most productions. \n",
    "\n",
    "The genre in which Disney produces the most films is Comedy (figure 2), which was an unexpected result. Despite having a lesser total gross than adventure, comedy films are produced in considerably higher numbers. It may be that Disney produces the most comedy movies because they cost the least time and money to produce, and so they are made in large numbers to compensate for their lower average gross. If these productions cost less, Disney may be inclined to prioritize quantity over quality, and this may contribute to the lower gross per production for comedy films. \n",
    "\n",
    "It would be interesting to look at the average cost of production for each genre, as it would provide a better insight into why Disney may opt to produce more or less films in a given genre. As stated above, I would expect that Disney produces the most films in the genre with the lowest average production cost. "
   ]
  },
  {
   "cell_type": "markdown",
   "metadata": {},
   "source": [
    "## Resources used\n",
    "* [Data Source](https://data.world/kgarrett/disney-character-success-00-16)\n",
    "    * The dataset used in this project was compiled by Kelly Garrett.\n",
    "* [Plot Styling](https://altair-viz.github.io/user_guide/customization.html#)\n",
    "    * Documentation for Altair plot styling\n",
    "* [Plot Configuration](https://altair-viz.github.io/altair-tutorial/notebooks/08-Configuration.html)\n",
    "    * Documentation for Altair plot elements configuration"
   ]
  }
 ],
 "metadata": {
  "kernelspec": {
   "display_name": "Python 3",
   "language": "python",
   "name": "python3"
  },
  "language_info": {
   "codemirror_mode": {
    "name": "ipython",
    "version": 3
   },
   "file_extension": ".py",
   "mimetype": "text/x-python",
   "name": "python",
   "nbconvert_exporter": "python",
   "pygments_lexer": "ipython3",
   "version": "3.8.5"
  }
 },
 "nbformat": 4,
 "nbformat_minor": 4
}
