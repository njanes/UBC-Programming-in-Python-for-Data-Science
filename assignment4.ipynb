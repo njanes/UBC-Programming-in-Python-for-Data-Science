{
 "cells": [
  {
   "cell_type": "markdown",
   "metadata": {},
   "source": [
    "# Programming in Python for Data Science \n",
    "\n",
    "# Assignment 4: Basic Python"
   ]
  },
  {
   "cell_type": "markdown",
   "metadata": {},
   "source": [
    "You can't learn technical subjects without hands-on practice. The assignments are an important part of the course. To submit this assignment you will need to make sure that you save your Jupyter notebook. \n",
    "\n",
    "Below are the links of 2 videos that explain:\n",
    "\n",
    "1. [How to save your Jupyter notebook](https://youtu.be/0aoLgBoAUSA) and,       \n",
    "2. [How to answer a question in a Jupyter notebook assignment](https://youtu.be/7j0WKhI3W4s).    "
   ]
  },
  {
   "cell_type": "markdown",
   "metadata": {},
   "source": [
    "### Assignment Learning Goals:\n",
    "\n",
    "By the end of the module, students are expected to:\n",
    "\n",
    "- Compare and contrast Python's key data types.\n",
    "- Compare and contrast Python's key data structures. \n",
    "- Use python to determine the type and structure of an object.\n",
    "- Demonstrate how to create data structures and convert them to another.\n",
    "- Identify which operations can be applied to different data types and columns dtypes. \n",
    "\n",
    "This assignment covers [Module 4](https://prog-learn.mds.ubc.ca/en/module4) of the online course. You should complete this module before attempting this assignment."
   ]
  },
  {
   "cell_type": "markdown",
   "metadata": {},
   "source": [
    "Any place you see `...`, you must fill in the function, variable, or data to complete the code. Substitute the `None` and the `raise NotImplementedError # No Answer - remove if you provide an answer` with your completed code and answers then proceed to run the cell!"
   ]
  },
  {
   "cell_type": "markdown",
   "metadata": {},
   "source": [
    "Note that some of the questions in this assignment will have hidden tests. This means that no feedback will be given as to the correctness of your solution. It will be left up to you to decide if your answer is sufficiently correct. These questions are worth 2 points."
   ]
  },
  {
   "cell_type": "code",
   "execution_count": 1,
   "metadata": {},
   "outputs": [],
   "source": [
    "# Import libraries needed for this lab\n",
    "import pandas as pd\n",
    "import test_assignment4 as t\n",
    "from hashlib import sha1\n",
    "import altair as alt"
   ]
  },
  {
   "cell_type": "markdown",
   "metadata": {},
   "source": [
    "## 1.  Python Datatypes "
   ]
  },
  {
   "cell_type": "markdown",
   "metadata": {},
   "source": [
    "**Question 1(a)** <br> {points: 1}  \n",
    "\n",
    "Match the objects below to their associated correct datatype.\n",
    " \n",
    "    a) 'False'     \n",
    "    b) 67       \n",
    "    c) None      \n",
    "    d) [False, 'Wrong', None, \"Lies\"]      \n",
    "    e) True      \n",
    "    f) {'Name': 'Cookies and Cream', 'Brand': \"Hersey's\", 'Weight' = 48}        \n",
    "    g) \"None\"      \n",
    "    h) 67.0        \n",
    "    i) ('Never', 'gonna', 'give', 'you', 'up')          \n",
    "    j) 7.777777          \n",
    "    k) \"45\"          \n",
    "\n",
    "\n",
    "In the code chunk below, assign each object to it's corresponding datatype by putting the  following datatypes in quotes (as a string!):       \n",
    "`int`, `float`, `bool`, `str`, `list`, `tuple`, `dict`, `NoneType`.\n",
    "\n",
    "\n",
    "_Make sure your answer is written as the datatype selected above. \n",
    "\n",
    "***Example:***\n",
    "\n",
    "    z)   23\n",
    "\n",
    "`answer1_z = 'int'`"
   ]
  },
  {
   "cell_type": "code",
   "execution_count": 2,
   "metadata": {
    "deletable": false,
    "nbgrader": {
     "cell_type": "code",
     "checksum": "45963785cd1522dbdb237ee92c6fa988",
     "grade": false,
     "grade_id": "cell-dd23213c014f85af",
     "locked": false,
     "schema_version": 3,
     "solution": true,
     "task": false
    }
   },
   "outputs": [],
   "source": [
    "answer1_a = 'str'\n",
    "answer1_b = 'int' \n",
    "answer1_c = 'NoneType'\n",
    "answer1_d = 'list'\n",
    "answer1_e = 'bool'\n",
    "answer1_f = 'dict'\n",
    "answer1_g = 'str'\n",
    "answer1_h = 'float'\n",
    "answer1_i = 'tuple'\n",
    "answer1_j = 'float'\n",
    "answer1_k = 'str'"
   ]
  },
  {
   "cell_type": "code",
   "execution_count": 3,
   "metadata": {
    "deletable": false,
    "editable": false,
    "nbgrader": {
     "cell_type": "code",
     "checksum": "22b787e36eb816b98e6ee4108f525f95",
     "grade": true,
     "grade_id": "cell-e7ceb2b5a029de7b",
     "locked": true,
     "points": 1,
     "schema_version": 3,
     "solution": false,
     "task": false
    }
   },
   "outputs": [
    {
     "data": {
      "text/plain": [
       "'Success'"
      ]
     },
     "execution_count": 3,
     "metadata": {},
     "output_type": "execute_result"
    }
   ],
   "source": [
    "t.test_1a([answer1_a,answer1_b,answer1_c,answer1_d,answer1_e,answer1_f,answer1_g,answer1_h,\n",
    "         answer1_i,answer1_j,answer1_k])"
   ]
  },
  {
   "cell_type": "markdown",
   "metadata": {},
   "source": [
    "## 2. Pandas Datatypes "
   ]
  },
  {
   "cell_type": "markdown",
   "metadata": {},
   "source": [
    "For the next couple questions, please refer to this table referencing different astronauts and their space accomplishments: \n",
    "\n",
    "|    | Name |   Year |   Group | Status   | Birth_Date | Birth_Place    | Gender   | Graduate | Military | Space_Walks | Space_Walks_hrs | Deceased   | Missions  |\n",
    "|---:|:-----|----:|-----:|:-----|:-------|:--------|:---------|:---------|:------|-----:|-----:|:-----------|:-----|\n",
    "|**0**| Neil A. Armstrong |   1962 |2 | Deceased | 1930-08-05| Wapakoneta, OH | Male| Aerospace Engineering   | False | 1 |  2   | True  | [Gemini 8,  Apollo 11]   |\n",
    "|**1**| Buzz Aldrin  |1963 |  3 | Retired  | 1930-01-20| Montclair, NJ  | Male     | Astronautics | True | 2 | 8 | False      | [ Gemini 12,  Apollo 11] |\n",
    "|**2**| Patricia Hilliard Robertson |   1998 |   17 | Deceased | 1963-03-12| Indiana, PA | Female   | Medicine| False| 0 |0   | True| [] |\n",
    "|**3**| Alfred M. Worden |   1966 |  5 | Retired  | 1932-02-07| Jackson, MI    | Male |Aeronautical & Astronautical Engineering | True | 1 | 0.5 | False      | [Apollo 15]|\n"
   ]
  },
  {
   "cell_type": "markdown",
   "metadata": {},
   "source": [
    "**Question 2(a)** <br> {points: 1}  \n",
    "\n",
    "For the dataframe above what is the data dtype of each column? Save your answer as a string in an object named with the column label.      \n",
    "Remember you can chose from the following data types: \n",
    "\n",
    "- `object` \n",
    "- `int64`   \n",
    "- `float64`   \n",
    "- `datetime64`   \n",
    "- `bool`     "
   ]
  },
  {
   "cell_type": "code",
   "execution_count": 4,
   "metadata": {
    "deletable": false,
    "nbgrader": {
     "cell_type": "code",
     "checksum": "06fbf6a3094c02dbb0149249e497055a",
     "grade": false,
     "grade_id": "cell-550e922f66bcbd57",
     "locked": false,
     "schema_version": 3,
     "solution": true,
     "task": false
    }
   },
   "outputs": [],
   "source": [
    "Name = 'object' \n",
    "Year = 'int64'\n",
    "Group = 'int64'\n",
    "Status = 'object' \n",
    "Birth_Date = 'datetime64'\n",
    "Birth_Place = 'object'\n",
    "Gender = 'object'\n",
    "Graduate = 'object'\n",
    "Military = 'bool'\n",
    "Space_Walks = 'int64'\n",
    "Space_Walks_hrs = 'float64'\n",
    "Deceased = 'bool'\n",
    "Missions = 'object'"
   ]
  },
  {
   "cell_type": "code",
   "execution_count": 5,
   "metadata": {
    "deletable": false,
    "editable": false,
    "nbgrader": {
     "cell_type": "code",
     "checksum": "fbb18ca403c4c88949d5a0a5b85dafc5",
     "grade": true,
     "grade_id": "cell-6ad4da99b7dfef74",
     "locked": true,
     "points": 1,
     "schema_version": 3,
     "solution": false,
     "task": false
    }
   },
   "outputs": [
    {
     "data": {
      "text/plain": [
       "'Success'"
      ]
     },
     "execution_count": 5,
     "metadata": {},
     "output_type": "execute_result"
    }
   ],
   "source": [
    "t.test_2a([Name,Year,Group,Status,Birth_Date,Birth_Place,Gender,Graduate,\n",
    "         Military,Space_Walks,Space_Walks_hrs,Deceased,Missions])"
   ]
  },
  {
   "cell_type": "markdown",
   "metadata": {},
   "source": [
    "**Question 2(b)** <br> {points: 2} \n",
    "\n",
    "Using the dataframe above, which of the columns contain cell values that are **NOT** of type `str`?\n",
    "\n",
    "_Assign your answer to an object called `answer2_b` in the code chunk below. Place each column name in a list._\n",
    "\n",
    "_For example if you believe the answer is `Name`, `Year` and `Group` your answer would like this:_  \n",
    "\n",
    "`answer2_b = ['Name', 'Year', 'Group']`\n"
   ]
  },
  {
   "cell_type": "code",
   "execution_count": 6,
   "metadata": {
    "deletable": false,
    "nbgrader": {
     "cell_type": "code",
     "checksum": "4809ddd77487ade4cb32d1599d52e664",
     "grade": false,
     "grade_id": "cell-d1ca33359d1a6e78",
     "locked": false,
     "schema_version": 3,
     "solution": true,
     "task": false
    }
   },
   "outputs": [],
   "source": [
    "answer2_b = ['Year','Group','Birth_Date','Military','Space_Walks','Space_Walks_hrs','Deceased']"
   ]
  },
  {
   "cell_type": "code",
   "execution_count": 7,
   "metadata": {
    "deletable": false,
    "editable": false,
    "nbgrader": {
     "cell_type": "code",
     "checksum": "d21184a60c290988e75a86c166471a5d",
     "grade": true,
     "grade_id": "cell-8a2c66ce17162ab8",
     "locked": true,
     "points": 2,
     "schema_version": 3,
     "solution": false,
     "task": false
    }
   },
   "outputs": [],
   "source": [
    "# check that the variable exists\n",
    "assert 'answer2_b' in globals(\n",
    "), \"Please make sure that your solution is named 'answer2_b'\"\n",
    "\n",
    "# This test has been intentionally hidden. It will be up to you to decide if your solution\n",
    "# is sufficiently good."
   ]
  },
  {
   "cell_type": "markdown",
   "metadata": {},
   "source": [
    "**Question 2(c)** <br> {points: 1}  \n",
    "\n",
    "Let's try the same time with a new dataframe below: \n",
    "\n",
    "|  | show_id| categ|title|director| cast|us_made|date_added|release_year| rating| duration| listed_in| description|\n",
    "|--:|:-------|:----|:-----|:--------|:----|:------|:---------|-----------:|:------|:--------|:---------|------------:|\n",
    "|**0**| 70044595  | Movie   | Monster House   | Gil Kenan   | [Mitchel Musso, Sam Lerner, Spencer Locke, Steve Buscemi, Kathleen Turner, Jason Lee, Jon Heder, Maggie Gyllenhaal] | TRue  | 01-Nov-19  | 2006 | PG  | 91 min | Children & Family Movies, Comedies   |  NaN |\n",
    "|**1**| 7oo56441  | Movie   | Teenage Mutant Ninja Turtles| Kevin Munroe    | [Chris Evans, Sarah Michelle Gellar, Mako Iwamatsu, Kevin Smith, Patrick Stewart, Zhang Ziyi, Laurence Fishburne]   | NaN| 01-May-19|2007 | PG| 87 min     | Children & Family Movies, Comedies   |NaN |\n",
    "|**2**| 80164032  | Movie   | A Plastic Ocean| NaN | Tanya Streeter | False| 04-Oct-19|2016 | PG       | 100 min    | Documentaries  |NaN |\n",
    "|**3**| 80036412  | TV Show | A.D. Kingdom and Empire  | NaN | [Juan Pablo Di Pace, Adam Levy, Chipo Chung, Babou Ceesay, Emmett Scanlan, Will Thorp, Richard Coyle] | True.     | 15-Dec-17|2015 | 14| 46 mins| TV Dramas|NaN |\n",
    "|**4**| 70196145  | TV Show | New Girl| NaN| [Zooey Deschanel, Jake Johnson, Max Greenfield, Hannah Simone, Lamorne Morris, Damon Wayans Jr.]| True| April 11, 2019 |2017 | 14| 28 mins  | Romantic TV Shows, TV Comedies|NaN |\n",
    "|**5**| 60029154  | Movie| Terminator 3: Rise of the Machines | Jonathan Mostow | [Arnold Schwarzenegger, Nick Stahl, Claire Danes, Kristanna Loken, David Andrews, Mark Famiglietti]| True| 01-Jan-20|2003 | R| 109 min    | Action & Adventure, Sci-Fi & Fantasy |NaN |\n",
    "\n",
    "What are the data types of the values within each column?\n",
    "\n",
    "Save your answers as a string in an object named with the column label.      \n",
    "Remember you can chose from the following data types: \n",
    "\n",
    "- `str` \n",
    "- `int`   \n",
    "- `float`   \n",
    "- `Timestamp`   \n",
    "- `bool`   \n"
   ]
  },
  {
   "cell_type": "code",
   "execution_count": 8,
   "metadata": {
    "deletable": false,
    "nbgrader": {
     "cell_type": "code",
     "checksum": "37ef25f5c5883615de8839d00f7e5116",
     "grade": false,
     "grade_id": "cell-e9ff05447014e52d",
     "locked": false,
     "schema_version": 3,
     "solution": true,
     "task": false
    }
   },
   "outputs": [],
   "source": [
    "show_id = 'str' \n",
    "categ = 'str'\n",
    "title = 'str' \n",
    "director = 'str'\n",
    "cast = 'str'\n",
    "us_made = 'str'\n",
    "date_added = 'str'\n",
    "release_year = 'int'\n",
    "rating = 'str'\n",
    "duration = 'str'\n",
    "listed_in = 'str'\n",
    "description = 'float'"
   ]
  },
  {
   "cell_type": "code",
   "execution_count": 9,
   "metadata": {
    "deletable": false,
    "editable": false,
    "nbgrader": {
     "cell_type": "code",
     "checksum": "fd2e12fb3ed2be356adb2b2b14b646ad",
     "grade": true,
     "grade_id": "cell-499dd84702e1817a",
     "locked": true,
     "points": 1,
     "schema_version": 3,
     "solution": false,
     "task": false
    }
   },
   "outputs": [
    {
     "data": {
      "text/plain": [
       "'Success'"
      ]
     },
     "execution_count": 9,
     "metadata": {},
     "output_type": "execute_result"
    }
   ],
   "source": [
    "t.test_2c([show_id,categ,title,director,cast,us_made,date_added,release_year,\n",
    "         rating,duration,listed_in,description])"
   ]
  },
  {
   "cell_type": "markdown",
   "metadata": {},
   "source": [
    "# 3. Gapminder "
   ]
  },
  {
   "cell_type": "markdown",
   "metadata": {},
   "source": [
    "Remember the`gapminder.csv` data that we used in Assignment 3. "
   ]
  },
  {
   "cell_type": "code",
   "execution_count": 10,
   "metadata": {},
   "outputs": [
    {
     "data": {
      "text/html": [
       "<div>\n",
       "<style scoped>\n",
       "    .dataframe tbody tr th:only-of-type {\n",
       "        vertical-align: middle;\n",
       "    }\n",
       "\n",
       "    .dataframe tbody tr th {\n",
       "        vertical-align: top;\n",
       "    }\n",
       "\n",
       "    .dataframe thead th {\n",
       "        text-align: right;\n",
       "    }\n",
       "</style>\n",
       "<table border=\"1\" class=\"dataframe\">\n",
       "  <thead>\n",
       "    <tr style=\"text-align: right;\">\n",
       "      <th></th>\n",
       "      <th>Country</th>\n",
       "      <th>2012</th>\n",
       "      <th>2013</th>\n",
       "      <th>2014</th>\n",
       "      <th>2015</th>\n",
       "      <th>2016</th>\n",
       "    </tr>\n",
       "  </thead>\n",
       "  <tbody>\n",
       "    <tr>\n",
       "      <th>0</th>\n",
       "      <td>Afghanistan</td>\n",
       "      <td>31200000</td>\n",
       "      <td>32300000</td>\n",
       "      <td>33400000</td>\n",
       "      <td>34400000</td>\n",
       "      <td>35400000</td>\n",
       "    </tr>\n",
       "    <tr>\n",
       "      <th>1</th>\n",
       "      <td>Albania</td>\n",
       "      <td>2910000</td>\n",
       "      <td>2900000</td>\n",
       "      <td>2900000</td>\n",
       "      <td>2890000</td>\n",
       "      <td>2890000</td>\n",
       "    </tr>\n",
       "    <tr>\n",
       "      <th>2</th>\n",
       "      <td>Algeria</td>\n",
       "      <td>37400000</td>\n",
       "      <td>38100000</td>\n",
       "      <td>38900000</td>\n",
       "      <td>39700000</td>\n",
       "      <td>40600000</td>\n",
       "    </tr>\n",
       "    <tr>\n",
       "      <th>3</th>\n",
       "      <td>Andorra</td>\n",
       "      <td>82400</td>\n",
       "      <td>80800</td>\n",
       "      <td>79200</td>\n",
       "      <td>78000</td>\n",
       "      <td>77300</td>\n",
       "    </tr>\n",
       "    <tr>\n",
       "      <th>4</th>\n",
       "      <td>Angola</td>\n",
       "      <td>25100000</td>\n",
       "      <td>26000000</td>\n",
       "      <td>26900000</td>\n",
       "      <td>27900000</td>\n",
       "      <td>28800000</td>\n",
       "    </tr>\n",
       "    <tr>\n",
       "      <th>...</th>\n",
       "      <td>...</td>\n",
       "      <td>...</td>\n",
       "      <td>...</td>\n",
       "      <td>...</td>\n",
       "      <td>...</td>\n",
       "      <td>...</td>\n",
       "    </tr>\n",
       "    <tr>\n",
       "      <th>190</th>\n",
       "      <td>Venezuela</td>\n",
       "      <td>29400000</td>\n",
       "      <td>29800000</td>\n",
       "      <td>30000000</td>\n",
       "      <td>30100000</td>\n",
       "      <td>29900000</td>\n",
       "    </tr>\n",
       "    <tr>\n",
       "      <th>191</th>\n",
       "      <td>Vietnam</td>\n",
       "      <td>89800000</td>\n",
       "      <td>90800000</td>\n",
       "      <td>91700000</td>\n",
       "      <td>92700000</td>\n",
       "      <td>93600000</td>\n",
       "    </tr>\n",
       "    <tr>\n",
       "      <th>192</th>\n",
       "      <td>Yemen</td>\n",
       "      <td>24500000</td>\n",
       "      <td>25100000</td>\n",
       "      <td>25800000</td>\n",
       "      <td>26500000</td>\n",
       "      <td>27200000</td>\n",
       "    </tr>\n",
       "    <tr>\n",
       "      <th>193</th>\n",
       "      <td>Zambia</td>\n",
       "      <td>14500000</td>\n",
       "      <td>14900000</td>\n",
       "      <td>15400000</td>\n",
       "      <td>15900000</td>\n",
       "      <td>16400000</td>\n",
       "    </tr>\n",
       "    <tr>\n",
       "      <th>194</th>\n",
       "      <td>Zimbabwe</td>\n",
       "      <td>13100000</td>\n",
       "      <td>13400000</td>\n",
       "      <td>13600000</td>\n",
       "      <td>13800000</td>\n",
       "      <td>14000000</td>\n",
       "    </tr>\n",
       "  </tbody>\n",
       "</table>\n",
       "<p>195 rows × 6 columns</p>\n",
       "</div>"
      ],
      "text/plain": [
       "         Country      2012      2013      2014      2015      2016\n",
       "0    Afghanistan  31200000  32300000  33400000  34400000  35400000\n",
       "1        Albania   2910000   2900000   2900000   2890000   2890000\n",
       "2        Algeria  37400000  38100000  38900000  39700000  40600000\n",
       "3        Andorra     82400     80800     79200     78000     77300\n",
       "4         Angola  25100000  26000000  26900000  27900000  28800000\n",
       "..           ...       ...       ...       ...       ...       ...\n",
       "190    Venezuela  29400000  29800000  30000000  30100000  29900000\n",
       "191      Vietnam  89800000  90800000  91700000  92700000  93600000\n",
       "192        Yemen  24500000  25100000  25800000  26500000  27200000\n",
       "193       Zambia  14500000  14900000  15400000  15900000  16400000\n",
       "194     Zimbabwe  13100000  13400000  13600000  13800000  14000000\n",
       "\n",
       "[195 rows x 6 columns]"
      ]
     },
     "execution_count": 10,
     "metadata": {},
     "output_type": "execute_result"
    }
   ],
   "source": [
    "gapminder = pd.read_csv('data/gapminder.csv')\n",
    "gapminder"
   ]
  },
  {
   "cell_type": "markdown",
   "metadata": {},
   "source": [
    "**Question 3(a)** <br> {points: 1} \n",
    "\n",
    "Use `.dtypes` to find the data type of each column."
   ]
  },
  {
   "cell_type": "code",
   "execution_count": 11,
   "metadata": {
    "deletable": false,
    "nbgrader": {
     "cell_type": "code",
     "checksum": "d60c615acc9e985452ce1b931edb8517",
     "grade": false,
     "grade_id": "cell-43a3fe0102f54fe9",
     "locked": false,
     "schema_version": 3,
     "solution": true,
     "task": false
    }
   },
   "outputs": [
    {
     "name": "stdout",
     "output_type": "stream",
     "text": [
      "object int64 int64 int64 int64 int64\n"
     ]
    }
   ],
   "source": [
    "country = gapminder['Country'].dtype\n",
    "year_2012 = gapminder['2012'].dtype\n",
    "year_2013 = gapminder['2013'].dtype\n",
    "year_2014 = gapminder['2014'].dtype\n",
    "year_2015 = gapminder['2015'].dtype\n",
    "year_2016 = gapminder['2016'].dtype\n",
    "print(country, year_2012, year_2013, year_2014, year_2015, year_2016)"
   ]
  },
  {
   "cell_type": "code",
   "execution_count": 12,
   "metadata": {
    "deletable": false,
    "editable": false,
    "nbgrader": {
     "cell_type": "code",
     "checksum": "74817e80177e6e62454e23860d4bce35",
     "grade": true,
     "grade_id": "cell-d5755344476551c4",
     "locked": true,
     "points": 1,
     "schema_version": 3,
     "solution": false,
     "task": false
    }
   },
   "outputs": [
    {
     "data": {
      "text/plain": [
       "'Success'"
      ]
     },
     "execution_count": 12,
     "metadata": {},
     "output_type": "execute_result"
    }
   ],
   "source": [
    "t.test_3a([country,year_2012,year_2013,year_2014,year_2015,year_2016])"
   ]
  },
  {
   "cell_type": "markdown",
   "metadata": {},
   "source": [
    "**Question 3(b)** <br> {points: 1} \n",
    "\n",
    "Similarly as we did in the last assignment, melt the data to produce a single column named `Year` that contain the years 2012 - 2014 and a new column named `Population` with associated population values. Name the long dataframe `gapminder_long`. \n"
   ]
  },
  {
   "cell_type": "code",
   "execution_count": 13,
   "metadata": {
    "deletable": false,
    "nbgrader": {
     "cell_type": "code",
     "checksum": "210622071f69f70f8bd2a46a4b14da95",
     "grade": false,
     "grade_id": "cell-b9790e4a26b35d2c",
     "locked": false,
     "schema_version": 3,
     "solution": true,
     "task": false
    }
   },
   "outputs": [
    {
     "data": {
      "text/plain": [
       "(585, 3)"
      ]
     },
     "execution_count": 13,
     "metadata": {},
     "output_type": "execute_result"
    }
   ],
   "source": [
    "gapminder_long = pd.melt(gapminder, id_vars=['Country'], value_vars=['2012','2013','2014'],\n",
    "        var_name='Year', value_name='Population')\n",
    "\n",
    "gapminder_long\n",
    "gapminder_long.shape"
   ]
  },
  {
   "cell_type": "code",
   "execution_count": 14,
   "metadata": {
    "deletable": false,
    "editable": false,
    "nbgrader": {
     "cell_type": "code",
     "checksum": "d2d6d9d371d0da7f2e780cb7b29e04b5",
     "grade": true,
     "grade_id": "cell-09e08d60d57a2a2a",
     "locked": true,
     "points": 1,
     "schema_version": 3,
     "solution": false,
     "task": false
    }
   },
   "outputs": [
    {
     "data": {
      "text/plain": [
       "'Success'"
      ]
     },
     "execution_count": 14,
     "metadata": {},
     "output_type": "execute_result"
    }
   ],
   "source": [
    "t.test_3b(gapminder_long)"
   ]
  },
  {
   "cell_type": "markdown",
   "metadata": {},
   "source": [
    "**Question 3(c)** <br> {points: 1} \n",
    "\n",
    "\n",
    "What are the datatypes of the columns `Year` and `Population`in the `gapminder_long` dataframe?   \n",
    " Save them in the objects named `Year_type` and `Population_type`."
   ]
  },
  {
   "cell_type": "code",
   "execution_count": 15,
   "metadata": {
    "deletable": false,
    "nbgrader": {
     "cell_type": "code",
     "checksum": "78bcf665ea538f54293ef57dcd3cc623",
     "grade": false,
     "grade_id": "cell-68ddafc972be022a",
     "locked": false,
     "schema_version": 3,
     "solution": true,
     "task": false
    }
   },
   "outputs": [
    {
     "name": "stdout",
     "output_type": "stream",
     "text": [
      "object\n",
      "int64\n"
     ]
    }
   ],
   "source": [
    "Year_type = gapminder_long['Year'].dtype\n",
    "Population_type = gapminder_long['Population'].dtype\n",
    "\n",
    "print(Year_type)\n",
    "print(Population_type)"
   ]
  },
  {
   "cell_type": "code",
   "execution_count": 16,
   "metadata": {
    "deletable": false,
    "editable": false,
    "nbgrader": {
     "cell_type": "code",
     "checksum": "5569314c1c16ad677dc1b02cd81bba91",
     "grade": true,
     "grade_id": "cell-a1d43232711c4f89",
     "locked": true,
     "points": 1,
     "schema_version": 3,
     "solution": false,
     "task": false
    }
   },
   "outputs": [
    {
     "data": {
      "text/plain": [
       "'Success'"
      ]
     },
     "execution_count": 16,
     "metadata": {},
     "output_type": "execute_result"
    }
   ],
   "source": [
    "t.test_3c([Year_type,Population_type])"
   ]
  },
  {
   "cell_type": "markdown",
   "metadata": {},
   "source": [
    "**Question 3(d)** <br> {points: 2} \n",
    "\n",
    "If we attempt to take the range of the years in the data we obtain the following error: "
   ]
  },
  {
   "cell_type": "code",
   "execution_count": 17,
   "metadata": {},
   "outputs": [],
   "source": [
    "# Uncomment the code below to see the error\n",
    "# max(gapminder_long['Year']) - min(gapminder_long['Year'])"
   ]
  },
  {
   "cell_type": "markdown",
   "metadata": {},
   "source": [
    "Which of the following most appropriately explains what is happening with the `Year` variable. \n",
    "\n",
    "\n",
    "A) When `.melt()` was used, it converted the `Year` values from data types `int` to `str`.  \n",
    "\n",
    "B) The `Year` column labels were always of type `str`. When melted, it converted the labels to cell values so the labels became cell values of type `str` and we cannot use a subtraction operator on values of type `str`. \n",
    "\n",
    "C) The `Year` column labels were always of type `str`. When melted, it converted the labels to cell values so the labels became cell values of type `str`  and we cannot use the verbs `max()` and `min()` on values of type `str`. \n",
    "\n",
    "D) There is no column named `Year` and so the code cannot execute. \n",
    "\n",
    "*Answer in the cell below using the uppercase letter associated with your answer. Place your answer between `\"\"`, assign the correct answer to an object called `answer3_d`.*"
   ]
  },
  {
   "cell_type": "code",
   "execution_count": 18,
   "metadata": {
    "deletable": false,
    "nbgrader": {
     "cell_type": "code",
     "checksum": "9b0c0b76d8174ddefa464dd6fc6c235f",
     "grade": false,
     "grade_id": "cell-d7eb6e529f418cad",
     "locked": false,
     "schema_version": 3,
     "solution": true,
     "task": false
    }
   },
   "outputs": [],
   "source": [
    "answer3_d = 'A'"
   ]
  },
  {
   "cell_type": "code",
   "execution_count": 19,
   "metadata": {
    "deletable": false,
    "editable": false,
    "nbgrader": {
     "cell_type": "code",
     "checksum": "bb5db66f6028b9397776fa7dbb34928f",
     "grade": true,
     "grade_id": "cell-b356d614209a82a2",
     "locked": true,
     "points": 2,
     "schema_version": 3,
     "solution": false,
     "task": false
    }
   },
   "outputs": [],
   "source": [
    "# check that the variable exists\n",
    "assert 'answer3_d' in globals(\n",
    "), \"Please make sure that your solution is named 'answer3_d'\"\n",
    "\n",
    "# This test has been intentionally hidden. It will be up to you to decide if your solution\n",
    "# is sufficiently good."
   ]
  },
  {
   "cell_type": "markdown",
   "metadata": {},
   "source": [
    "**Question 3(e)** <br> {points: 1} \n",
    "\n",
    "\n",
    "Tranform the column `Year` in the `gapminder_long` dataframe into a more appropriate dtype.     \n",
    "Name the new dataframe object `gm_long_fixed`."
   ]
  },
  {
   "cell_type": "code",
   "execution_count": 20,
   "metadata": {
    "deletable": false,
    "nbgrader": {
     "cell_type": "code",
     "checksum": "bbc6042486494b17ef504308147c9885",
     "grade": false,
     "grade_id": "cell-10b02c1e5055cd3a",
     "locked": false,
     "schema_version": 3,
     "solution": true,
     "task": false
    }
   },
   "outputs": [],
   "source": [
    "gm_long_fixed = gapminder_long.astype({'Year':'int64'})"
   ]
  },
  {
   "cell_type": "code",
   "execution_count": 21,
   "metadata": {
    "deletable": false,
    "editable": false,
    "nbgrader": {
     "cell_type": "code",
     "checksum": "208dc4d9bbf895844d25e2e6f1a06d73",
     "grade": true,
     "grade_id": "cell-15fc50ced0793e77",
     "locked": true,
     "points": 1,
     "schema_version": 3,
     "solution": false,
     "task": false
    }
   },
   "outputs": [
    {
     "data": {
      "text/plain": [
       "'Success'"
      ]
     },
     "execution_count": 21,
     "metadata": {},
     "output_type": "execute_result"
    }
   ],
   "source": [
    "t.test_3e(gm_long_fixed)"
   ]
  },
  {
   "cell_type": "markdown",
   "metadata": {},
   "source": [
    "**Question 3(f)** <br> {points: 1} \n",
    "\n",
    "After casting the column `Year` into a more appropriate data type, does the code for obtaining the range of years in the data (from question 3d) execute without errors with `gm_long_fixed`? \n",
    "\n",
    "A) No, since the verbs `max()` and `min()` cannot be used on values with the new data type.\n",
    "\n",
    "B) No, since subtraction cannot be done on on values with the new data type.\n",
    "\n",
    "C) Yes it executes and the range is 2.\n",
    "\n",
    "D) Yes, it executes and the range is 1. \n",
    "\n",
    "*Answer in the cell below using the uppercase letter associated with your answer. Place your answer between `\"\"`, assign the correct answer to an object called `answer3_f`.*"
   ]
  },
  {
   "cell_type": "code",
   "execution_count": 22,
   "metadata": {
    "deletable": false,
    "nbgrader": {
     "cell_type": "code",
     "checksum": "1d45ad94700ac82d75684583473ccd8c",
     "grade": false,
     "grade_id": "cell-073b3d477d49274b",
     "locked": false,
     "schema_version": 3,
     "solution": true,
     "task": false
    }
   },
   "outputs": [],
   "source": [
    "answer3_f = 'C'"
   ]
  },
  {
   "cell_type": "code",
   "execution_count": 23,
   "metadata": {
    "deletable": false,
    "editable": false,
    "nbgrader": {
     "cell_type": "code",
     "checksum": "d68150c1f4c6ed05a2dae920dfbd09f3",
     "grade": true,
     "grade_id": "cell-4b62ed87febc005d",
     "locked": true,
     "points": 1,
     "schema_version": 3,
     "solution": false,
     "task": false
    }
   },
   "outputs": [
    {
     "data": {
      "text/plain": [
       "'Success'"
      ]
     },
     "execution_count": 23,
     "metadata": {},
     "output_type": "execute_result"
    }
   ],
   "source": [
    "t.test_3f(answer3_f)"
   ]
  },
  {
   "cell_type": "markdown",
   "metadata": {},
   "source": [
    "## 4. Lists, Sets and Tuples "
   ]
  },
  {
   "cell_type": "markdown",
   "metadata": {},
   "source": [
    "**Question 4** <br> {points: 10}  \n",
    "\n",
    "Which data structure(s) describe the following statements  (multiple datatypes are possible): \n",
    "\n",
    "    a) Elements cannot be accessed with square brackets \n",
    "    b) Can be sliced, take repeated values, and entries can be changed and edited.   \n",
    "    c) Cannot be sliced and entries can be independently deleted.   \n",
    "    d) A set of key value pairs.  \n",
    "    e) Immutable.  \n",
    "    f) Are created with parentheses.   \n",
    "    g) Can be sliced.   \n",
    "    h) Can be split into their separate entries with `.split()`.  \n",
    "    i) Outputted when using `.split()`.  \n",
    "    j) Are created with curly brackets.    \n",
    "\n",
    " <br> \n",
    "\n",
    "\n",
    "Save all possible answers as strings within a list.      \n",
    "Remember you can chose from the following data types: \n",
    "\n",
    "- `str` \n",
    "- `list`   \n",
    "- `tuple`   \n",
    "- `set`   \n",
    "- `dict`   \n",
    "\n",
    "***Example:***    \n",
    "\n",
    "`answer4_z = ['set', 'dict']`\n",
    "\n"
   ]
  },
  {
   "cell_type": "code",
   "execution_count": 24,
   "metadata": {
    "deletable": false,
    "nbgrader": {
     "cell_type": "code",
     "checksum": "2b64cf94d508b934e6ef1bfecb2acf80",
     "grade": false,
     "grade_id": "cell-9d07992c6bd83587",
     "locked": false,
     "schema_version": 3,
     "solution": true,
     "task": false
    }
   },
   "outputs": [],
   "source": [
    "answer4_a = ['set']\n",
    "answer4_b = ['list']\n",
    "answer4_c = ['dict','set']\n",
    "answer4_d = ['dict']\n",
    "answer4_e = ['tuple', 'str']\n",
    "answer4_f = ['tuple']\n",
    "answer4_g = ['str', 'list','tuple']\n",
    "answer4_h = ['str']\n",
    "answer4_i = ['list']\n",
    "answer4_j = ['set','dict']"
   ]
  },
  {
   "cell_type": "code",
   "execution_count": 25,
   "metadata": {
    "deletable": false,
    "editable": false,
    "nbgrader": {
     "cell_type": "code",
     "checksum": "3cd680724dd7a06c5f68127e57418375",
     "grade": true,
     "grade_id": "cell-12bb2d09caa43239",
     "locked": true,
     "points": 10,
     "schema_version": 3,
     "solution": false,
     "task": false
    }
   },
   "outputs": [
    {
     "data": {
      "text/plain": [
       "'Success'"
      ]
     },
     "execution_count": 25,
     "metadata": {},
     "output_type": "execute_result"
    }
   ],
   "source": [
    "t.test_4a([sorted(answer4_a),sorted(answer4_b),sorted(answer4_c),sorted(answer4_d),sorted(answer4_e),\n",
    "          sorted(answer4_f),sorted(answer4_g),\n",
    "         sorted(answer4_h),sorted(answer4_i),sorted(answer4_j)])"
   ]
  },
  {
   "cell_type": "markdown",
   "metadata": {},
   "source": [
    "## 5. Workforce Pay Rates"
   ]
  },
  {
   "cell_type": "markdown",
   "metadata": {},
   "source": [
    "The data named `workforce-pay-rates-and-gender.csv`  was aquired from the [City of Vancouver's Open Data Portal](https://opendata.vancouver.ca/explore/dataset/workforce-pay-rates-and-gender/information/?sort=classification). \n",
    "It provides a look at the range of hourly wages for city jobs across Vancouver including the gender of staff within sector classification.  \n",
    "\n",
    "***Note: many popular datasets have sex as a feature where the possible values are male and female. This representation reflects how the data were collected and is not meant to imply that, for example, gender is binary.***\n",
    "\n"
   ]
  },
  {
   "cell_type": "markdown",
   "metadata": {},
   "source": [
    "The data we are reading in is contained in a json file. It looks like the output of the object `data` below."
   ]
  },
  {
   "cell_type": "code",
   "execution_count": 26,
   "metadata": {},
   "outputs": [],
   "source": [
    "# ignore this code and instead focus on the output of data in the next cell\n",
    "import json\n",
    "\n",
    "with open('data/workforce-pay-rates-and-gender.json') as file:\n",
    "    data = json.load(file)"
   ]
  },
  {
   "cell_type": "code",
   "execution_count": 27,
   "metadata": {},
   "outputs": [
    {
     "data": {
      "text/plain": [
       "{'Year': {'0': 2019,\n",
       "  '1': 2019,\n",
       "  '2': 2019,\n",
       "  '3': 2019,\n",
       "  '4': 2019,\n",
       "  '5': 2019,\n",
       "  '6': 2019,\n",
       "  '7': 2019,\n",
       "  '8': 2019,\n",
       "  '9': 2019,\n",
       "  '10': 2019,\n",
       "  '11': 2019,\n",
       "  '12': 2019,\n",
       "  '13': 2019,\n",
       "  '14': 2019,\n",
       "  '15': 2019,\n",
       "  '16': 2019,\n",
       "  '17': 2019,\n",
       "  '18': 2019,\n",
       "  '19': 2019,\n",
       "  '20': 2019,\n",
       "  '21': 2019,\n",
       "  '22': 2019,\n",
       "  '23': 2019,\n",
       "  '24': 2019,\n",
       "  '25': 2019,\n",
       "  '26': 2019,\n",
       "  '27': 2019,\n",
       "  '28': 2019,\n",
       "  '29': 2019,\n",
       "  '30': 2019,\n",
       "  '31': 2019,\n",
       "  '32': 2019,\n",
       "  '33': 2019,\n",
       "  '34': 2019,\n",
       "  '35': 2019,\n",
       "  '36': 2019,\n",
       "  '37': 2019,\n",
       "  '38': 2019,\n",
       "  '39': 2019,\n",
       "  '40': 2019,\n",
       "  '41': 2019,\n",
       "  '42': 2019,\n",
       "  '43': 2019,\n",
       "  '44': 2019,\n",
       "  '45': 2019,\n",
       "  '46': 2019,\n",
       "  '47': 2019,\n",
       "  '48': 2019,\n",
       "  '49': 2019,\n",
       "  '50': 2019,\n",
       "  '51': 2019,\n",
       "  '52': 2019,\n",
       "  '53': 2019,\n",
       "  '54': 2019,\n",
       "  '55': 2019,\n",
       "  '56': 2019,\n",
       "  '57': 2019,\n",
       "  '58': 2019,\n",
       "  '59': 2019,\n",
       "  '60': 2019,\n",
       "  '61': 2019,\n",
       "  '62': 2019,\n",
       "  '63': 2019,\n",
       "  '64': 2019,\n",
       "  '65': 2019,\n",
       "  '66': 2019,\n",
       "  '67': 2019,\n",
       "  '68': 2019,\n",
       "  '69': 2019,\n",
       "  '70': 2019,\n",
       "  '71': 2019,\n",
       "  '72': 2019,\n",
       "  '73': 2019,\n",
       "  '74': 2019,\n",
       "  '75': 2019,\n",
       "  '76': 2019,\n",
       "  '77': 2019,\n",
       "  '78': 2019,\n",
       "  '79': 2019,\n",
       "  '80': 2019,\n",
       "  '81': 2019,\n",
       "  '82': 2019,\n",
       "  '83': 2019,\n",
       "  '84': 2019,\n",
       "  '85': 2019,\n",
       "  '86': 2019,\n",
       "  '87': 2019,\n",
       "  '88': 2019,\n",
       "  '89': 2019,\n",
       "  '90': 2019,\n",
       "  '91': 2019,\n",
       "  '92': 2019,\n",
       "  '93': 2019,\n",
       "  '94': 2019,\n",
       "  '95': 2019,\n",
       "  '96': 2019,\n",
       "  '97': 2019,\n",
       "  '98': 2019,\n",
       "  '99': 2019,\n",
       "  '100': 2019,\n",
       "  '101': 2019,\n",
       "  '102': 2019,\n",
       "  '103': 2019,\n",
       "  '104': 2019,\n",
       "  '105': 2019,\n",
       "  '106': 2019,\n",
       "  '107': 2019,\n",
       "  '108': 2019,\n",
       "  '109': 2019,\n",
       "  '110': 2019,\n",
       "  '111': 2019,\n",
       "  '112': 2019,\n",
       "  '113': 2019,\n",
       "  '114': 2019,\n",
       "  '115': 2019,\n",
       "  '116': 2019,\n",
       "  '117': 2019,\n",
       "  '118': 2019,\n",
       "  '119': 2019,\n",
       "  '120': 2019,\n",
       "  '121': 2019,\n",
       "  '122': 2019,\n",
       "  '123': 2019,\n",
       "  '124': 2019,\n",
       "  '125': 2019,\n",
       "  '126': 2019,\n",
       "  '127': 2019,\n",
       "  '128': 2019,\n",
       "  '129': 2019,\n",
       "  '130': 2019,\n",
       "  '131': 2019,\n",
       "  '132': 2019,\n",
       "  '133': 2019,\n",
       "  '134': 2019,\n",
       "  '135': 2019,\n",
       "  '136': 2019,\n",
       "  '137': 2019,\n",
       "  '138': 2019,\n",
       "  '139': 2019,\n",
       "  '140': 2019,\n",
       "  '141': 2019,\n",
       "  '142': 2019,\n",
       "  '143': 2019,\n",
       "  '144': 2019,\n",
       "  '145': 2019,\n",
       "  '146': 2019,\n",
       "  '147': 2019,\n",
       "  '148': 2019,\n",
       "  '149': 2019,\n",
       "  '150': 2019,\n",
       "  '151': 2019,\n",
       "  '152': 2019,\n",
       "  '153': 2019,\n",
       "  '154': 2019,\n",
       "  '155': 2019,\n",
       "  '156': 2019,\n",
       "  '157': 2019,\n",
       "  '158': 2019,\n",
       "  '159': 2019,\n",
       "  '160': 2019,\n",
       "  '161': 2019,\n",
       "  '162': 2019,\n",
       "  '163': 2019,\n",
       "  '164': 2019,\n",
       "  '165': 2019,\n",
       "  '166': 2019,\n",
       "  '167': 2019,\n",
       "  '168': 2019,\n",
       "  '169': 2019,\n",
       "  '170': 2019,\n",
       "  '171': 2019,\n",
       "  '172': 2019,\n",
       "  '173': 2019,\n",
       "  '174': 2019,\n",
       "  '175': 2019,\n",
       "  '176': 2019,\n",
       "  '177': 2019,\n",
       "  '178': 2019,\n",
       "  '179': 2019,\n",
       "  '180': 2019,\n",
       "  '181': 2019,\n",
       "  '182': 2019,\n",
       "  '183': 2019,\n",
       "  '184': 2019,\n",
       "  '185': 2019,\n",
       "  '186': 2019,\n",
       "  '187': 2019,\n",
       "  '188': 2019},\n",
       " 'Classification': {'0': 'Administrative Manager 3',\n",
       "  '1': 'General Manager 2',\n",
       "  '2': 'Manager 1',\n",
       "  '3': 'Manager 3',\n",
       "  '4': 'Operations Manager 0',\n",
       "  '5': 'Operations Manager 2',\n",
       "  '6': 'Operations Manager 4',\n",
       "  '7': 'Professional 1',\n",
       "  '8': 'Professional 3',\n",
       "  '9': 'Professional Trainee',\n",
       "  '10': 'Senior Manager 3',\n",
       "  '11': 'Aquatic II',\n",
       "  '12': 'Construction III',\n",
       "  '13': 'Construction IIIa',\n",
       "  '14': 'Construction V',\n",
       "  '15': 'Construction Va',\n",
       "  '16': 'Equipment Operator IV',\n",
       "  '17': 'Support Worker I',\n",
       "  '18': 'Support Worker II',\n",
       "  '19': 'Trades I',\n",
       "  '20': 'Trades II',\n",
       "  '21': 'Trades III',\n",
       "  '22': 'Truck Driver I',\n",
       "  '23': 'Truck Driver IIIa',\n",
       "  '24': 'Worker I',\n",
       "  '25': 'Worker II',\n",
       "  '26': 'WORKER Vb',\n",
       "  '27': 'Working Supervisor II',\n",
       "  '28': 'Admin Support V',\n",
       "  '29': 'Administrative Assistant IVa',\n",
       "  '30': 'Administrative Support VI',\n",
       "  '31': 'Facility Support 10',\n",
       "  '32': 'IT A',\n",
       "  '33': 'IT IIa',\n",
       "  '34': 'IT V',\n",
       "  '35': 'IT VIII',\n",
       "  '36': 'Operational Support I',\n",
       "  '37': 'Operational Support III',\n",
       "  '38': 'Operational Support IVa',\n",
       "  '39': 'Operational Support V',\n",
       "  '40': 'Operational Support VI',\n",
       "  '41': 'Operational Support VIIa',\n",
       "  '42': 'Operational Support VIII',\n",
       "  '43': 'Operations Support IX',\n",
       "  '44': 'Policy Management IIIa',\n",
       "  '45': 'Program Delivery Ia',\n",
       "  '46': 'Program Delivery III',\n",
       "  '47': 'Program Delivery IIIa',\n",
       "  '48': 'Program Delivery IVa',\n",
       "  '49': 'Program Delivery V',\n",
       "  '50': 'Program Delivery VI',\n",
       "  '51': 'Program Delivery VII',\n",
       "  '52': 'Program Support V',\n",
       "  '53': 'Program Support VII',\n",
       "  '54': 'Regulatory Ia',\n",
       "  '55': 'Regulatory III',\n",
       "  '56': 'Regulatory VII',\n",
       "  '57': 'SUPERVISOR - REGULATORY',\n",
       "  '58': 'Battalion Chief Fire',\n",
       "  '59': 'Fire Prevention Inspector',\n",
       "  '60': 'Lieutenant  Fire',\n",
       "  '61': 'Machinist Mechanic Fire',\n",
       "  '62': 'Theatre Technician II',\n",
       "  '63': 'Theatre Technician III',\n",
       "  '64': 'Engineering Operations Branch Trades',\n",
       "  '65': 'Regulatory Vb',\n",
       "  '66': 'Regulatory VI',\n",
       "  '67': 'Regulatory VIII',\n",
       "  '68': 'Administrative Assistant 4',\n",
       "  '69': 'Administrative Manager 1',\n",
       "  '70': 'City Manager',\n",
       "  '71': 'General Manager 1',\n",
       "  '72': 'Legal 2',\n",
       "  '73': 'Operations Manager 1',\n",
       "  '74': 'Professional 2',\n",
       "  '75': 'Professional 4',\n",
       "  '76': 'Senior Manager 2',\n",
       "  '77': 'Aquatic III',\n",
       "  '78': 'Construction Coordinator',\n",
       "  '79': 'Construction II',\n",
       "  '80': 'Construction IV',\n",
       "  '81': 'Equipment Operator IVb',\n",
       "  '82': 'Trades Apprentice',\n",
       "  '83': 'Trades Ia',\n",
       "  '84': 'Trades IIa',\n",
       "  '85': 'Trades IIb',\n",
       "  '86': 'Trades IV',\n",
       "  '87': 'Truck Driver II',\n",
       "  '88': 'Truck Driver III',\n",
       "  '89': 'Worker VII',\n",
       "  '90': 'Working Foreman',\n",
       "  '91': 'Working Supervisor I',\n",
       "  '92': 'Working Supervisor III',\n",
       "  '93': 'Working Supervisor IV',\n",
       "  '94': 'Admin Management V',\n",
       "  '95': 'Admin Management VI',\n",
       "  '96': 'Administrative Management IVa',\n",
       "  '97': 'Facility Support 7',\n",
       "  '98': 'IT III',\n",
       "  '99': 'IT IIIa',\n",
       "  '100': 'IT IVa',\n",
       "  '101': 'IT VIa',\n",
       "  '102': 'Operational Support IIa',\n",
       "  '103': 'Operational Support IV',\n",
       "  '104': 'Operational Support Va',\n",
       "  '105': 'Operational Support VIa',\n",
       "  '106': 'Operational Support VII',\n",
       "  '107': 'Operational Support VIIIa',\n",
       "  '108': 'Operational Support X',\n",
       "  '109': 'Policy Management I',\n",
       "  '110': 'Policy Management IIa',\n",
       "  '111': 'Program Delivery IIa',\n",
       "  '112': 'Program Support I',\n",
       "  '113': 'Regulatory I',\n",
       "  '114': 'Regulatory II',\n",
       "  '115': 'Regulatory IVa',\n",
       "  '116': 'Regulatory Va',\n",
       "  '117': 'Regulatory VI',\n",
       "  '118': 'Technical Assistant II',\n",
       "  '119': 'Fire Prevention Lieutenant',\n",
       "  '120': 'Theatre Casual I',\n",
       "  '121': 'Theatre Casual IV',\n",
       "  '122': 'Theatre Technician I',\n",
       "  '123': 'Engineering Operations Branch Helper',\n",
       "  '124': 'Trades Supervisor II',\n",
       "  '125': 'Administrative Assistant 3',\n",
       "  '126': 'Administrative Manager 2',\n",
       "  '127': 'Executive Assistant 1',\n",
       "  '128': 'Legal 3',\n",
       "  '129': 'Manager 2',\n",
       "  '130': 'Operations Manager',\n",
       "  '131': 'Operations Manager 3',\n",
       "  '132': 'Senior Manager 1',\n",
       "  '133': 'Aquatic I',\n",
       "  '134': 'Equipment Operator II',\n",
       "  '135': 'Equipment Operator III',\n",
       "  '136': 'Equipment Operator IVa',\n",
       "  '137': 'Equipment Operator V',\n",
       "  '138': 'Trades Ib',\n",
       "  '139': 'Trades IIIb',\n",
       "  '140': 'Truck Driver IV',\n",
       "  '141': 'Worker III',\n",
       "  '142': 'Worker IV',\n",
       "  '143': 'Worker V',\n",
       "  '144': 'WORKER VI',\n",
       "  '145': 'Working Supervisor IX',\n",
       "  '146': 'WORKING SUPERVISOR Vb',\n",
       "  '147': 'Working Supervisor VIII',\n",
       "  '148': 'Admin Management I',\n",
       "  '149': 'Admin Management Ia',\n",
       "  '150': 'Admin Management IIa',\n",
       "  '151': 'Admin Management III',\n",
       "  '152': 'Admin Management IIIa',\n",
       "  '153': 'Admin Management IV',\n",
       "  '154': 'Admin Support I',\n",
       "  '155': 'Admin Support Ia',\n",
       "  '156': 'Admin Support II',\n",
       "  '157': 'Admin Support IIa',\n",
       "  '158': 'Admin Support III',\n",
       "  '159': 'Admin Support IIIa',\n",
       "  '160': 'Admin Support IV',\n",
       "  '161': 'Admin Support IVa',\n",
       "  '162': 'Admin Support Va',\n",
       "  '163': 'IT Ia',\n",
       "  '164': 'IT Ib',\n",
       "  '165': 'IT II',\n",
       "  '166': 'Operational Support AI',\n",
       "  '167': 'Operational Support Ia',\n",
       "  '168': 'Operational Support II',\n",
       "  '169': 'Operational Support IIIa',\n",
       "  '170': 'Policy Management Ia',\n",
       "  '171': 'Program Delivery IV',\n",
       "  '172': 'Program Support II',\n",
       "  '173': 'Program Support III',\n",
       "  '174': 'Program Support VIa',\n",
       "  '175': 'Regulatory IV',\n",
       "  '176': 'Regulatory V',\n",
       "  '177': 'Regulatory VIII',\n",
       "  '178': 'Technical Assistant I',\n",
       "  '179': 'Assistant Master Mechanic Fire',\n",
       "  '180': 'Captain Fire',\n",
       "  '181': 'Fire Prevention Captain',\n",
       "  '182': 'Firefighter',\n",
       "  '183': 'Investigator',\n",
       "  '184': 'Lead Mechanic',\n",
       "  '185': 'Training Officer Fire',\n",
       "  '186': 'Theatre Casual V',\n",
       "  '187': 'Theatre Technician',\n",
       "  '188': 'Electrical Apprentice'},\n",
       " 'Union': {'0': False,\n",
       "  '1': False,\n",
       "  '2': False,\n",
       "  '3': False,\n",
       "  '4': False,\n",
       "  '5': False,\n",
       "  '6': False,\n",
       "  '7': False,\n",
       "  '8': False,\n",
       "  '9': False,\n",
       "  '10': False,\n",
       "  '11': True,\n",
       "  '12': True,\n",
       "  '13': True,\n",
       "  '14': True,\n",
       "  '15': True,\n",
       "  '16': True,\n",
       "  '17': True,\n",
       "  '18': True,\n",
       "  '19': True,\n",
       "  '20': True,\n",
       "  '21': True,\n",
       "  '22': True,\n",
       "  '23': True,\n",
       "  '24': True,\n",
       "  '25': True,\n",
       "  '26': True,\n",
       "  '27': True,\n",
       "  '28': True,\n",
       "  '29': True,\n",
       "  '30': True,\n",
       "  '31': True,\n",
       "  '32': True,\n",
       "  '33': True,\n",
       "  '34': True,\n",
       "  '35': True,\n",
       "  '36': True,\n",
       "  '37': True,\n",
       "  '38': True,\n",
       "  '39': True,\n",
       "  '40': True,\n",
       "  '41': True,\n",
       "  '42': True,\n",
       "  '43': True,\n",
       "  '44': True,\n",
       "  '45': True,\n",
       "  '46': True,\n",
       "  '47': True,\n",
       "  '48': True,\n",
       "  '49': True,\n",
       "  '50': True,\n",
       "  '51': True,\n",
       "  '52': True,\n",
       "  '53': True,\n",
       "  '54': True,\n",
       "  '55': True,\n",
       "  '56': True,\n",
       "  '57': True,\n",
       "  '58': True,\n",
       "  '59': True,\n",
       "  '60': True,\n",
       "  '61': True,\n",
       "  '62': True,\n",
       "  '63': True,\n",
       "  '64': True,\n",
       "  '65': True,\n",
       "  '66': True,\n",
       "  '67': True,\n",
       "  '68': False,\n",
       "  '69': False,\n",
       "  '70': False,\n",
       "  '71': False,\n",
       "  '72': False,\n",
       "  '73': False,\n",
       "  '74': False,\n",
       "  '75': False,\n",
       "  '76': False,\n",
       "  '77': True,\n",
       "  '78': True,\n",
       "  '79': True,\n",
       "  '80': True,\n",
       "  '81': True,\n",
       "  '82': True,\n",
       "  '83': True,\n",
       "  '84': True,\n",
       "  '85': True,\n",
       "  '86': True,\n",
       "  '87': True,\n",
       "  '88': True,\n",
       "  '89': True,\n",
       "  '90': True,\n",
       "  '91': True,\n",
       "  '92': True,\n",
       "  '93': True,\n",
       "  '94': True,\n",
       "  '95': True,\n",
       "  '96': True,\n",
       "  '97': True,\n",
       "  '98': True,\n",
       "  '99': True,\n",
       "  '100': True,\n",
       "  '101': True,\n",
       "  '102': True,\n",
       "  '103': True,\n",
       "  '104': True,\n",
       "  '105': True,\n",
       "  '106': True,\n",
       "  '107': True,\n",
       "  '108': True,\n",
       "  '109': True,\n",
       "  '110': True,\n",
       "  '111': True,\n",
       "  '112': True,\n",
       "  '113': True,\n",
       "  '114': True,\n",
       "  '115': True,\n",
       "  '116': True,\n",
       "  '117': True,\n",
       "  '118': True,\n",
       "  '119': True,\n",
       "  '120': True,\n",
       "  '121': True,\n",
       "  '122': True,\n",
       "  '123': True,\n",
       "  '124': True,\n",
       "  '125': False,\n",
       "  '126': False,\n",
       "  '127': False,\n",
       "  '128': False,\n",
       "  '129': False,\n",
       "  '130': False,\n",
       "  '131': False,\n",
       "  '132': False,\n",
       "  '133': True,\n",
       "  '134': True,\n",
       "  '135': True,\n",
       "  '136': True,\n",
       "  '137': True,\n",
       "  '138': True,\n",
       "  '139': True,\n",
       "  '140': True,\n",
       "  '141': True,\n",
       "  '142': True,\n",
       "  '143': True,\n",
       "  '144': True,\n",
       "  '145': True,\n",
       "  '146': True,\n",
       "  '147': True,\n",
       "  '148': True,\n",
       "  '149': True,\n",
       "  '150': True,\n",
       "  '151': True,\n",
       "  '152': True,\n",
       "  '153': True,\n",
       "  '154': True,\n",
       "  '155': True,\n",
       "  '156': True,\n",
       "  '157': True,\n",
       "  '158': True,\n",
       "  '159': True,\n",
       "  '160': True,\n",
       "  '161': True,\n",
       "  '162': True,\n",
       "  '163': True,\n",
       "  '164': True,\n",
       "  '165': True,\n",
       "  '166': True,\n",
       "  '167': True,\n",
       "  '168': True,\n",
       "  '169': True,\n",
       "  '170': True,\n",
       "  '171': True,\n",
       "  '172': True,\n",
       "  '173': True,\n",
       "  '174': True,\n",
       "  '175': True,\n",
       "  '176': True,\n",
       "  '177': True,\n",
       "  '178': True,\n",
       "  '179': True,\n",
       "  '180': True,\n",
       "  '181': True,\n",
       "  '182': True,\n",
       "  '183': True,\n",
       "  '184': True,\n",
       "  '185': True,\n",
       "  '186': True,\n",
       "  '187': True,\n",
       "  '188': True},\n",
       " 'Minimum hourly rate': {'0': 47.97,\n",
       "  '1': 120.47,\n",
       "  '2': 50.06,\n",
       "  '3': 64.62,\n",
       "  '4': 40.62,\n",
       "  '5': 58.23,\n",
       "  '6': 71.48,\n",
       "  '7': 40.92,\n",
       "  '8': 38.54,\n",
       "  '9': 36.34,\n",
       "  '10': 95.49,\n",
       "  '11': 30.01,\n",
       "  '12': 30.81,\n",
       "  '13': 31.25,\n",
       "  '14': 33.11,\n",
       "  '15': 33.11,\n",
       "  '16': 31.25,\n",
       "  '17': 27.54,\n",
       "  '18': 30.01,\n",
       "  '19': 29.04,\n",
       "  '20': 39.53,\n",
       "  '21': 41.43,\n",
       "  '22': 29.52,\n",
       "  '23': 31.25,\n",
       "  '24': 27.54,\n",
       "  '25': 20.48,\n",
       "  '26': 32.4,\n",
       "  '27': 32.4,\n",
       "  '28': 29.74,\n",
       "  '29': 48.78,\n",
       "  '30': 37.97,\n",
       "  '31': 23.76,\n",
       "  '32': 26.36,\n",
       "  '33': 34.98,\n",
       "  '34': 48.78,\n",
       "  '35': 65.47,\n",
       "  '36': 23.44,\n",
       "  '37': 27.45,\n",
       "  '38': 30.98,\n",
       "  '39': 32.25,\n",
       "  '40': 34.98,\n",
       "  '41': 41.29,\n",
       "  '42': 41.29,\n",
       "  '43': 27.45,\n",
       "  '44': 55.35,\n",
       "  '45': 26.36,\n",
       "  '46': 29.74,\n",
       "  '47': 30.98,\n",
       "  '48': 34.98,\n",
       "  '49': 34.98,\n",
       "  '50': 37.97,\n",
       "  '51': 41.29,\n",
       "  '52': 24.36,\n",
       "  '53': 27.45,\n",
       "  '54': 28.55,\n",
       "  '55': 32.25,\n",
       "  '56': 44.83,\n",
       "  '57': 36.45,\n",
       "  '58': 65.15,\n",
       "  '59': 46.47,\n",
       "  '60': 52.04,\n",
       "  '61': 50.64,\n",
       "  '62': 38.74,\n",
       "  '63': 47.73,\n",
       "  '64': 43.72,\n",
       "  '65': 38.2,\n",
       "  '66': 44.83,\n",
       "  '67': 53.01,\n",
       "  '68': 29.44,\n",
       "  '69': 39.43,\n",
       "  '70': 191.8,\n",
       "  '71': 123.1,\n",
       "  '72': 89.14,\n",
       "  '73': 41.73,\n",
       "  '74': 37.28,\n",
       "  '75': 60.24,\n",
       "  '76': 80.38,\n",
       "  '77': 31.25,\n",
       "  '78': 41.22,\n",
       "  '79': 29.52,\n",
       "  '80': 32.4,\n",
       "  '81': 33.11,\n",
       "  '82': 28.67,\n",
       "  '83': 36.18,\n",
       "  '84': 39.16,\n",
       "  '85': 40.05,\n",
       "  '86': 42.75,\n",
       "  '87': 30.47,\n",
       "  '88': 30.81,\n",
       "  '89': 39.16,\n",
       "  '90': 39.16,\n",
       "  '91': 32.4,\n",
       "  '92': 34.68,\n",
       "  '93': 35.75,\n",
       "  '94': 46.75,\n",
       "  '95': 53.01,\n",
       "  '96': 46.75,\n",
       "  '97': 24.09,\n",
       "  '98': 36.45,\n",
       "  '99': 41.29,\n",
       "  '100': 41.29,\n",
       "  '101': 50.85,\n",
       "  '102': 26.36,\n",
       "  '103': 27.45,\n",
       "  '104': 33.6,\n",
       "  '105': 36.45,\n",
       "  '106': 37.97,\n",
       "  '107': 46.75,\n",
       "  '108': 48.78,\n",
       "  '109': 44.83,\n",
       "  '110': 48.78,\n",
       "  '111': 28.55,\n",
       "  '112': 20.84,\n",
       "  '113': 32.25,\n",
       "  '114': 29.74,\n",
       "  '115': 43.04,\n",
       "  '116': 46.75,\n",
       "  '117': 44.83,\n",
       "  '118': 41.29,\n",
       "  '119': 62.45,\n",
       "  '120': 28.64,\n",
       "  '121': 35.37,\n",
       "  '122': 40.35,\n",
       "  '123': 34.8,\n",
       "  '124': 48.08,\n",
       "  '125': 27.72,\n",
       "  '126': 41.19,\n",
       "  '127': 35.07,\n",
       "  '128': 78.95,\n",
       "  '129': 56.78,\n",
       "  '130': 50.01,\n",
       "  '131': 67.03,\n",
       "  '132': 65.04,\n",
       "  '133': 29.04,\n",
       "  '134': 30.47,\n",
       "  '135': 31.25,\n",
       "  '136': 32.4,\n",
       "  '137': 34.68,\n",
       "  '138': 35.75,\n",
       "  '139': 40.44,\n",
       "  '140': 31.76,\n",
       "  '141': 28.67,\n",
       "  '142': 29.52,\n",
       "  '143': 30.01,\n",
       "  '144': 33.89,\n",
       "  '145': 41.22,\n",
       "  '146': 37.23,\n",
       "  '147': 39.16,\n",
       "  '148': 33.6,\n",
       "  '149': 33.6,\n",
       "  '150': 34.98,\n",
       "  '151': 46.75,\n",
       "  '152': 39.56,\n",
       "  '153': 43.04,\n",
       "  '154': 21.66,\n",
       "  '155': 22.48,\n",
       "  '156': 23.44,\n",
       "  '157': 28.55,\n",
       "  '158': 25.31,\n",
       "  '159': 26.36,\n",
       "  '160': 27.45,\n",
       "  '161': 28.55,\n",
       "  '162': 30.98,\n",
       "  '163': 30.98,\n",
       "  '164': 33.6,\n",
       "  '165': 43.04,\n",
       "  '166': 22.48,\n",
       "  '167': 24.36,\n",
       "  '168': 25.31,\n",
       "  '169': 27.45,\n",
       "  '170': 44.83,\n",
       "  '171': 32.25,\n",
       "  '172': 21.66,\n",
       "  '173': 22.48,\n",
       "  '174': 24.77,\n",
       "  '175': 34.98,\n",
       "  '176': 37.97,\n",
       "  '177': 44.83,\n",
       "  '178': 25.81,\n",
       "  '179': 58.55,\n",
       "  '180': 56.69,\n",
       "  '181': 68.03,\n",
       "  '182': 31.58,\n",
       "  '183': 52.04,\n",
       "  '184': 53.67,\n",
       "  '185': 71.43,\n",
       "  '186': 32.87,\n",
       "  '187': 40.35,\n",
       "  '188': 17.49},\n",
       " 'Maximum hourly rate': {'0': 66.3,\n",
       "  '1': 150.95,\n",
       "  '2': 70.97,\n",
       "  '3': 95.49,\n",
       "  '4': 53.65,\n",
       "  '5': 70.97,\n",
       "  '6': 82.92,\n",
       "  '7': 50.89,\n",
       "  '8': 76.59,\n",
       "  '9': 45.43,\n",
       "  '10': 119.3,\n",
       "  '11': 30.01,\n",
       "  '12': 30.81,\n",
       "  '13': 31.25,\n",
       "  '14': 33.11,\n",
       "  '15': 33.11,\n",
       "  '16': 31.25,\n",
       "  '17': 27.54,\n",
       "  '18': 30.01,\n",
       "  '19': 34.68,\n",
       "  '20': 39.53,\n",
       "  '21': 41.43,\n",
       "  '22': 29.52,\n",
       "  '23': 31.25,\n",
       "  '24': 28.67,\n",
       "  '25': 39.16,\n",
       "  '26': 32.4,\n",
       "  '27': 33.89,\n",
       "  '28': 34.98,\n",
       "  '29': 48.78,\n",
       "  '30': 37.97,\n",
       "  '31': 30.98,\n",
       "  '32': 29.74,\n",
       "  '33': 41.29,\n",
       "  '34': 50.85,\n",
       "  '35': 65.47,\n",
       "  '36': 28.55,\n",
       "  '37': 33.6,\n",
       "  '38': 37.97,\n",
       "  '39': 37.97,\n",
       "  '40': 41.29,\n",
       "  '41': 46.75,\n",
       "  '42': 48.78,\n",
       "  '43': 55.35,\n",
       "  '44': 65.47,\n",
       "  '45': 30.98,\n",
       "  '46': 34.98,\n",
       "  '47': 36.45,\n",
       "  '48': 39.56,\n",
       "  '49': 34.98,\n",
       "  '50': 44.83,\n",
       "  '51': 48.78,\n",
       "  '52': 28.55,\n",
       "  '53': 32.25,\n",
       "  '54': 33.6,\n",
       "  '55': 53.01,\n",
       "  '56': 53.01,\n",
       "  '57': 37.97,\n",
       "  '58': 65.15,\n",
       "  '59': 57.38,\n",
       "  '60': 68.03,\n",
       "  '61': 50.64,\n",
       "  '62': 42.13,\n",
       "  '63': 47.73,\n",
       "  '64': 45.9,\n",
       "  '65': 46.14,\n",
       "  '66': 48.78,\n",
       "  '67': 53.01,\n",
       "  '68': 39.64,\n",
       "  '69': 66.11,\n",
       "  '70': 191.8,\n",
       "  '71': 123.1,\n",
       "  '72': 89.14,\n",
       "  '73': 65.6,\n",
       "  '74': 61.33,\n",
       "  '75': 70.97,\n",
       "  '76': 95.49,\n",
       "  '77': 31.25,\n",
       "  '78': 41.22,\n",
       "  '79': 32.4,\n",
       "  '80': 32.4,\n",
       "  '81': 33.11,\n",
       "  '82': 39.53,\n",
       "  '83': 36.18,\n",
       "  '84': 40.44,\n",
       "  '85': 40.85,\n",
       "  '86': 42.75,\n",
       "  '87': 30.47,\n",
       "  '88': 31.25,\n",
       "  '89': 39.16,\n",
       "  '90': 39.16,\n",
       "  '91': 32.4,\n",
       "  '92': 34.68,\n",
       "  '93': 35.75,\n",
       "  '94': 53.01,\n",
       "  '95': 53.01,\n",
       "  '96': 50.85,\n",
       "  '97': 25.31,\n",
       "  '98': 43.04,\n",
       "  '99': 44.83,\n",
       "  '100': 57.7,\n",
       "  '101': 57.7,\n",
       "  '102': 30.98,\n",
       "  '103': 34.98,\n",
       "  '104': 39.56,\n",
       "  '105': 46.75,\n",
       "  '106': 44.83,\n",
       "  '107': 50.85,\n",
       "  '108': 55.35,\n",
       "  '109': 50.85,\n",
       "  '110': 65.47,\n",
       "  '111': 33.6,\n",
       "  '112': 23.44,\n",
       "  '113': 32.25,\n",
       "  '114': 34.98,\n",
       "  '115': 44.83,\n",
       "  '116': 46.75,\n",
       "  '117': 48.78,\n",
       "  '118': 41.29,\n",
       "  '119': 62.45,\n",
       "  '120': 32.87,\n",
       "  '121': 37.33,\n",
       "  '122': 40.35,\n",
       "  '123': 34.8,\n",
       "  '124': 48.08,\n",
       "  '125': 34.89,\n",
       "  '126': 61.7,\n",
       "  '127': 49.22,\n",
       "  '128': 96.72,\n",
       "  '129': 76.59,\n",
       "  '130': 50.57,\n",
       "  '131': 76.59,\n",
       "  '132': 95.49,\n",
       "  '133': 29.04,\n",
       "  '134': 30.47,\n",
       "  '135': 31.25,\n",
       "  '136': 37.23,\n",
       "  '137': 34.68,\n",
       "  '138': 35.75,\n",
       "  '139': 40.44,\n",
       "  '140': 32.4,\n",
       "  '141': 29.04,\n",
       "  '142': 29.52,\n",
       "  '143': 30.01,\n",
       "  '144': 33.89,\n",
       "  '145': 41.22,\n",
       "  '146': 37.23,\n",
       "  '147': 39.16,\n",
       "  '148': 37.97,\n",
       "  '149': 39.56,\n",
       "  '150': 43.04,\n",
       "  '151': 46.75,\n",
       "  '152': 46.75,\n",
       "  '153': 48.78,\n",
       "  '154': 25.31,\n",
       "  '155': 27.45,\n",
       "  '156': 30.98,\n",
       "  '157': 28.55,\n",
       "  '158': 32.25,\n",
       "  '159': 30.98,\n",
       "  '160': 34.98,\n",
       "  '161': 34.98,\n",
       "  '162': 36.45,\n",
       "  '163': 36.45,\n",
       "  '164': 39.56,\n",
       "  '165': 43.04,\n",
       "  '166': 26.36,\n",
       "  '167': 28.55,\n",
       "  '168': 32.25,\n",
       "  '169': 37.97,\n",
       "  '170': 57.7,\n",
       "  '171': 37.97,\n",
       "  '172': 25.31,\n",
       "  '173': 26.36,\n",
       "  '174': 30.98,\n",
       "  '175': 48.78,\n",
       "  '176': 44.83,\n",
       "  '177': 53.01,\n",
       "  '178': 37.97,\n",
       "  '179': 58.55,\n",
       "  '180': 68.03,\n",
       "  '181': 71.43,\n",
       "  '182': 62.45,\n",
       "  '183': 52.04,\n",
       "  '184': 53.67,\n",
       "  '185': 71.43,\n",
       "  '186': 42.13,\n",
       "  '187': 40.35,\n",
       "  '188': 28.42},\n",
       " 'Women': {'0': 18.0,\n",
       "  '1': 3.0,\n",
       "  '2': 49.0,\n",
       "  '3': 19.0,\n",
       "  '4': 1.0,\n",
       "  '5': 2.0,\n",
       "  '6': 3.0,\n",
       "  '7': 13.0,\n",
       "  '8': 47.0,\n",
       "  '9': 8.0,\n",
       "  '10': 7.0,\n",
       "  '11': 18.0,\n",
       "  '12': 1.0,\n",
       "  '13': None,\n",
       "  '14': None,\n",
       "  '15': None,\n",
       "  '16': None,\n",
       "  '17': 8.0,\n",
       "  '18': None,\n",
       "  '19': 1.0,\n",
       "  '20': 15.0,\n",
       "  '21': None,\n",
       "  '22': None,\n",
       "  '23': 1.0,\n",
       "  '24': 4.0,\n",
       "  '25': 52.0,\n",
       "  '26': None,\n",
       "  '27': 3.0,\n",
       "  '28': 53.0,\n",
       "  '29': None,\n",
       "  '30': 1.0,\n",
       "  '31': 293.0,\n",
       "  '32': 3.0,\n",
       "  '33': 6.0,\n",
       "  '34': 2.0,\n",
       "  '35': None,\n",
       "  '36': 83.0,\n",
       "  '37': 31.0,\n",
       "  '38': 2.0,\n",
       "  '39': 39.0,\n",
       "  '40': 13.0,\n",
       "  '41': 5.0,\n",
       "  '42': 6.0,\n",
       "  '43': 35.0,\n",
       "  '44': 21.0,\n",
       "  '45': 19.0,\n",
       "  '46': 7.0,\n",
       "  '47': 68.0,\n",
       "  '48': 3.0,\n",
       "  '49': 2.0,\n",
       "  '50': 15.0,\n",
       "  '51': 17.0,\n",
       "  '52': 26.0,\n",
       "  '53': 7.0,\n",
       "  '54': 5.0,\n",
       "  '55': 13.0,\n",
       "  '56': 1.0,\n",
       "  '57': 1.0,\n",
       "  '58': None,\n",
       "  '59': 1.0,\n",
       "  '60': 1.0,\n",
       "  '61': None,\n",
       "  '62': 1.0,\n",
       "  '63': None,\n",
       "  '64': 4.0,\n",
       "  '65': None,\n",
       "  '66': None,\n",
       "  '67': None,\n",
       "  '68': 22.0,\n",
       "  '69': 12.0,\n",
       "  '70': None,\n",
       "  '71': None,\n",
       "  '72': None,\n",
       "  '73': 3.0,\n",
       "  '74': 98.0,\n",
       "  '75': 3.0,\n",
       "  '76': 21.0,\n",
       "  '77': 6.0,\n",
       "  '78': None,\n",
       "  '79': 6.0,\n",
       "  '80': 1.0,\n",
       "  '81': None,\n",
       "  '82': 6.0,\n",
       "  '83': None,\n",
       "  '84': None,\n",
       "  '85': 1.0,\n",
       "  '86': None,\n",
       "  '87': None,\n",
       "  '88': None,\n",
       "  '89': None,\n",
       "  '90': None,\n",
       "  '91': 2.0,\n",
       "  '92': 2.0,\n",
       "  '93': None,\n",
       "  '94': 5.0,\n",
       "  '95': None,\n",
       "  '96': None,\n",
       "  '97': 3.0,\n",
       "  '98': 10.0,\n",
       "  '99': 3.0,\n",
       "  '100': 13.0,\n",
       "  '101': 4.0,\n",
       "  '102': 14.0,\n",
       "  '103': 7.0,\n",
       "  '104': 4.0,\n",
       "  '105': 44.0,\n",
       "  '106': 24.0,\n",
       "  '107': 1.0,\n",
       "  '108': 1.0,\n",
       "  '109': 4.0,\n",
       "  '110': 76.0,\n",
       "  '111': 11.0,\n",
       "  '112': 46.0,\n",
       "  '113': 1.0,\n",
       "  '114': 9.0,\n",
       "  '115': 1.0,\n",
       "  '116': 1.0,\n",
       "  '117': 2.0,\n",
       "  '118': None,\n",
       "  '119': 1.0,\n",
       "  '120': 4.0,\n",
       "  '121': 5.0,\n",
       "  '122': None,\n",
       "  '123': None,\n",
       "  '124': None,\n",
       "  '125': 24.0,\n",
       "  '126': 14.0,\n",
       "  '127': 11.0,\n",
       "  '128': 14.0,\n",
       "  '129': 35.0,\n",
       "  '130': None,\n",
       "  '131': 1.0,\n",
       "  '132': 26.0,\n",
       "  '133': 55.0,\n",
       "  '134': 2.0,\n",
       "  '135': None,\n",
       "  '136': None,\n",
       "  '137': None,\n",
       "  '138': None,\n",
       "  '139': 4.0,\n",
       "  '140': None,\n",
       "  '141': 5.0,\n",
       "  '142': 5.0,\n",
       "  '143': 3.0,\n",
       "  '144': None,\n",
       "  '145': None,\n",
       "  '146': None,\n",
       "  '147': None,\n",
       "  '148': 1.0,\n",
       "  '149': 14.0,\n",
       "  '150': 2.0,\n",
       "  '151': 1.0,\n",
       "  '152': 10.0,\n",
       "  '153': 5.0,\n",
       "  '154': 81.0,\n",
       "  '155': 129.0,\n",
       "  '156': 65.0,\n",
       "  '157': None,\n",
       "  '158': 153.0,\n",
       "  '159': 2.0,\n",
       "  '160': 168.0,\n",
       "  '161': 19.0,\n",
       "  '162': 15.0,\n",
       "  '163': 3.0,\n",
       "  '164': 2.0,\n",
       "  '165': 1.0,\n",
       "  '166': 10.0,\n",
       "  '167': 14.0,\n",
       "  '168': 15.0,\n",
       "  '169': 8.0,\n",
       "  '170': 46.0,\n",
       "  '171': 2.0,\n",
       "  '172': 108.0,\n",
       "  '173': 105.0,\n",
       "  '174': 23.0,\n",
       "  '175': 17.0,\n",
       "  '176': 23.0,\n",
       "  '177': 9.0,\n",
       "  '178': 26.0,\n",
       "  '179': None,\n",
       "  '180': 1.0,\n",
       "  '181': None,\n",
       "  '182': 22.0,\n",
       "  '183': None,\n",
       "  '184': None,\n",
       "  '185': None,\n",
       "  '186': None,\n",
       "  '187': None,\n",
       "  '188': 1.0},\n",
       " 'Men': {'0': 19.0,\n",
       "  '1': 6.0,\n",
       "  '2': 39.0,\n",
       "  '3': 32.0,\n",
       "  '4': 21.0,\n",
       "  '5': 17.0,\n",
       "  '6': 6.0,\n",
       "  '7': 5.0,\n",
       "  '8': 75.0,\n",
       "  '9': 3.0,\n",
       "  '10': 2.0,\n",
       "  '11': 25.0,\n",
       "  '12': 13.0,\n",
       "  '13': 4.0,\n",
       "  '14': 2.0,\n",
       "  '15': 1.0,\n",
       "  '16': 8.0,\n",
       "  '17': 13.0,\n",
       "  '18': 2.0,\n",
       "  '19': 35.0,\n",
       "  '20': 92.0,\n",
       "  '21': 18.0,\n",
       "  '22': 57.0,\n",
       "  '23': 27.0,\n",
       "  '24': 57.0,\n",
       "  '25': 475.0,\n",
       "  '26': 3.0,\n",
       "  '27': 43.0,\n",
       "  '28': 6.0,\n",
       "  '29': 1.0,\n",
       "  '30': 1.0,\n",
       "  '31': 280.0,\n",
       "  '32': None,\n",
       "  '33': 17.0,\n",
       "  '34': 1.0,\n",
       "  '35': 1.0,\n",
       "  '36': 294.0,\n",
       "  '37': 43.0,\n",
       "  '38': 4.0,\n",
       "  '39': 85.0,\n",
       "  '40': 23.0,\n",
       "  '41': 3.0,\n",
       "  '42': 8.0,\n",
       "  '43': 59.0,\n",
       "  '44': 12.0,\n",
       "  '45': 21.0,\n",
       "  '46': 2.0,\n",
       "  '47': 44.0,\n",
       "  '48': 2.0,\n",
       "  '49': None,\n",
       "  '50': 8.0,\n",
       "  '51': 3.0,\n",
       "  '52': 34.0,\n",
       "  '53': 3.0,\n",
       "  '54': 5.0,\n",
       "  '55': 6.0,\n",
       "  '56': 5.0,\n",
       "  '57': 1.0,\n",
       "  '58': 12.0,\n",
       "  '59': 14.0,\n",
       "  '60': 85.0,\n",
       "  '61': 9.0,\n",
       "  '62': 2.0,\n",
       "  '63': 1.0,\n",
       "  '64': 58.0,\n",
       "  '65': 7.0,\n",
       "  '66': 19.0,\n",
       "  '67': 3.0,\n",
       "  '68': None,\n",
       "  '69': 2.0,\n",
       "  '70': 1.0,\n",
       "  '71': 1.0,\n",
       "  '72': 1.0,\n",
       "  '73': 48.0,\n",
       "  '74': 107.0,\n",
       "  '75': 5.0,\n",
       "  '76': 23.0,\n",
       "  '77': 8.0,\n",
       "  '78': 1.0,\n",
       "  '79': 27.0,\n",
       "  '80': 12.0,\n",
       "  '81': 13.0,\n",
       "  '82': 10.0,\n",
       "  '83': 1.0,\n",
       "  '84': 8.0,\n",
       "  '85': 49.0,\n",
       "  '86': 12.0,\n",
       "  '87': 44.0,\n",
       "  '88': 49.0,\n",
       "  '89': 5.0,\n",
       "  '90': 2.0,\n",
       "  '91': 20.0,\n",
       "  '92': 23.0,\n",
       "  '93': 12.0,\n",
       "  '94': 1.0,\n",
       "  '95': 1.0,\n",
       "  '96': 2.0,\n",
       "  '97': 1.0,\n",
       "  '98': 7.0,\n",
       "  '99': 7.0,\n",
       "  '100': 39.0,\n",
       "  '101': 15.0,\n",
       "  '102': 107.0,\n",
       "  '103': 37.0,\n",
       "  '104': 27.0,\n",
       "  '105': 37.0,\n",
       "  '106': 68.0,\n",
       "  '107': 7.0,\n",
       "  '108': 3.0,\n",
       "  '109': 3.0,\n",
       "  '110': 54.0,\n",
       "  '111': 2.0,\n",
       "  '112': 50.0,\n",
       "  '113': 4.0,\n",
       "  '114': 9.0,\n",
       "  '115': 1.0,\n",
       "  '116': None,\n",
       "  '117': 48.0,\n",
       "  '118': 1.0,\n",
       "  '119': 2.0,\n",
       "  '120': 17.0,\n",
       "  '121': 29.0,\n",
       "  '122': 5.0,\n",
       "  '123': 2.0,\n",
       "  '124': 10.0,\n",
       "  '125': None,\n",
       "  '126': 9.0,\n",
       "  '127': 3.0,\n",
       "  '128': 18.0,\n",
       "  '129': 41.0,\n",
       "  '130': 2.0,\n",
       "  '131': 2.0,\n",
       "  '132': 47.0,\n",
       "  '133': 78.0,\n",
       "  '134': 23.0,\n",
       "  '135': 1.0,\n",
       "  '136': 21.0,\n",
       "  '137': 7.0,\n",
       "  '138': 13.0,\n",
       "  '139': 8.0,\n",
       "  '140': 17.0,\n",
       "  '141': 61.0,\n",
       "  '142': 39.0,\n",
       "  '143': 28.0,\n",
       "  '144': 1.0,\n",
       "  '145': 2.0,\n",
       "  '146': 4.0,\n",
       "  '147': 11.0,\n",
       "  '148': 5.0,\n",
       "  '149': 2.0,\n",
       "  '150': None,\n",
       "  '151': 3.0,\n",
       "  '152': 9.0,\n",
       "  '153': 2.0,\n",
       "  '154': 18.0,\n",
       "  '155': 24.0,\n",
       "  '156': 19.0,\n",
       "  '157': 1.0,\n",
       "  '158': 20.0,\n",
       "  '159': None,\n",
       "  '160': 60.0,\n",
       "  '161': 3.0,\n",
       "  '162': 6.0,\n",
       "  '163': 12.0,\n",
       "  '164': 1.0,\n",
       "  '165': None,\n",
       "  '166': 25.0,\n",
       "  '167': 99.0,\n",
       "  '168': 65.0,\n",
       "  '169': 39.0,\n",
       "  '170': 38.0,\n",
       "  '171': 6.0,\n",
       "  '172': 77.0,\n",
       "  '173': 141.0,\n",
       "  '174': 12.0,\n",
       "  '175': 10.0,\n",
       "  '176': 35.0,\n",
       "  '177': 14.0,\n",
       "  '178': 28.0,\n",
       "  '179': 1.0,\n",
       "  '180': 83.0,\n",
       "  '181': 9.0,\n",
       "  '182': 545.0,\n",
       "  '183': 3.0,\n",
       "  '184': 1.0,\n",
       "  '185': 10.0,\n",
       "  '186': 10.0,\n",
       "  '187': 2.0,\n",
       "  '188': 4.0}}"
      ]
     },
     "execution_count": 27,
     "metadata": {},
     "output_type": "execute_result"
    }
   ],
   "source": [
    "# Uncomment out the next line to view the object\n",
    "\n",
    "data"
   ]
  },
  {
   "cell_type": "markdown",
   "metadata": {},
   "source": [
    "**Question 5(a)**  <br> {points: 1}  \n",
    "\n",
    "What kind of data structure is a json file? \n",
    "\n",
    "A) List \n",
    "\n",
    "B) Tuple \n",
    "\n",
    "C) Dictionary\n",
    "\n",
    "D) Set\n",
    "\n",
    "*Answer in the cell below using the uppercase letter associated with your answer. Place your answer between `\"\"`, assign the correct answer to an object called `answer5_a`.*"
   ]
  },
  {
   "cell_type": "code",
   "execution_count": 28,
   "metadata": {
    "deletable": false,
    "nbgrader": {
     "cell_type": "code",
     "checksum": "50304413ea00fcecd668e9413db533f9",
     "grade": false,
     "grade_id": "cell-b5c598b1591c8a7b",
     "locked": false,
     "schema_version": 3,
     "solution": true,
     "task": false
    }
   },
   "outputs": [],
   "source": [
    "answer5_a = 'C'"
   ]
  },
  {
   "cell_type": "code",
   "execution_count": 29,
   "metadata": {
    "deletable": false,
    "editable": false,
    "nbgrader": {
     "cell_type": "code",
     "checksum": "fd1c1072d235c54e62a47f531100c39a",
     "grade": true,
     "grade_id": "cell-870615ffdfe8cbaf",
     "locked": true,
     "points": 1,
     "schema_version": 3,
     "solution": false,
     "task": false
    }
   },
   "outputs": [
    {
     "data": {
      "text/plain": [
       "'Success'"
      ]
     },
     "execution_count": 29,
     "metadata": {},
     "output_type": "execute_result"
    }
   ],
   "source": [
    "t.test_5a(answer5_a)"
   ]
  },
  {
   "cell_type": "markdown",
   "metadata": {},
   "source": [
    "**Question 5(b)**  <br> {points: 1}  \n",
    "\n",
    "Us the appropriate verb to convert data into a dataframe.    \n",
    "Name the object `van_wages`."
   ]
  },
  {
   "cell_type": "code",
   "execution_count": 30,
   "metadata": {
    "deletable": false,
    "nbgrader": {
     "cell_type": "code",
     "checksum": "a293c9b93990fd8c2b4e6ffcff036293",
     "grade": false,
     "grade_id": "cell-d467a43d7301b394",
     "locked": false,
     "schema_version": 3,
     "solution": true,
     "task": false
    }
   },
   "outputs": [],
   "source": [
    "van_wages = pd.DataFrame(data)"
   ]
  },
  {
   "cell_type": "code",
   "execution_count": 31,
   "metadata": {
    "deletable": false,
    "editable": false,
    "nbgrader": {
     "cell_type": "code",
     "checksum": "38e41b8cf1b3ede589b65f034e6992fc",
     "grade": true,
     "grade_id": "cell-83f264ae29621331",
     "locked": true,
     "points": 1,
     "schema_version": 3,
     "solution": false,
     "task": false
    }
   },
   "outputs": [
    {
     "data": {
      "text/plain": [
       "'Success'"
      ]
     },
     "execution_count": 31,
     "metadata": {},
     "output_type": "execute_result"
    }
   ],
   "source": [
    "t.test_5b(van_wages)"
   ]
  },
  {
   "cell_type": "markdown",
   "metadata": {},
   "source": [
    "**Question 5(c)**  <br> {points: 1}  \n",
    "\n",
    "\n",
    "Created a column for the total number of people with each classification, and name the column  `Total`. \n",
    "Name the new object `van_wages_total`.\n"
   ]
  },
  {
   "cell_type": "code",
   "execution_count": 32,
   "metadata": {
    "deletable": false,
    "nbgrader": {
     "cell_type": "code",
     "checksum": "7710152fe266c67d634a55714c30d12f",
     "grade": false,
     "grade_id": "cell-4b76f39982071096",
     "locked": false,
     "schema_version": 3,
     "solution": true,
     "task": false
    }
   },
   "outputs": [
    {
     "data": {
      "text/html": [
       "<div>\n",
       "<style scoped>\n",
       "    .dataframe tbody tr th:only-of-type {\n",
       "        vertical-align: middle;\n",
       "    }\n",
       "\n",
       "    .dataframe tbody tr th {\n",
       "        vertical-align: top;\n",
       "    }\n",
       "\n",
       "    .dataframe thead th {\n",
       "        text-align: right;\n",
       "    }\n",
       "</style>\n",
       "<table border=\"1\" class=\"dataframe\">\n",
       "  <thead>\n",
       "    <tr style=\"text-align: right;\">\n",
       "      <th></th>\n",
       "      <th>Year</th>\n",
       "      <th>Classification</th>\n",
       "      <th>Union</th>\n",
       "      <th>Minimum hourly rate</th>\n",
       "      <th>Maximum hourly rate</th>\n",
       "      <th>Women</th>\n",
       "      <th>Men</th>\n",
       "      <th>Total</th>\n",
       "    </tr>\n",
       "  </thead>\n",
       "  <tbody>\n",
       "    <tr>\n",
       "      <th>0</th>\n",
       "      <td>2019</td>\n",
       "      <td>Administrative Manager 3</td>\n",
       "      <td>False</td>\n",
       "      <td>47.97</td>\n",
       "      <td>66.30</td>\n",
       "      <td>18.0</td>\n",
       "      <td>19.0</td>\n",
       "      <td>37.0</td>\n",
       "    </tr>\n",
       "    <tr>\n",
       "      <th>1</th>\n",
       "      <td>2019</td>\n",
       "      <td>General Manager 2</td>\n",
       "      <td>False</td>\n",
       "      <td>120.47</td>\n",
       "      <td>150.95</td>\n",
       "      <td>3.0</td>\n",
       "      <td>6.0</td>\n",
       "      <td>9.0</td>\n",
       "    </tr>\n",
       "    <tr>\n",
       "      <th>2</th>\n",
       "      <td>2019</td>\n",
       "      <td>Manager 1</td>\n",
       "      <td>False</td>\n",
       "      <td>50.06</td>\n",
       "      <td>70.97</td>\n",
       "      <td>49.0</td>\n",
       "      <td>39.0</td>\n",
       "      <td>88.0</td>\n",
       "    </tr>\n",
       "    <tr>\n",
       "      <th>3</th>\n",
       "      <td>2019</td>\n",
       "      <td>Manager 3</td>\n",
       "      <td>False</td>\n",
       "      <td>64.62</td>\n",
       "      <td>95.49</td>\n",
       "      <td>19.0</td>\n",
       "      <td>32.0</td>\n",
       "      <td>51.0</td>\n",
       "    </tr>\n",
       "    <tr>\n",
       "      <th>4</th>\n",
       "      <td>2019</td>\n",
       "      <td>Operations Manager 0</td>\n",
       "      <td>False</td>\n",
       "      <td>40.62</td>\n",
       "      <td>53.65</td>\n",
       "      <td>1.0</td>\n",
       "      <td>21.0</td>\n",
       "      <td>22.0</td>\n",
       "    </tr>\n",
       "    <tr>\n",
       "      <th>...</th>\n",
       "      <td>...</td>\n",
       "      <td>...</td>\n",
       "      <td>...</td>\n",
       "      <td>...</td>\n",
       "      <td>...</td>\n",
       "      <td>...</td>\n",
       "      <td>...</td>\n",
       "      <td>...</td>\n",
       "    </tr>\n",
       "    <tr>\n",
       "      <th>184</th>\n",
       "      <td>2019</td>\n",
       "      <td>Lead Mechanic</td>\n",
       "      <td>True</td>\n",
       "      <td>53.67</td>\n",
       "      <td>53.67</td>\n",
       "      <td>NaN</td>\n",
       "      <td>1.0</td>\n",
       "      <td>1.0</td>\n",
       "    </tr>\n",
       "    <tr>\n",
       "      <th>185</th>\n",
       "      <td>2019</td>\n",
       "      <td>Training Officer Fire</td>\n",
       "      <td>True</td>\n",
       "      <td>71.43</td>\n",
       "      <td>71.43</td>\n",
       "      <td>NaN</td>\n",
       "      <td>10.0</td>\n",
       "      <td>10.0</td>\n",
       "    </tr>\n",
       "    <tr>\n",
       "      <th>186</th>\n",
       "      <td>2019</td>\n",
       "      <td>Theatre Casual V</td>\n",
       "      <td>True</td>\n",
       "      <td>32.87</td>\n",
       "      <td>42.13</td>\n",
       "      <td>NaN</td>\n",
       "      <td>10.0</td>\n",
       "      <td>10.0</td>\n",
       "    </tr>\n",
       "    <tr>\n",
       "      <th>187</th>\n",
       "      <td>2019</td>\n",
       "      <td>Theatre Technician</td>\n",
       "      <td>True</td>\n",
       "      <td>40.35</td>\n",
       "      <td>40.35</td>\n",
       "      <td>NaN</td>\n",
       "      <td>2.0</td>\n",
       "      <td>2.0</td>\n",
       "    </tr>\n",
       "    <tr>\n",
       "      <th>188</th>\n",
       "      <td>2019</td>\n",
       "      <td>Electrical Apprentice</td>\n",
       "      <td>True</td>\n",
       "      <td>17.49</td>\n",
       "      <td>28.42</td>\n",
       "      <td>1.0</td>\n",
       "      <td>4.0</td>\n",
       "      <td>5.0</td>\n",
       "    </tr>\n",
       "  </tbody>\n",
       "</table>\n",
       "<p>189 rows × 8 columns</p>\n",
       "</div>"
      ],
      "text/plain": [
       "     Year            Classification  Union  Minimum hourly rate  \\\n",
       "0    2019  Administrative Manager 3  False                47.97   \n",
       "1    2019         General Manager 2  False               120.47   \n",
       "2    2019                 Manager 1  False                50.06   \n",
       "3    2019                 Manager 3  False                64.62   \n",
       "4    2019      Operations Manager 0  False                40.62   \n",
       "..    ...                       ...    ...                  ...   \n",
       "184  2019             Lead Mechanic   True                53.67   \n",
       "185  2019     Training Officer Fire   True                71.43   \n",
       "186  2019          Theatre Casual V   True                32.87   \n",
       "187  2019        Theatre Technician   True                40.35   \n",
       "188  2019     Electrical Apprentice   True                17.49   \n",
       "\n",
       "     Maximum hourly rate  Women   Men  Total  \n",
       "0                  66.30   18.0  19.0   37.0  \n",
       "1                 150.95    3.0   6.0    9.0  \n",
       "2                  70.97   49.0  39.0   88.0  \n",
       "3                  95.49   19.0  32.0   51.0  \n",
       "4                  53.65    1.0  21.0   22.0  \n",
       "..                   ...    ...   ...    ...  \n",
       "184                53.67    NaN   1.0    1.0  \n",
       "185                71.43    NaN  10.0   10.0  \n",
       "186                42.13    NaN  10.0   10.0  \n",
       "187                40.35    NaN   2.0    2.0  \n",
       "188                28.42    1.0   4.0    5.0  \n",
       "\n",
       "[189 rows x 8 columns]"
      ]
     },
     "execution_count": 32,
     "metadata": {},
     "output_type": "execute_result"
    }
   ],
   "source": [
    "van_wages_total=pd.DataFrame(van_wages)\n",
    "van_wages_total['Total']=van_wages_total.iloc[:,5:7].sum(axis=1, numeric_only = False)\n",
    "van_wages_total"
   ]
  },
  {
   "cell_type": "code",
   "execution_count": 33,
   "metadata": {
    "deletable": false,
    "editable": false,
    "nbgrader": {
     "cell_type": "code",
     "checksum": "c0ee8ba208459715590033a1eddd6b93",
     "grade": true,
     "grade_id": "cell-de942db5679929f8",
     "locked": true,
     "points": 1,
     "schema_version": 3,
     "solution": false,
     "task": false
    }
   },
   "outputs": [
    {
     "data": {
      "text/plain": [
       "'Success'"
      ]
     },
     "execution_count": 33,
     "metadata": {},
     "output_type": "execute_result"
    }
   ],
   "source": [
    "t.test_5c(van_wages_total)"
   ]
  },
  {
   "cell_type": "markdown",
   "metadata": {},
   "source": [
    "**Question 5(d)**  <br> {points: 2}  \n",
    "\n",
    "Which columns in `van_wages_total` will throw an error if the ***sum*** of the column is attempted to be calculated.  \n",
    "\n",
    "Save the column name(s) as strings in a list as an object named `answer5_d`.        \n",
    "\n",
    "***Example:***\n",
    "\n",
    "`answer6_e = ['Year', 'Union', 'Minimum hourly rate']`\n"
   ]
  },
  {
   "cell_type": "code",
   "execution_count": 34,
   "metadata": {
    "deletable": false,
    "nbgrader": {
     "cell_type": "code",
     "checksum": "e3e24869cff21863de306e0b4bcad2f3",
     "grade": false,
     "grade_id": "cell-0de07d28b19d1011",
     "locked": false,
     "schema_version": 3,
     "solution": true,
     "task": false
    }
   },
   "outputs": [],
   "source": [
    "answer5_d = ['Classification','Union']"
   ]
  },
  {
   "cell_type": "code",
   "execution_count": 35,
   "metadata": {
    "deletable": false,
    "editable": false,
    "nbgrader": {
     "cell_type": "code",
     "checksum": "038b2496338b73eae87de49b359fe44e",
     "grade": true,
     "grade_id": "cell-db4a5922a7b5d25a",
     "locked": true,
     "points": 2,
     "schema_version": 3,
     "solution": false,
     "task": false
    }
   },
   "outputs": [],
   "source": [
    "# check that the variable exists\n",
    "assert 'answer5_d' in globals(\n",
    "), \"Please make sure that your solution is named 'answer5_d'\"\n",
    "\n",
    "# This test has been intentionally hidden. It will be up to you to decide if your solution\n",
    "# is sufficiently good.\n"
   ]
  },
  {
   "cell_type": "markdown",
   "metadata": {},
   "source": [
    "**Question 5(e)**  <br> {points: 1}  \n",
    "\n",
    "Which columns in `van_wages_total` will throw an error if the ***mean*** of the column is attempted to be calculated.\n",
    "\n",
    "Save the column name(s) as strings in a list as an object named `answer5_e`.    \n",
    "\n",
    "***Example:***\n",
    "\n",
    "`answer5_e = ['Year', 'Union', 'Minimum hourly rate']`\n",
    "\n",
    "\n",
    "If you think that none of the columns will throw an error than answer will be an empty list `[]`.  "
   ]
  },
  {
   "cell_type": "code",
   "execution_count": 36,
   "metadata": {
    "deletable": false,
    "nbgrader": {
     "cell_type": "code",
     "checksum": "caa14a937d571dc6a59affc86d508ef4",
     "grade": false,
     "grade_id": "cell-e4dbbeb6eb1acd64",
     "locked": false,
     "schema_version": 3,
     "solution": true,
     "task": false
    }
   },
   "outputs": [],
   "source": [
    "answer5_e = ['Classification']"
   ]
  },
  {
   "cell_type": "code",
   "execution_count": 37,
   "metadata": {
    "deletable": false,
    "editable": false,
    "nbgrader": {
     "cell_type": "code",
     "checksum": "08487b5cba07022b4698e8feba825fcb",
     "grade": true,
     "grade_id": "cell-cd94178956ccec26",
     "locked": true,
     "points": 1,
     "schema_version": 3,
     "solution": false,
     "task": false
    }
   },
   "outputs": [
    {
     "data": {
      "text/plain": [
       "'Success'"
      ]
     },
     "execution_count": 37,
     "metadata": {},
     "output_type": "execute_result"
    }
   ],
   "source": [
    "t.test_5e(answer5_e)"
   ]
  },
  {
   "cell_type": "markdown",
   "metadata": {},
   "source": [
    "## 6. Lists and Operations with Weather"
   ]
  },
  {
   "cell_type": "markdown",
   "metadata": {},
   "source": [
    "Below is the upcoming 7 day weather forecast  displayed in a dataframe: \n",
    "\n",
    "|    | day       | description       |   day_temperature |   night_temperature |   pop | wind   |   hrs_sun | rain   |\n",
    "|---:|:----------|:------------------|------------------:|--------------------:|------:|:-------|----------:|:-------|\n",
    "|  0 | Monday    | sunny             |                22 |                  14 |    10 | 7 SW   |        15 |        |\n",
    "|  1 | Tuesday   | sunny             |                21 |                  15 |     0 | 8 S    |        15 |        |\n",
    "|  2 | Wednesday | showers           |                23 |                  14 |    80 | 13 SW  |         6 | 1-3 mm |\n",
    "|  3 | Thursday  | cloudy            |                23 |                  14 |    20 | 10 W   |         9 |        |\n",
    "|  4 | Friday    | chance of showers |                22 |                  14 |    70 | 8 SE   |         5 | ~1 mm  |\n",
    "|  5 | Saturday  | chance of showers |                21 |                  12 |    40 | 21 W   |         4 | ~1 mm  |\n",
    "|  6 | Sunday    | chance of showers |                22 |                  13 |    40 | 12 W   |         5 | ~1 mm  |"
   ]
  },
  {
   "cell_type": "markdown",
   "metadata": {},
   "source": [
    "**Question 6(a)**  <br> {points: 1}\n",
    "\n",
    "Create the data frame using the data structures provided below and name the dataframe `weather`. "
   ]
  },
  {
   "cell_type": "code",
   "execution_count": 38,
   "metadata": {},
   "outputs": [],
   "source": [
    "monday = ['Monday', 'sunny', 22.0, '14.0', '10', '7 SW', 15.0, None]\n",
    "tuesday = ['Tuesday', 'sunny', 21.0, '15.0', '0', '8 S', 15.0, None]\n",
    "wednesday = ['Wednesday', 'showers', 23.0, '14.0', '80', '13 SW', 6.0, '1-3 mm']\n",
    "thursday = ['Thursday', 'cloudy', 23.0, '14.0', '20', '10 W', 9.0, None]\n",
    "friday = ['Friday', 'chance of showers', 22.0, '14.0', '70', '8 SE', 5.0, '~1 mm']\n",
    "saturday = ['Saturday', 'chance of showers', 21.0, '12.0', '40', '21 W', 4.0, '~1 mm']\n",
    "sunday = ['Sunday', 'chance of showers', 22.0, '13.0', '40', '12 W', 5.0, '~1 mm']\n",
    "\n",
    "days = [monday,tuesday,wednesday,thursday,friday,saturday,sunday]\n",
    "\n",
    "names = ['day', 'description',  'day_temperature', 'night_temperature', 'pop', 'wind', 'hrs_sun', 'rain']"
   ]
  },
  {
   "cell_type": "code",
   "execution_count": 39,
   "metadata": {
    "deletable": false,
    "nbgrader": {
     "cell_type": "code",
     "checksum": "ef0fc4b1d0809d6469386df99aa4b9a0",
     "grade": false,
     "grade_id": "cell-cd6d1b9a30fd24c8",
     "locked": false,
     "schema_version": 3,
     "solution": true,
     "task": false
    }
   },
   "outputs": [],
   "source": [
    "weather = pd.DataFrame(days, columns = names)"
   ]
  },
  {
   "cell_type": "code",
   "execution_count": 40,
   "metadata": {
    "deletable": false,
    "editable": false,
    "nbgrader": {
     "cell_type": "code",
     "checksum": "8934d9b2b2486492e243b74999cf57d1",
     "grade": true,
     "grade_id": "cell-b06c0f51a6768b9f",
     "locked": true,
     "points": 1,
     "schema_version": 3,
     "solution": false,
     "task": false
    }
   },
   "outputs": [
    {
     "data": {
      "text/plain": [
       "'Success'"
      ]
     },
     "execution_count": 40,
     "metadata": {},
     "output_type": "execute_result"
    }
   ],
   "source": [
    "t.test_6a(weather)"
   ]
  },
  {
   "cell_type": "markdown",
   "metadata": {},
   "source": [
    "**Question 6(b)**  <br> {points: 2}\n",
    "\n",
    "What data types or data structure are the object labeled by the days of the week? \n",
    "\n",
    "\n",
    "A) List \n",
    "\n",
    "B) Tuple \n",
    "\n",
    "C) Dictionary\n",
    "\n",
    "D) Set\n",
    "\n",
    "*Answer in the cell below using the uppercase letter associated with your answer. Place your answer between `\"\"`, assign the correct answer to an object called `answer6_b`.*"
   ]
  },
  {
   "cell_type": "code",
   "execution_count": 41,
   "metadata": {
    "deletable": false,
    "nbgrader": {
     "cell_type": "code",
     "checksum": "b4648873a2d973c8862d658abe03aaff",
     "grade": false,
     "grade_id": "cell-906749f0f0237903",
     "locked": false,
     "schema_version": 3,
     "solution": true,
     "task": false
    }
   },
   "outputs": [],
   "source": [
    "answer6_b = 'A'"
   ]
  },
  {
   "cell_type": "code",
   "execution_count": 42,
   "metadata": {
    "deletable": false,
    "editable": false,
    "nbgrader": {
     "cell_type": "code",
     "checksum": "6b01b99352c93c3b224558c539c6aeb9",
     "grade": true,
     "grade_id": "cell-c1fa535dc6b05f3a",
     "locked": true,
     "points": 2,
     "schema_version": 3,
     "solution": false,
     "task": false
    }
   },
   "outputs": [],
   "source": [
    "# check that the variable exists\n",
    "assert 'answer6_b' in globals(\n",
    "), \"Please make sure that your solution is named 'answer6_b'\"\n",
    "\n",
    "# This test has been intentionally hidden. It will be up to you to decide if your solution\n",
    "# is sufficiently good."
   ]
  },
  {
   "cell_type": "markdown",
   "metadata": {},
   "source": [
    "**Question 6(c)**  <br> {points: 1}\n",
    "\n",
    "What is the average chance of precipitation (`pop`) over the week? Answer using the `.mean()` function and convert datatypes if needed.     \n",
    "Save as object as `pop_mean`."
   ]
  },
  {
   "cell_type": "code",
   "execution_count": 43,
   "metadata": {
    "deletable": false,
    "nbgrader": {
     "cell_type": "code",
     "checksum": "5765a6c1d29cc07190f3435f3e42d4a0",
     "grade": false,
     "grade_id": "cell-1612bf4df887bd04",
     "locked": false,
     "schema_version": 3,
     "solution": true,
     "task": false
    }
   },
   "outputs": [
    {
     "data": {
      "text/plain": [
       "37.142857142857146"
      ]
     },
     "execution_count": 43,
     "metadata": {},
     "output_type": "execute_result"
    }
   ],
   "source": [
    "pop_mean = weather.loc[:,'pop'].astype(int).mean()\n",
    "pop_mean"
   ]
  },
  {
   "cell_type": "code",
   "execution_count": 44,
   "metadata": {
    "deletable": false,
    "editable": false,
    "nbgrader": {
     "cell_type": "code",
     "checksum": "2edd50f3ee14fb12a0b6ce096f615280",
     "grade": true,
     "grade_id": "cell-ca0adf0f075431e0",
     "locked": true,
     "points": 1,
     "schema_version": 3,
     "solution": false,
     "task": false
    }
   },
   "outputs": [
    {
     "data": {
      "text/plain": [
       "'Success'"
      ]
     },
     "execution_count": 44,
     "metadata": {},
     "output_type": "execute_result"
    }
   ],
   "source": [
    "t.test_6c(pop_mean)"
   ]
  },
  {
   "cell_type": "markdown",
   "metadata": {},
   "source": [
    "**Question 6(d)**  <br> {points: 1}\n",
    "\n",
    "Create a new column named `temp_avg` which is the average temperature for the whole day (day and night temperature).    \n",
    "Name the new dataframe `weather_ext`.       \n",
    "_Hint: You may need to make changes to the `night_temperature` column first._"
   ]
  },
  {
   "cell_type": "code",
   "execution_count": 45,
   "metadata": {
    "deletable": false,
    "nbgrader": {
     "cell_type": "code",
     "checksum": "e9fab003df7ff2cf8b43dd3f0539f7f2",
     "grade": false,
     "grade_id": "cell-75bffa5b60a04627",
     "locked": false,
     "schema_version": 3,
     "solution": true,
     "task": false
    }
   },
   "outputs": [],
   "source": [
    "weather['temp_avg'] = ((weather['day_temperature'] + weather['night_temperature'].astype(float))/2)\n",
    "weather_ext = weather"
   ]
  },
  {
   "cell_type": "code",
   "execution_count": 46,
   "metadata": {
    "deletable": false,
    "editable": false,
    "nbgrader": {
     "cell_type": "code",
     "checksum": "82b2cc66d5b5c5312abf8b903ea81efd",
     "grade": true,
     "grade_id": "cell-64b898d4611ff820",
     "locked": true,
     "points": 1,
     "schema_version": 3,
     "solution": false,
     "task": false
    }
   },
   "outputs": [
    {
     "data": {
      "text/plain": [
       "'Success'"
      ]
     },
     "execution_count": 46,
     "metadata": {},
     "output_type": "execute_result"
    }
   ],
   "source": [
    "t.test_6d(weather_ext)"
   ]
  },
  {
   "cell_type": "markdown",
   "metadata": {},
   "source": [
    "**Question 6(e)**  <br> {points: 2}\n",
    "\n",
    "Use `.str.split()` with argument `expand=True` to split the column `wind` into a 2 separate columns named  `wind_speed` and `wind_direction`. Make sure the `wind_speed` column is of dtype `int64`.    \n",
    "Name the new dataframe `wind_stats`. "
   ]
  },
  {
   "cell_type": "code",
   "execution_count": 47,
   "metadata": {
    "deletable": false,
    "nbgrader": {
     "cell_type": "code",
     "checksum": "29df295dcbf20ceb7ab7b3d193065c28",
     "grade": false,
     "grade_id": "cell-95558162c7b975fc",
     "locked": false,
     "schema_version": 3,
     "solution": true,
     "task": false
    }
   },
   "outputs": [
    {
     "data": {
      "text/html": [
       "<div>\n",
       "<style scoped>\n",
       "    .dataframe tbody tr th:only-of-type {\n",
       "        vertical-align: middle;\n",
       "    }\n",
       "\n",
       "    .dataframe tbody tr th {\n",
       "        vertical-align: top;\n",
       "    }\n",
       "\n",
       "    .dataframe thead th {\n",
       "        text-align: right;\n",
       "    }\n",
       "</style>\n",
       "<table border=\"1\" class=\"dataframe\">\n",
       "  <thead>\n",
       "    <tr style=\"text-align: right;\">\n",
       "      <th></th>\n",
       "      <th>wind_speed</th>\n",
       "      <th>wind_direction</th>\n",
       "    </tr>\n",
       "  </thead>\n",
       "  <tbody>\n",
       "    <tr>\n",
       "      <th>0</th>\n",
       "      <td>7</td>\n",
       "      <td>SW</td>\n",
       "    </tr>\n",
       "    <tr>\n",
       "      <th>1</th>\n",
       "      <td>8</td>\n",
       "      <td>S</td>\n",
       "    </tr>\n",
       "    <tr>\n",
       "      <th>2</th>\n",
       "      <td>13</td>\n",
       "      <td>SW</td>\n",
       "    </tr>\n",
       "    <tr>\n",
       "      <th>3</th>\n",
       "      <td>10</td>\n",
       "      <td>W</td>\n",
       "    </tr>\n",
       "    <tr>\n",
       "      <th>4</th>\n",
       "      <td>8</td>\n",
       "      <td>SE</td>\n",
       "    </tr>\n",
       "    <tr>\n",
       "      <th>5</th>\n",
       "      <td>21</td>\n",
       "      <td>W</td>\n",
       "    </tr>\n",
       "    <tr>\n",
       "      <th>6</th>\n",
       "      <td>12</td>\n",
       "      <td>W</td>\n",
       "    </tr>\n",
       "  </tbody>\n",
       "</table>\n",
       "</div>"
      ],
      "text/plain": [
       "   wind_speed wind_direction\n",
       "0           7             SW\n",
       "1           8              S\n",
       "2          13             SW\n",
       "3          10              W\n",
       "4           8             SE\n",
       "5          21              W\n",
       "6          12              W"
      ]
     },
     "execution_count": 47,
     "metadata": {},
     "output_type": "execute_result"
    }
   ],
   "source": [
    "wind_stats = pd.DataFrame(weather_ext.wind.str.split(' ', 1).tolist(),\n",
    "                                 columns = ['wind_speed','wind_direction'])\n",
    "wind_stats['wind_speed'] = pd.to_numeric(wind_stats['wind_speed'])\n",
    "wind_stats"
   ]
  },
  {
   "cell_type": "code",
   "execution_count": 48,
   "metadata": {
    "deletable": false,
    "editable": false,
    "nbgrader": {
     "cell_type": "code",
     "checksum": "6e61437cf9972124f9c36d1e2949f3c9",
     "grade": true,
     "grade_id": "cell-5d8dc27af23d5065",
     "locked": true,
     "points": 2,
     "schema_version": 3,
     "solution": false,
     "task": false
    }
   },
   "outputs": [
    {
     "data": {
      "text/plain": [
       "'Success'"
      ]
     },
     "execution_count": 48,
     "metadata": {},
     "output_type": "execute_result"
    }
   ],
   "source": [
    "t.test_6e(wind_stats)"
   ]
  },
  {
   "cell_type": "markdown",
   "metadata": {},
   "source": [
    "**Question 6(f)**  <br> {points: 2}\n",
    "\n",
    "Merge or concatenate these columns back with the original dataframe `weather_ext`. \n",
    "Name the new dataframe `weather_extended`."
   ]
  },
  {
   "cell_type": "code",
   "execution_count": 49,
   "metadata": {
    "deletable": false,
    "nbgrader": {
     "cell_type": "code",
     "checksum": "801274c8230f8ca4db75e98cd7915d42",
     "grade": false,
     "grade_id": "cell-6d5ae7710bf9d74d",
     "locked": false,
     "schema_version": 3,
     "solution": true,
     "task": false
    }
   },
   "outputs": [
    {
     "data": {
      "text/html": [
       "<div>\n",
       "<style scoped>\n",
       "    .dataframe tbody tr th:only-of-type {\n",
       "        vertical-align: middle;\n",
       "    }\n",
       "\n",
       "    .dataframe tbody tr th {\n",
       "        vertical-align: top;\n",
       "    }\n",
       "\n",
       "    .dataframe thead th {\n",
       "        text-align: right;\n",
       "    }\n",
       "</style>\n",
       "<table border=\"1\" class=\"dataframe\">\n",
       "  <thead>\n",
       "    <tr style=\"text-align: right;\">\n",
       "      <th></th>\n",
       "      <th>day</th>\n",
       "      <th>description</th>\n",
       "      <th>day_temperature</th>\n",
       "      <th>night_temperature</th>\n",
       "      <th>pop</th>\n",
       "      <th>wind</th>\n",
       "      <th>hrs_sun</th>\n",
       "      <th>rain</th>\n",
       "      <th>temp_avg</th>\n",
       "      <th>wind_speed</th>\n",
       "      <th>wind_direction</th>\n",
       "    </tr>\n",
       "  </thead>\n",
       "  <tbody>\n",
       "    <tr>\n",
       "      <th>0</th>\n",
       "      <td>Monday</td>\n",
       "      <td>sunny</td>\n",
       "      <td>22.0</td>\n",
       "      <td>14.0</td>\n",
       "      <td>10</td>\n",
       "      <td>7 SW</td>\n",
       "      <td>15.0</td>\n",
       "      <td>None</td>\n",
       "      <td>18.0</td>\n",
       "      <td>7</td>\n",
       "      <td>SW</td>\n",
       "    </tr>\n",
       "    <tr>\n",
       "      <th>1</th>\n",
       "      <td>Tuesday</td>\n",
       "      <td>sunny</td>\n",
       "      <td>21.0</td>\n",
       "      <td>15.0</td>\n",
       "      <td>0</td>\n",
       "      <td>8 S</td>\n",
       "      <td>15.0</td>\n",
       "      <td>None</td>\n",
       "      <td>18.0</td>\n",
       "      <td>8</td>\n",
       "      <td>S</td>\n",
       "    </tr>\n",
       "    <tr>\n",
       "      <th>2</th>\n",
       "      <td>Wednesday</td>\n",
       "      <td>showers</td>\n",
       "      <td>23.0</td>\n",
       "      <td>14.0</td>\n",
       "      <td>80</td>\n",
       "      <td>13 SW</td>\n",
       "      <td>6.0</td>\n",
       "      <td>1-3 mm</td>\n",
       "      <td>18.5</td>\n",
       "      <td>13</td>\n",
       "      <td>SW</td>\n",
       "    </tr>\n",
       "    <tr>\n",
       "      <th>3</th>\n",
       "      <td>Thursday</td>\n",
       "      <td>cloudy</td>\n",
       "      <td>23.0</td>\n",
       "      <td>14.0</td>\n",
       "      <td>20</td>\n",
       "      <td>10 W</td>\n",
       "      <td>9.0</td>\n",
       "      <td>None</td>\n",
       "      <td>18.5</td>\n",
       "      <td>10</td>\n",
       "      <td>W</td>\n",
       "    </tr>\n",
       "    <tr>\n",
       "      <th>4</th>\n",
       "      <td>Friday</td>\n",
       "      <td>chance of showers</td>\n",
       "      <td>22.0</td>\n",
       "      <td>14.0</td>\n",
       "      <td>70</td>\n",
       "      <td>8 SE</td>\n",
       "      <td>5.0</td>\n",
       "      <td>~1 mm</td>\n",
       "      <td>18.0</td>\n",
       "      <td>8</td>\n",
       "      <td>SE</td>\n",
       "    </tr>\n",
       "    <tr>\n",
       "      <th>5</th>\n",
       "      <td>Saturday</td>\n",
       "      <td>chance of showers</td>\n",
       "      <td>21.0</td>\n",
       "      <td>12.0</td>\n",
       "      <td>40</td>\n",
       "      <td>21 W</td>\n",
       "      <td>4.0</td>\n",
       "      <td>~1 mm</td>\n",
       "      <td>16.5</td>\n",
       "      <td>21</td>\n",
       "      <td>W</td>\n",
       "    </tr>\n",
       "    <tr>\n",
       "      <th>6</th>\n",
       "      <td>Sunday</td>\n",
       "      <td>chance of showers</td>\n",
       "      <td>22.0</td>\n",
       "      <td>13.0</td>\n",
       "      <td>40</td>\n",
       "      <td>12 W</td>\n",
       "      <td>5.0</td>\n",
       "      <td>~1 mm</td>\n",
       "      <td>17.5</td>\n",
       "      <td>12</td>\n",
       "      <td>W</td>\n",
       "    </tr>\n",
       "  </tbody>\n",
       "</table>\n",
       "</div>"
      ],
      "text/plain": [
       "         day        description  day_temperature night_temperature pop   wind  \\\n",
       "0     Monday              sunny             22.0              14.0  10   7 SW   \n",
       "1    Tuesday              sunny             21.0              15.0   0    8 S   \n",
       "2  Wednesday            showers             23.0              14.0  80  13 SW   \n",
       "3   Thursday             cloudy             23.0              14.0  20   10 W   \n",
       "4     Friday  chance of showers             22.0              14.0  70   8 SE   \n",
       "5   Saturday  chance of showers             21.0              12.0  40   21 W   \n",
       "6     Sunday  chance of showers             22.0              13.0  40   12 W   \n",
       "\n",
       "   hrs_sun    rain  temp_avg  wind_speed wind_direction  \n",
       "0     15.0    None      18.0           7             SW  \n",
       "1     15.0    None      18.0           8              S  \n",
       "2      6.0  1-3 mm      18.5          13             SW  \n",
       "3      9.0    None      18.5          10              W  \n",
       "4      5.0   ~1 mm      18.0           8             SE  \n",
       "5      4.0   ~1 mm      16.5          21              W  \n",
       "6      5.0   ~1 mm      17.5          12              W  "
      ]
     },
     "execution_count": 49,
     "metadata": {},
     "output_type": "execute_result"
    }
   ],
   "source": [
    "weather_extended = pd.concat([weather_ext, wind_stats], axis = 1)\n",
    "weather_extended"
   ]
  },
  {
   "cell_type": "code",
   "execution_count": 50,
   "metadata": {
    "deletable": false,
    "editable": false,
    "nbgrader": {
     "cell_type": "code",
     "checksum": "7bd6db965f19a375e0aad64b83a4d0e1",
     "grade": true,
     "grade_id": "cell-5a4d7ddb2a290d79",
     "locked": true,
     "points": 2,
     "schema_version": 3,
     "solution": false,
     "task": false
    }
   },
   "outputs": [
    {
     "data": {
      "text/plain": [
       "'Success'"
      ]
     },
     "execution_count": 50,
     "metadata": {},
     "output_type": "execute_result"
    }
   ],
   "source": [
    "t.test_6f(weather_extended)"
   ]
  },
  {
   "cell_type": "markdown",
   "metadata": {},
   "source": [
    "**Question 6(g)**  <br> {points: 1}\n",
    "\n",
    "Create a line plot using `alt.chart(..., width=500, height=300).mark_line()` where the x and y axis are `day` and `wind_speed` respectively. Don't forget to give it a title using the `.properties(title=\"\")` function. \n",
    "\n",
    "If you want the days of the week to be sorted correctly, use the argument      \n",
    "`sort=['Monday','Tuesday','Wednesday','Thursday','Friday','Saturday','Sunday']` within `alt.X()`. \n",
    "\n",
    "Name the plot `wind_plot`. "
   ]
  },
  {
   "cell_type": "code",
   "execution_count": 51,
   "metadata": {
    "deletable": false,
    "nbgrader": {
     "cell_type": "code",
     "checksum": "6ffe0cefaa49cbae773897a42ba2f9c3",
     "grade": false,
     "grade_id": "cell-812ff6784b477b3f",
     "locked": false,
     "schema_version": 3,
     "solution": true,
     "task": false
    }
   },
   "outputs": [
    {
     "data": {
      "text/html": [
       "\n",
       "<div id=\"altair-viz-b5ab9fa70df54344938637540b4200b7\"></div>\n",
       "<script type=\"text/javascript\">\n",
       "  (function(spec, embedOpt){\n",
       "    let outputDiv = document.currentScript.previousElementSibling;\n",
       "    if (outputDiv.id !== \"altair-viz-b5ab9fa70df54344938637540b4200b7\") {\n",
       "      outputDiv = document.getElementById(\"altair-viz-b5ab9fa70df54344938637540b4200b7\");\n",
       "    }\n",
       "    const paths = {\n",
       "      \"vega\": \"https://cdn.jsdelivr.net/npm//vega@5?noext\",\n",
       "      \"vega-lib\": \"https://cdn.jsdelivr.net/npm//vega-lib?noext\",\n",
       "      \"vega-lite\": \"https://cdn.jsdelivr.net/npm//vega-lite@4.8.1?noext\",\n",
       "      \"vega-embed\": \"https://cdn.jsdelivr.net/npm//vega-embed@6?noext\",\n",
       "    };\n",
       "\n",
       "    function loadScript(lib) {\n",
       "      return new Promise(function(resolve, reject) {\n",
       "        var s = document.createElement('script');\n",
       "        s.src = paths[lib];\n",
       "        s.async = true;\n",
       "        s.onload = () => resolve(paths[lib]);\n",
       "        s.onerror = () => reject(`Error loading script: ${paths[lib]}`);\n",
       "        document.getElementsByTagName(\"head\")[0].appendChild(s);\n",
       "      });\n",
       "    }\n",
       "\n",
       "    function showError(err) {\n",
       "      outputDiv.innerHTML = `<div class=\"error\" style=\"color:red;\">${err}</div>`;\n",
       "      throw err;\n",
       "    }\n",
       "\n",
       "    function displayChart(vegaEmbed) {\n",
       "      vegaEmbed(outputDiv, spec, embedOpt)\n",
       "        .catch(err => showError(`Javascript Error: ${err.message}<br>This usually means there's a typo in your chart specification. See the javascript console for the full traceback.`));\n",
       "    }\n",
       "\n",
       "    if(typeof define === \"function\" && define.amd) {\n",
       "      requirejs.config({paths});\n",
       "      require([\"vega-embed\"], displayChart, err => showError(`Error loading script: ${err.message}`));\n",
       "    } else if (typeof vegaEmbed === \"function\") {\n",
       "      displayChart(vegaEmbed);\n",
       "    } else {\n",
       "      loadScript(\"vega\")\n",
       "        .then(() => loadScript(\"vega-lite\"))\n",
       "        .then(() => loadScript(\"vega-embed\"))\n",
       "        .catch(showError)\n",
       "        .then(() => displayChart(vegaEmbed));\n",
       "    }\n",
       "  })({\"config\": {\"view\": {\"continuousWidth\": 400, \"continuousHeight\": 300}}, \"data\": {\"name\": \"data-879b6fc0593ebbf4b20024c6415c07fc\"}, \"mark\": \"line\", \"encoding\": {\"x\": {\"type\": \"nominal\", \"field\": \"day\"}, \"y\": {\"type\": \"quantitative\", \"field\": \"wind_speed\"}}, \"height\": 300, \"title\": \"Daily Wind Speed Data\", \"width\": 500, \"$schema\": \"https://vega.github.io/schema/vega-lite/v4.8.1.json\", \"datasets\": {\"data-879b6fc0593ebbf4b20024c6415c07fc\": [{\"day\": \"Monday\", \"description\": \"sunny\", \"day_temperature\": 22.0, \"night_temperature\": \"14.0\", \"pop\": \"10\", \"wind\": \"7 SW\", \"hrs_sun\": 15.0, \"rain\": null, \"temp_avg\": 18.0, \"wind_speed\": 7, \"wind_direction\": \"SW\"}, {\"day\": \"Tuesday\", \"description\": \"sunny\", \"day_temperature\": 21.0, \"night_temperature\": \"15.0\", \"pop\": \"0\", \"wind\": \"8 S\", \"hrs_sun\": 15.0, \"rain\": null, \"temp_avg\": 18.0, \"wind_speed\": 8, \"wind_direction\": \"S\"}, {\"day\": \"Wednesday\", \"description\": \"showers\", \"day_temperature\": 23.0, \"night_temperature\": \"14.0\", \"pop\": \"80\", \"wind\": \"13 SW\", \"hrs_sun\": 6.0, \"rain\": \"1-3 mm\", \"temp_avg\": 18.5, \"wind_speed\": 13, \"wind_direction\": \"SW\"}, {\"day\": \"Thursday\", \"description\": \"cloudy\", \"day_temperature\": 23.0, \"night_temperature\": \"14.0\", \"pop\": \"20\", \"wind\": \"10 W\", \"hrs_sun\": 9.0, \"rain\": null, \"temp_avg\": 18.5, \"wind_speed\": 10, \"wind_direction\": \"W\"}, {\"day\": \"Friday\", \"description\": \"chance of showers\", \"day_temperature\": 22.0, \"night_temperature\": \"14.0\", \"pop\": \"70\", \"wind\": \"8 SE\", \"hrs_sun\": 5.0, \"rain\": \"~1 mm\", \"temp_avg\": 18.0, \"wind_speed\": 8, \"wind_direction\": \"SE\"}, {\"day\": \"Saturday\", \"description\": \"chance of showers\", \"day_temperature\": 21.0, \"night_temperature\": \"12.0\", \"pop\": \"40\", \"wind\": \"21 W\", \"hrs_sun\": 4.0, \"rain\": \"~1 mm\", \"temp_avg\": 16.5, \"wind_speed\": 21, \"wind_direction\": \"W\"}, {\"day\": \"Sunday\", \"description\": \"chance of showers\", \"day_temperature\": 22.0, \"night_temperature\": \"13.0\", \"pop\": \"40\", \"wind\": \"12 W\", \"hrs_sun\": 5.0, \"rain\": \"~1 mm\", \"temp_avg\": 17.5, \"wind_speed\": 12, \"wind_direction\": \"W\"}]}}, {\"mode\": \"vega-lite\"});\n",
       "</script>"
      ],
      "text/plain": [
       "alt.Chart(...)"
      ]
     },
     "execution_count": 51,
     "metadata": {},
     "output_type": "execute_result"
    }
   ],
   "source": [
    "wind_plot = alt.Chart(weather_extended, width=500, height=300).mark_line().encode(x='day', y='wind_speed').properties(title=\"Daily Wind Speed Data\")\n",
    "wind_plot"
   ]
  },
  {
   "cell_type": "code",
   "execution_count": 52,
   "metadata": {
    "deletable": false,
    "editable": false,
    "nbgrader": {
     "cell_type": "code",
     "checksum": "f26b77501ff4dfb0f2ff8722aacdfcad",
     "grade": true,
     "grade_id": "cell-af571615e5396f56",
     "locked": true,
     "points": 1,
     "schema_version": 3,
     "solution": false,
     "task": false
    }
   },
   "outputs": [
    {
     "data": {
      "text/plain": [
       "'Success'"
      ]
     },
     "execution_count": 52,
     "metadata": {},
     "output_type": "execute_result"
    }
   ],
   "source": [
    "t.test_6g(wind_plot)"
   ]
  },
  {
   "cell_type": "markdown",
   "metadata": {},
   "source": [
    "Before submitting your assignment please do the following:\n",
    "\n",
    "- Read through your solutions\n",
    "- **Restart your kernel and clear output and rerun your cells from top to bottom** \n",
    "- Makes sure that none of your code is broken \n",
    "- Verify that the tests from the questions you answered have obtained the output \"Success\"\n",
    "\n",
    "This is a simple way to make sure that you are submitting all the variables needed to mark the assignment. This method should help avoid losing marks due to changes in your environment.  "
   ]
  },
  {
   "cell_type": "markdown",
   "metadata": {},
   "source": [
    "## Attributions\n",
    "- Gapminder Dataset - [Gapminder](https://www.gapminder.org/data/)\n",
    "- Astronaut Dataset - [Kaggle](https://www.kaggle.com/nasa/astronaut-yearbook?select=astronauts.csv)\n",
    "- Netflix Dataset - [Kaggle](https://www.kaggle.com/shivamb/netflix-shows?select=netflix_titles.csv)\n",
    "- MDS DSCI 511 - Programming for Data Science - [MDS's GitHub website](https://ubc-mds.github.io/course-descriptions/DSCI_511_prog-dsci/) \n"
   ]
  },
  {
   "cell_type": "markdown",
   "metadata": {},
   "source": [
    "## Module Debriefing\n",
    "\n",
    "If this video is not showing up below, click on the cell and click the ▶ button in the toolbar above."
   ]
  },
  {
   "cell_type": "code",
   "execution_count": 53,
   "metadata": {},
   "outputs": [
    {
     "data": {
      "image/jpeg": "[encoded data removed]",
      "text/html": [
       "\n",
       "        <iframe\n",
       "            width=\"854\"\n",
       "            height=\"480\"\n",
       "            src=\"https://www.youtube.com/embed/bHmaiwexLTc\"\n",
       "            frameborder=\"0\"\n",
       "            allowfullscreen\n",
       "        ></iframe>\n",
       "        "
      ],
      "text/plain": [
       "<IPython.lib.display.YouTubeVideo at 0x7fc9f84a6970>"
      ]
     },
     "execution_count": 53,
     "metadata": {},
     "output_type": "execute_result"
    }
   ],
   "source": [
    "from IPython.display import YouTubeVideo\n",
    "YouTubeVideo('bHmaiwexLTc', width=854, height=480)"
   ]
  },
  {
   "cell_type": "code",
   "execution_count": null,
   "metadata": {},
   "outputs": [],
   "source": []
  }
 ],
 "metadata": {
  "kernelspec": {
   "display_name": "Python 3",
   "language": "python",
   "name": "python3"
  },
  "language_info": {
   "codemirror_mode": {
    "name": "ipython",
    "version": 3
   },
   "file_extension": ".py",
   "mimetype": "text/x-python",
   "name": "python",
   "nbconvert_exporter": "python",
   "pygments_lexer": "ipython3",
   "version": "3.8.5"
  },
  "toc": {
   "base_numbering": 1,
   "nav_menu": {},
   "number_sections": true,
   "sideBar": true,
   "skip_h1_title": false,
   "title_cell": "Table of Contents",
   "title_sidebar": "Contents",
   "toc_cell": false,
   "toc_position": {},
   "toc_section_display": true,
   "toc_window_display": false
  }
 },
 "nbformat": 4,
 "nbformat_minor": 4
}
