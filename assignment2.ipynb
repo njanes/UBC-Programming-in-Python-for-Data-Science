{
 "cells": [
  {
   "cell_type": "markdown",
   "metadata": {},
   "source": [
    "# Programming in Python for Data Science \n",
    "\n",
    "# Assignment 2: Table Manipulation and Chaining"
   ]
  },
  {
   "cell_type": "markdown",
   "metadata": {},
   "source": [
    "You can't learn technical subjects without hands-on practice. The assignments are an important part of the course. To submit this assignment you will need to make sure that you save your Jupyter notebook. \n",
    "\n",
    "Below are the links of 2 videos that explain:\n",
    "\n",
    "1. [How to save your Jupyter notebook](https://youtu.be/0aoLgBoAUSA) and,       \n",
    "2. [How to answer a question in a Jupyter notebook assignment](https://youtu.be/7j0WKhI3W4s).  "
   ]
  },
  {
   "cell_type": "markdown",
   "metadata": {},
   "source": [
    "### Assignment Learning Goals:\n",
    "\n",
    "By the end of the module, students are expected to:\n",
    "- Demonstrate how to rename columns of a dataframe using [`.rename()`](https://pandas.pydata.org/pandas-docs/stable/reference/api/pandas.DataFrame.rename.html).\n",
    "- Create new or columns in a dataframe using [`.assign()`](https://pandas.pydata.org/pandas-docs/stable/reference/api/pandas.DataFrame.assign.html) notation.\n",
    "- Drop columns in a dataframe using [`.drop()`](https://pandas.pydata.org/pandas-docs/stable/reference/api/pandas.DataFrame.drop.html)\n",
    "- Use `df[]` notation to filter rows of a dataframe.\n",
    "- Calculate summary statistics on grouped objects using [`.groupby()`](https://pandas.pydata.org/pandas-docs/stable/reference/api/pandas.DataFrame.groupby.html) and [`.agg()`](https://pandas.pydata.org/pandas-docs/stable/reference/api/pandas.DataFrame.agg.html).\n",
    "- Explain when chaining is appropriate.\n",
    "- Demonstrate chaining over multiple lines and verbs.\n",
    "\n",
    "This assignment covers [Module 2](https://prog-learn.mds.ubc.ca/en/module2) of the online course. You should complete this module before attempting this assignment."
   ]
  },
  {
   "cell_type": "markdown",
   "metadata": {},
   "source": [
    "Any place you see `...`, you must fill in the function, variable, or data to complete the code. Substitute the `None` and the `raise NotImplementedError # No Answer - remove if you provide an answer` with your completed code and answers then proceed to run the cell!"
   ]
  },
  {
   "cell_type": "markdown",
   "metadata": {},
   "source": [
    "Note that some of the questions in this assignment will have hidden tests. This means that no feedback will be given as to the correctness of your solution. It will be left up to you to decide if your answer is sufficiently correct. These questions are worth 2 points."
   ]
  },
  {
   "cell_type": "code",
   "execution_count": 145,
   "metadata": {},
   "outputs": [],
   "source": [
    "# Import libraries needed for this lab\n",
    "from hashlib import sha1\n",
    "import test_assignment2 as t\n",
    "import pandas as pd\n",
    "import altair as alt\n"
   ]
  },
  {
   "cell_type": "markdown",
   "metadata": {},
   "source": [
    "## 1. Loading files with Pandas \n",
    "\n",
    "In the previous module we loaded data from `csv` files using `pd.read_csv()` with limited arguments. However, most commonly you will need to create additional arguments or `pd.read_excel()` to load in a dataset to a dataframe that you can work with. `pd.read_excel()` and `pd.read_csv()` have many parameters that help read data files of different structures and formats. "
   ]
  },
  {
   "cell_type": "markdown",
   "metadata": {},
   "source": [
    " In the `data` folder there are 8 different `.csv` and `.xlsx` files named `wine_letter.csv/.txt/.xlsx` (example- if the question is 1(f), the corresponding data is named `wine_f.txt`). Look at each of these files and use `pd.read_csv()` or `pd.read_excel()` to load these data so that they resemble the following:\n",
    "\n",
    "|   | Grape | Origin | Alcohol | pH | Color | Aroma |\n",
    "| :---: | :---: | :---: | :---: | :---: | :---: | :---: |\n",
    "| **0** |  Chardonnay | Australia | 14.23 | 3.51 | White | Floral |\n",
    "| **1** |  Pinot Grigio | Italy | 13.20 | 3.30 | White | Fruity |\n",
    "| **2** |  Pinot Blanc | France | 13.16 | 3.16 | White | Citrus |\n",
    "| **3** |  Shiraz | Chile | 14.91 | 3.39 | Red | Berry |\n",
    "| **4** |  Malbec | Argentina | 13.83 | 3.28 | Red | Fruity |\n"
   ]
  },
  {
   "cell_type": "markdown",
   "metadata": {},
   "source": [
    "**Question 1(a)**  <br> {points: 1}   \n",
    "\n",
    "Load in the file named `wine_a.csv` using the appropriate verb `pd.read_csv()` or `pd.read_excel()` and arguments and save it as an object named `df_1a`."
   ]
  },
  {
   "cell_type": "code",
   "execution_count": 146,
   "metadata": {
    "deletable": false,
    "nbgrader": {
     "cell_type": "code",
     "checksum": "fe43264286427b79ec368e5fbad209a9",
     "grade": false,
     "grade_id": "cell-e60ff99336d4d01a",
     "locked": false,
     "schema_version": 3,
     "solution": true,
     "task": false
    }
   },
   "outputs": [
    {
     "data": {
      "text/html": [
       "<div>\n",
       "<style scoped>\n",
       "    .dataframe tbody tr th:only-of-type {\n",
       "        vertical-align: middle;\n",
       "    }\n",
       "\n",
       "    .dataframe tbody tr th {\n",
       "        vertical-align: top;\n",
       "    }\n",
       "\n",
       "    .dataframe thead th {\n",
       "        text-align: right;\n",
       "    }\n",
       "</style>\n",
       "<table border=\"1\" class=\"dataframe\">\n",
       "  <thead>\n",
       "    <tr style=\"text-align: right;\">\n",
       "      <th></th>\n",
       "      <th>Grape</th>\n",
       "      <th>Origin</th>\n",
       "      <th>Alcohol</th>\n",
       "      <th>pH</th>\n",
       "      <th>Colour</th>\n",
       "      <th>Aroma</th>\n",
       "    </tr>\n",
       "  </thead>\n",
       "  <tbody>\n",
       "    <tr>\n",
       "      <th>0</th>\n",
       "      <td>Chardonnay</td>\n",
       "      <td>Australia</td>\n",
       "      <td>14.23</td>\n",
       "      <td>3.51</td>\n",
       "      <td>White</td>\n",
       "      <td>Floral</td>\n",
       "    </tr>\n",
       "    <tr>\n",
       "      <th>1</th>\n",
       "      <td>Pinot Grigio</td>\n",
       "      <td>Italy</td>\n",
       "      <td>13.20</td>\n",
       "      <td>3.30</td>\n",
       "      <td>White</td>\n",
       "      <td>Fruity</td>\n",
       "    </tr>\n",
       "    <tr>\n",
       "      <th>2</th>\n",
       "      <td>Pinot Blanc</td>\n",
       "      <td>France</td>\n",
       "      <td>13.16</td>\n",
       "      <td>3.16</td>\n",
       "      <td>White</td>\n",
       "      <td>Citrus</td>\n",
       "    </tr>\n",
       "    <tr>\n",
       "      <th>3</th>\n",
       "      <td>Shiraz</td>\n",
       "      <td>Chile</td>\n",
       "      <td>14.91</td>\n",
       "      <td>3.39</td>\n",
       "      <td>Red</td>\n",
       "      <td>Berry</td>\n",
       "    </tr>\n",
       "    <tr>\n",
       "      <th>4</th>\n",
       "      <td>Malbec</td>\n",
       "      <td>Argentina</td>\n",
       "      <td>13.83</td>\n",
       "      <td>3.28</td>\n",
       "      <td>Red</td>\n",
       "      <td>Fruity</td>\n",
       "    </tr>\n",
       "  </tbody>\n",
       "</table>\n",
       "</div>"
      ],
      "text/plain": [
       "          Grape     Origin  Alcohol    pH Colour   Aroma\n",
       "0    Chardonnay  Australia    14.23  3.51  White  Floral\n",
       "1  Pinot Grigio      Italy    13.20  3.30  White  Fruity\n",
       "2   Pinot Blanc     France    13.16  3.16  White  Citrus\n",
       "3        Shiraz      Chile    14.91  3.39    Red   Berry\n",
       "4        Malbec  Argentina    13.83  3.28    Red  Fruity"
      ]
     },
     "execution_count": 146,
     "metadata": {},
     "output_type": "execute_result"
    }
   ],
   "source": [
    "df_1a = pd.read_csv(\"data/wine_a.csv\")\n",
    "df_1a"
   ]
  },
  {
   "cell_type": "code",
   "execution_count": 147,
   "metadata": {
    "deletable": false,
    "editable": false,
    "nbgrader": {
     "cell_type": "code",
     "checksum": "0d786116d9a09a9f6f12f26db74efed0",
     "grade": true,
     "grade_id": "cell-4931d4895213ff2d",
     "locked": true,
     "points": 1,
     "schema_version": 3,
     "solution": false,
     "task": false
    }
   },
   "outputs": [
    {
     "data": {
      "text/plain": [
       "'success'"
      ]
     },
     "execution_count": 147,
     "metadata": {},
     "output_type": "execute_result"
    }
   ],
   "source": [
    "t.test_1a(df_1a)"
   ]
  },
  {
   "cell_type": "markdown",
   "metadata": {},
   "source": [
    "**Question 1(b)**  <br> {points: 1}   \n",
    "\n",
    "Load in the file named `wine_b.csv` using the appropriate verb `pd.read_csv()` or `pd.read_excel()` and arguments and save it as an object named `df_1b`."
   ]
  },
  {
   "cell_type": "code",
   "execution_count": 148,
   "metadata": {
    "deletable": false,
    "nbgrader": {
     "cell_type": "code",
     "checksum": "df2cc50a03ae8094d5a5f6dd43aaffcd",
     "grade": false,
     "grade_id": "cell-97c01391ad25a043",
     "locked": false,
     "schema_version": 3,
     "solution": true,
     "task": false
    }
   },
   "outputs": [
    {
     "data": {
      "text/html": [
       "<div>\n",
       "<style scoped>\n",
       "    .dataframe tbody tr th:only-of-type {\n",
       "        vertical-align: middle;\n",
       "    }\n",
       "\n",
       "    .dataframe tbody tr th {\n",
       "        vertical-align: top;\n",
       "    }\n",
       "\n",
       "    .dataframe thead th {\n",
       "        text-align: right;\n",
       "    }\n",
       "</style>\n",
       "<table border=\"1\" class=\"dataframe\">\n",
       "  <thead>\n",
       "    <tr style=\"text-align: right;\">\n",
       "      <th></th>\n",
       "      <th>Grape</th>\n",
       "      <th>Origin</th>\n",
       "      <th>Alcohol</th>\n",
       "      <th>pH</th>\n",
       "      <th>Colour</th>\n",
       "      <th>Aroma</th>\n",
       "    </tr>\n",
       "  </thead>\n",
       "  <tbody>\n",
       "    <tr>\n",
       "      <th>0</th>\n",
       "      <td>Chardonnay</td>\n",
       "      <td>Australia</td>\n",
       "      <td>14.23</td>\n",
       "      <td>3.51</td>\n",
       "      <td>White</td>\n",
       "      <td>Floral</td>\n",
       "    </tr>\n",
       "    <tr>\n",
       "      <th>1</th>\n",
       "      <td>Pinot Grigio</td>\n",
       "      <td>Italy</td>\n",
       "      <td>13.20</td>\n",
       "      <td>3.30</td>\n",
       "      <td>White</td>\n",
       "      <td>Fruity</td>\n",
       "    </tr>\n",
       "    <tr>\n",
       "      <th>2</th>\n",
       "      <td>Pinot Blanc</td>\n",
       "      <td>France</td>\n",
       "      <td>13.16</td>\n",
       "      <td>3.16</td>\n",
       "      <td>White</td>\n",
       "      <td>Citrus</td>\n",
       "    </tr>\n",
       "    <tr>\n",
       "      <th>3</th>\n",
       "      <td>Shiraz</td>\n",
       "      <td>Chile</td>\n",
       "      <td>14.91</td>\n",
       "      <td>3.39</td>\n",
       "      <td>Red</td>\n",
       "      <td>Berry</td>\n",
       "    </tr>\n",
       "    <tr>\n",
       "      <th>4</th>\n",
       "      <td>Malbec</td>\n",
       "      <td>Argentina</td>\n",
       "      <td>13.83</td>\n",
       "      <td>3.28</td>\n",
       "      <td>Red</td>\n",
       "      <td>Fruity</td>\n",
       "    </tr>\n",
       "  </tbody>\n",
       "</table>\n",
       "</div>"
      ],
      "text/plain": [
       "          Grape     Origin  Alcohol    pH Colour   Aroma\n",
       "0    Chardonnay  Australia    14.23  3.51  White  Floral\n",
       "1  Pinot Grigio      Italy    13.20  3.30  White  Fruity\n",
       "2   Pinot Blanc     France    13.16  3.16  White  Citrus\n",
       "3        Shiraz      Chile    14.91  3.39    Red   Berry\n",
       "4        Malbec  Argentina    13.83  3.28    Red  Fruity"
      ]
     },
     "execution_count": 148,
     "metadata": {},
     "output_type": "execute_result"
    }
   ],
   "source": [
    "df_1b = pd.read_csv(\"data/wine_b.csv\", header = 1)\n",
    "df_1b"
   ]
  },
  {
   "cell_type": "code",
   "execution_count": 149,
   "metadata": {
    "deletable": false,
    "editable": false,
    "nbgrader": {
     "cell_type": "code",
     "checksum": "1f82b7a92be84fa7cf2ad00bd7ef0a48",
     "grade": true,
     "grade_id": "cell-09e0d6bb4c9185dd",
     "locked": true,
     "points": 1,
     "schema_version": 3,
     "solution": false,
     "task": false
    }
   },
   "outputs": [
    {
     "data": {
      "text/plain": [
       "'success'"
      ]
     },
     "execution_count": 149,
     "metadata": {},
     "output_type": "execute_result"
    }
   ],
   "source": [
    "t.test_1b(df_1b)"
   ]
  },
  {
   "cell_type": "markdown",
   "metadata": {},
   "source": [
    "**Question 1(c)**  <br> {points: 1}   \n",
    "\n",
    "Load in the file named `wine_c.csv` using the appropriate verb `pd.read_csv()` or `pd.read_excel()` and arguments and save it as an object named `df_1c`."
   ]
  },
  {
   "cell_type": "code",
   "execution_count": 150,
   "metadata": {
    "deletable": false,
    "nbgrader": {
     "cell_type": "code",
     "checksum": "00113126b5a6c59d43e506571601a4c7",
     "grade": false,
     "grade_id": "cell-5bcbd26df73e99b7",
     "locked": false,
     "schema_version": 3,
     "solution": true,
     "task": false
    }
   },
   "outputs": [
    {
     "data": {
      "text/html": [
       "<div>\n",
       "<style scoped>\n",
       "    .dataframe tbody tr th:only-of-type {\n",
       "        vertical-align: middle;\n",
       "    }\n",
       "\n",
       "    .dataframe tbody tr th {\n",
       "        vertical-align: top;\n",
       "    }\n",
       "\n",
       "    .dataframe thead th {\n",
       "        text-align: right;\n",
       "    }\n",
       "</style>\n",
       "<table border=\"1\" class=\"dataframe\">\n",
       "  <thead>\n",
       "    <tr style=\"text-align: right;\">\n",
       "      <th></th>\n",
       "      <th>Grape</th>\n",
       "      <th>Origin</th>\n",
       "      <th>Alcohol</th>\n",
       "      <th>pH</th>\n",
       "      <th>Colour</th>\n",
       "      <th>Aroma</th>\n",
       "    </tr>\n",
       "  </thead>\n",
       "  <tbody>\n",
       "    <tr>\n",
       "      <th>0</th>\n",
       "      <td>Chardonnay</td>\n",
       "      <td>Australia</td>\n",
       "      <td>14.23</td>\n",
       "      <td>3.51</td>\n",
       "      <td>White</td>\n",
       "      <td>Floral</td>\n",
       "    </tr>\n",
       "    <tr>\n",
       "      <th>1</th>\n",
       "      <td>Pinot Grigio</td>\n",
       "      <td>Italy</td>\n",
       "      <td>13.20</td>\n",
       "      <td>3.30</td>\n",
       "      <td>White</td>\n",
       "      <td>Fruity</td>\n",
       "    </tr>\n",
       "    <tr>\n",
       "      <th>2</th>\n",
       "      <td>Pinot Blanc</td>\n",
       "      <td>France</td>\n",
       "      <td>13.16</td>\n",
       "      <td>3.16</td>\n",
       "      <td>White</td>\n",
       "      <td>Citrus</td>\n",
       "    </tr>\n",
       "    <tr>\n",
       "      <th>3</th>\n",
       "      <td>Shiraz</td>\n",
       "      <td>Chile</td>\n",
       "      <td>14.91</td>\n",
       "      <td>3.39</td>\n",
       "      <td>Red</td>\n",
       "      <td>Berry</td>\n",
       "    </tr>\n",
       "    <tr>\n",
       "      <th>4</th>\n",
       "      <td>Malbec</td>\n",
       "      <td>Argentina</td>\n",
       "      <td>13.83</td>\n",
       "      <td>3.28</td>\n",
       "      <td>Red</td>\n",
       "      <td>Fruity</td>\n",
       "    </tr>\n",
       "  </tbody>\n",
       "</table>\n",
       "</div>"
      ],
      "text/plain": [
       "          Grape     Origin  Alcohol    pH Colour   Aroma\n",
       "0    Chardonnay  Australia    14.23  3.51  White  Floral\n",
       "1  Pinot Grigio      Italy    13.20  3.30  White  Fruity\n",
       "2   Pinot Blanc     France    13.16  3.16  White  Citrus\n",
       "3        Shiraz      Chile    14.91  3.39    Red   Berry\n",
       "4        Malbec  Argentina    13.83  3.28    Red  Fruity"
      ]
     },
     "execution_count": 150,
     "metadata": {},
     "output_type": "execute_result"
    }
   ],
   "source": [
    "df_1c = pd.read_csv(\"data/wine_c.csv\", nrows = 5)\n",
    "df_1c"
   ]
  },
  {
   "cell_type": "code",
   "execution_count": 151,
   "metadata": {
    "deletable": false,
    "editable": false,
    "nbgrader": {
     "cell_type": "code",
     "checksum": "47be9daffe03e0add1fd4b5ad23ab8fb",
     "grade": true,
     "grade_id": "cell-76b78585dc5069f4",
     "locked": true,
     "points": 1,
     "schema_version": 3,
     "solution": false,
     "task": false
    }
   },
   "outputs": [
    {
     "data": {
      "text/plain": [
       "'success'"
      ]
     },
     "execution_count": 151,
     "metadata": {},
     "output_type": "execute_result"
    }
   ],
   "source": [
    "t.test_1c(df_1c)"
   ]
  },
  {
   "cell_type": "markdown",
   "metadata": {},
   "source": [
    "**Question 1(d)**  <br> {points: 1}   \n",
    "\n",
    "Load in the file named `wine_d.txt` using the appropriate verb `pd.read_csv()` or `pd.read_excel()` and arguments and save it as an object named `df_1d`."
   ]
  },
  {
   "cell_type": "code",
   "execution_count": 152,
   "metadata": {
    "deletable": false,
    "nbgrader": {
     "cell_type": "code",
     "checksum": "11fe3d7e10441b2c4fd3bce6accc4193",
     "grade": false,
     "grade_id": "cell-84c10d85922e4413",
     "locked": false,
     "schema_version": 3,
     "solution": true,
     "task": false
    }
   },
   "outputs": [
    {
     "data": {
      "text/html": [
       "<div>\n",
       "<style scoped>\n",
       "    .dataframe tbody tr th:only-of-type {\n",
       "        vertical-align: middle;\n",
       "    }\n",
       "\n",
       "    .dataframe tbody tr th {\n",
       "        vertical-align: top;\n",
       "    }\n",
       "\n",
       "    .dataframe thead th {\n",
       "        text-align: right;\n",
       "    }\n",
       "</style>\n",
       "<table border=\"1\" class=\"dataframe\">\n",
       "  <thead>\n",
       "    <tr style=\"text-align: right;\">\n",
       "      <th></th>\n",
       "      <th>Grape</th>\n",
       "      <th>Origin</th>\n",
       "      <th>Alcohol</th>\n",
       "      <th>pH</th>\n",
       "      <th>Colour</th>\n",
       "      <th>Aroma</th>\n",
       "    </tr>\n",
       "  </thead>\n",
       "  <tbody>\n",
       "    <tr>\n",
       "      <th>0</th>\n",
       "      <td>Chardonnay</td>\n",
       "      <td>Australia</td>\n",
       "      <td>14.23</td>\n",
       "      <td>3.51</td>\n",
       "      <td>White</td>\n",
       "      <td>Floral</td>\n",
       "    </tr>\n",
       "    <tr>\n",
       "      <th>1</th>\n",
       "      <td>Pinot Grigio</td>\n",
       "      <td>Italy</td>\n",
       "      <td>13.20</td>\n",
       "      <td>3.30</td>\n",
       "      <td>White</td>\n",
       "      <td>Fruity</td>\n",
       "    </tr>\n",
       "    <tr>\n",
       "      <th>2</th>\n",
       "      <td>Pinot Blanc</td>\n",
       "      <td>France</td>\n",
       "      <td>13.16</td>\n",
       "      <td>3.16</td>\n",
       "      <td>White</td>\n",
       "      <td>Citrus</td>\n",
       "    </tr>\n",
       "    <tr>\n",
       "      <th>3</th>\n",
       "      <td>Shiraz</td>\n",
       "      <td>Chile</td>\n",
       "      <td>14.91</td>\n",
       "      <td>3.39</td>\n",
       "      <td>Red</td>\n",
       "      <td>Berry</td>\n",
       "    </tr>\n",
       "    <tr>\n",
       "      <th>4</th>\n",
       "      <td>Malbec</td>\n",
       "      <td>Argentina</td>\n",
       "      <td>13.83</td>\n",
       "      <td>3.28</td>\n",
       "      <td>Red</td>\n",
       "      <td>Fruity</td>\n",
       "    </tr>\n",
       "  </tbody>\n",
       "</table>\n",
       "</div>"
      ],
      "text/plain": [
       "          Grape     Origin  Alcohol    pH Colour   Aroma\n",
       "0    Chardonnay  Australia    14.23  3.51  White  Floral\n",
       "1  Pinot Grigio      Italy    13.20  3.30  White  Fruity\n",
       "2   Pinot Blanc     France    13.16  3.16  White  Citrus\n",
       "3        Shiraz      Chile    14.91  3.39    Red   Berry\n",
       "4        Malbec  Argentina    13.83  3.28    Red  Fruity"
      ]
     },
     "execution_count": 152,
     "metadata": {},
     "output_type": "execute_result"
    }
   ],
   "source": [
    "df_1d = pd.read_csv(\"data/wine_d.txt\", delimiter = \"\\t\")\n",
    "df_1d"
   ]
  },
  {
   "cell_type": "code",
   "execution_count": 153,
   "metadata": {
    "deletable": false,
    "editable": false,
    "nbgrader": {
     "cell_type": "code",
     "checksum": "bd709989db9f8b7a0e46b53bd971fcb8",
     "grade": true,
     "grade_id": "cell-463aaa00c2184211",
     "locked": true,
     "points": 1,
     "schema_version": 3,
     "solution": false,
     "task": false
    }
   },
   "outputs": [
    {
     "data": {
      "text/plain": [
       "'success'"
      ]
     },
     "execution_count": 153,
     "metadata": {},
     "output_type": "execute_result"
    }
   ],
   "source": [
    "t.test_1d(df_1d)"
   ]
  },
  {
   "cell_type": "markdown",
   "metadata": {},
   "source": [
    "**Question 1(e)**  <br> {points: 2}   \n",
    "\n",
    "Load in the file named `wine_e.csv` using the appropriate verb `pd.read_csv()` or `pd.read_excel()` and arguments and save it as an object named `df_1e`."
   ]
  },
  {
   "cell_type": "code",
   "execution_count": 154,
   "metadata": {
    "deletable": false,
    "nbgrader": {
     "cell_type": "code",
     "checksum": "e15984bfa9069091acf8429095f8e6c9",
     "grade": false,
     "grade_id": "cell-246416508bc9f501",
     "locked": false,
     "schema_version": 3,
     "solution": true,
     "task": false
    }
   },
   "outputs": [
    {
     "data": {
      "text/html": [
       "<div>\n",
       "<style scoped>\n",
       "    .dataframe tbody tr th:only-of-type {\n",
       "        vertical-align: middle;\n",
       "    }\n",
       "\n",
       "    .dataframe tbody tr th {\n",
       "        vertical-align: top;\n",
       "    }\n",
       "\n",
       "    .dataframe thead th {\n",
       "        text-align: right;\n",
       "    }\n",
       "</style>\n",
       "<table border=\"1\" class=\"dataframe\">\n",
       "  <thead>\n",
       "    <tr style=\"text-align: right;\">\n",
       "      <th></th>\n",
       "      <th>Grape</th>\n",
       "      <th>Origin</th>\n",
       "      <th>Alcohol</th>\n",
       "      <th>pH</th>\n",
       "      <th>Colour</th>\n",
       "      <th>Aroma</th>\n",
       "    </tr>\n",
       "  </thead>\n",
       "  <tbody>\n",
       "    <tr>\n",
       "      <th>0</th>\n",
       "      <td>Chardonnay</td>\n",
       "      <td>Australia</td>\n",
       "      <td>14.23</td>\n",
       "      <td>3.51</td>\n",
       "      <td>White</td>\n",
       "      <td>Floral</td>\n",
       "    </tr>\n",
       "    <tr>\n",
       "      <th>1</th>\n",
       "      <td>Pinot Grigio</td>\n",
       "      <td>Italy</td>\n",
       "      <td>13.20</td>\n",
       "      <td>3.30</td>\n",
       "      <td>White</td>\n",
       "      <td>Fruity</td>\n",
       "    </tr>\n",
       "    <tr>\n",
       "      <th>2</th>\n",
       "      <td>Pinot Blanc</td>\n",
       "      <td>France</td>\n",
       "      <td>13.16</td>\n",
       "      <td>3.16</td>\n",
       "      <td>White</td>\n",
       "      <td>Citrus</td>\n",
       "    </tr>\n",
       "    <tr>\n",
       "      <th>3</th>\n",
       "      <td>Shiraz</td>\n",
       "      <td>Chile</td>\n",
       "      <td>14.91</td>\n",
       "      <td>3.39</td>\n",
       "      <td>Red</td>\n",
       "      <td>Berry</td>\n",
       "    </tr>\n",
       "    <tr>\n",
       "      <th>4</th>\n",
       "      <td>Malbec</td>\n",
       "      <td>Argentina</td>\n",
       "      <td>13.83</td>\n",
       "      <td>3.28</td>\n",
       "      <td>Red</td>\n",
       "      <td>Fruity</td>\n",
       "    </tr>\n",
       "  </tbody>\n",
       "</table>\n",
       "</div>"
      ],
      "text/plain": [
       "          Grape     Origin  Alcohol    pH Colour   Aroma\n",
       "0    Chardonnay  Australia    14.23  3.51  White  Floral\n",
       "1  Pinot Grigio      Italy    13.20  3.30  White  Fruity\n",
       "2   Pinot Blanc     France    13.16  3.16  White  Citrus\n",
       "3        Shiraz      Chile    14.91  3.39    Red   Berry\n",
       "4        Malbec  Argentina    13.83  3.28    Red  Fruity"
      ]
     },
     "execution_count": 154,
     "metadata": {},
     "output_type": "execute_result"
    }
   ],
   "source": [
    "df_1e = pd.read_csv(\"data/wine_e.csv\", usecols = range(0,6), nrows = 5)\n",
    "df_1e"
   ]
  },
  {
   "cell_type": "code",
   "execution_count": 155,
   "metadata": {
    "deletable": false,
    "editable": false,
    "nbgrader": {
     "cell_type": "code",
     "checksum": "dda9a235904caa53a5bbc856c9b77171",
     "grade": true,
     "grade_id": "cell-1d4d04b4dfe42be6",
     "locked": true,
     "points": 2,
     "schema_version": 3,
     "solution": false,
     "task": false
    }
   },
   "outputs": [],
   "source": [
    "assert 'df_1e' in locals(), \"Your answer should be named 'df_1e'\"\n",
    "\n",
    "# Note that this test has been hidden intentionally.\n",
    "# It will provide no feedback as to the correctness of your answers.\n",
    "# Thus, it is up to you to decide if your answer is sufficiently correct."
   ]
  },
  {
   "cell_type": "markdown",
   "metadata": {},
   "source": [
    "**Question 1(f)**  <br> {points: 1}   \n",
    "\n",
    "Load in the file named `wine_f.txt` using the appropriate verb `pd.read_csv()` or `pd.read_excel()` and arguments and save it as an object named `df_1f`."
   ]
  },
  {
   "cell_type": "code",
   "execution_count": 156,
   "metadata": {
    "deletable": false,
    "nbgrader": {
     "cell_type": "code",
     "checksum": "55ce3b8d2dcd8a5bfdac53ecb3bd9a74",
     "grade": false,
     "grade_id": "cell-9a0f33c3a9ff9592",
     "locked": false,
     "schema_version": 3,
     "solution": true,
     "task": false
    }
   },
   "outputs": [
    {
     "data": {
      "text/html": [
       "<div>\n",
       "<style scoped>\n",
       "    .dataframe tbody tr th:only-of-type {\n",
       "        vertical-align: middle;\n",
       "    }\n",
       "\n",
       "    .dataframe tbody tr th {\n",
       "        vertical-align: top;\n",
       "    }\n",
       "\n",
       "    .dataframe thead th {\n",
       "        text-align: right;\n",
       "    }\n",
       "</style>\n",
       "<table border=\"1\" class=\"dataframe\">\n",
       "  <thead>\n",
       "    <tr style=\"text-align: right;\">\n",
       "      <th></th>\n",
       "      <th>Grape</th>\n",
       "      <th>Origin</th>\n",
       "      <th>Alcohol</th>\n",
       "      <th>pH</th>\n",
       "      <th>Colour</th>\n",
       "      <th>Aroma</th>\n",
       "    </tr>\n",
       "  </thead>\n",
       "  <tbody>\n",
       "    <tr>\n",
       "      <th>0</th>\n",
       "      <td>Chardonnay</td>\n",
       "      <td>Australia</td>\n",
       "      <td>14.23</td>\n",
       "      <td>3.51</td>\n",
       "      <td>White</td>\n",
       "      <td>Floral</td>\n",
       "    </tr>\n",
       "    <tr>\n",
       "      <th>1</th>\n",
       "      <td>Pinot Grigio</td>\n",
       "      <td>Italy</td>\n",
       "      <td>13.20</td>\n",
       "      <td>3.30</td>\n",
       "      <td>White</td>\n",
       "      <td>Fruity</td>\n",
       "    </tr>\n",
       "    <tr>\n",
       "      <th>2</th>\n",
       "      <td>Pinot Blanc</td>\n",
       "      <td>France</td>\n",
       "      <td>13.16</td>\n",
       "      <td>3.16</td>\n",
       "      <td>White</td>\n",
       "      <td>Citrus</td>\n",
       "    </tr>\n",
       "    <tr>\n",
       "      <th>3</th>\n",
       "      <td>Shiraz</td>\n",
       "      <td>Chile</td>\n",
       "      <td>14.91</td>\n",
       "      <td>3.39</td>\n",
       "      <td>Red</td>\n",
       "      <td>Berry</td>\n",
       "    </tr>\n",
       "    <tr>\n",
       "      <th>4</th>\n",
       "      <td>Malbec</td>\n",
       "      <td>Argentina</td>\n",
       "      <td>13.83</td>\n",
       "      <td>3.28</td>\n",
       "      <td>Red</td>\n",
       "      <td>Fruity</td>\n",
       "    </tr>\n",
       "  </tbody>\n",
       "</table>\n",
       "</div>"
      ],
      "text/plain": [
       "          Grape     Origin  Alcohol    pH Colour   Aroma\n",
       "0    Chardonnay  Australia    14.23  3.51  White  Floral\n",
       "1  Pinot Grigio      Italy    13.20  3.30  White  Fruity\n",
       "2   Pinot Blanc     France    13.16  3.16  White  Citrus\n",
       "3        Shiraz      Chile    14.91  3.39    Red   Berry\n",
       "4        Malbec  Argentina    13.83  3.28    Red  Fruity"
      ]
     },
     "execution_count": 156,
     "metadata": {},
     "output_type": "execute_result"
    }
   ],
   "source": [
    "df_1f = pd.read_csv('data/wine_f.txt', header=1, nrows=5, delimiter='\\t', usecols = range(1,7))\n",
    "df_1f"
   ]
  },
  {
   "cell_type": "code",
   "execution_count": 157,
   "metadata": {
    "deletable": false,
    "editable": false,
    "nbgrader": {
     "cell_type": "code",
     "checksum": "c689500b36a0b5eca90af59e67a03ebe",
     "grade": true,
     "grade_id": "cell-321bd65f6db7764e",
     "locked": true,
     "points": 1,
     "schema_version": 3,
     "solution": false,
     "task": false
    }
   },
   "outputs": [
    {
     "data": {
      "text/plain": [
       "'success'"
      ]
     },
     "execution_count": 157,
     "metadata": {},
     "output_type": "execute_result"
    }
   ],
   "source": [
    "t.test_1f(df_1f)"
   ]
  },
  {
   "cell_type": "markdown",
   "metadata": {},
   "source": [
    "**Question 1(g)**  <br> {points: 1}   \n",
    "\n",
    "Load in the file named `wine_g.xlsx` using the appropriate verb `pd.read_csv()` or `pd.read_excel()` and arguments and save it as an object named `df_1g`.\n",
    "\n",
    "You will need to look at the file which you can do by right clicking the file in the toolbar on the left of the screen and clicking on ***Download***."
   ]
  },
  {
   "cell_type": "code",
   "execution_count": 158,
   "metadata": {
    "deletable": false,
    "nbgrader": {
     "cell_type": "code",
     "checksum": "b2dcf7b86c014d58e166c0bef4160344",
     "grade": false,
     "grade_id": "cell-36bc923bb358d123",
     "locked": false,
     "schema_version": 3,
     "solution": true,
     "task": false
    }
   },
   "outputs": [
    {
     "data": {
      "text/html": [
       "<div>\n",
       "<style scoped>\n",
       "    .dataframe tbody tr th:only-of-type {\n",
       "        vertical-align: middle;\n",
       "    }\n",
       "\n",
       "    .dataframe tbody tr th {\n",
       "        vertical-align: top;\n",
       "    }\n",
       "\n",
       "    .dataframe thead th {\n",
       "        text-align: right;\n",
       "    }\n",
       "</style>\n",
       "<table border=\"1\" class=\"dataframe\">\n",
       "  <thead>\n",
       "    <tr style=\"text-align: right;\">\n",
       "      <th></th>\n",
       "      <th>Grape</th>\n",
       "      <th>Origin</th>\n",
       "      <th>Alcohol</th>\n",
       "      <th>pH</th>\n",
       "      <th>Colour</th>\n",
       "      <th>Aroma</th>\n",
       "    </tr>\n",
       "  </thead>\n",
       "  <tbody>\n",
       "    <tr>\n",
       "      <th>0</th>\n",
       "      <td>Chardonnay</td>\n",
       "      <td>Australia</td>\n",
       "      <td>14.23</td>\n",
       "      <td>3.51</td>\n",
       "      <td>White</td>\n",
       "      <td>Floral</td>\n",
       "    </tr>\n",
       "    <tr>\n",
       "      <th>1</th>\n",
       "      <td>Pinot Grigio</td>\n",
       "      <td>Italy</td>\n",
       "      <td>13.20</td>\n",
       "      <td>3.30</td>\n",
       "      <td>White</td>\n",
       "      <td>Fruity</td>\n",
       "    </tr>\n",
       "    <tr>\n",
       "      <th>2</th>\n",
       "      <td>Pinot Blanc</td>\n",
       "      <td>France</td>\n",
       "      <td>13.16</td>\n",
       "      <td>3.16</td>\n",
       "      <td>White</td>\n",
       "      <td>Citrus</td>\n",
       "    </tr>\n",
       "    <tr>\n",
       "      <th>3</th>\n",
       "      <td>Shiraz</td>\n",
       "      <td>Chile</td>\n",
       "      <td>14.91</td>\n",
       "      <td>3.39</td>\n",
       "      <td>Red</td>\n",
       "      <td>Berry</td>\n",
       "    </tr>\n",
       "    <tr>\n",
       "      <th>4</th>\n",
       "      <td>Malbec</td>\n",
       "      <td>Argentina</td>\n",
       "      <td>13.83</td>\n",
       "      <td>3.28</td>\n",
       "      <td>Red</td>\n",
       "      <td>Fruity</td>\n",
       "    </tr>\n",
       "  </tbody>\n",
       "</table>\n",
       "</div>"
      ],
      "text/plain": [
       "          Grape     Origin  Alcohol    pH Colour   Aroma\n",
       "0    Chardonnay  Australia    14.23  3.51  White  Floral\n",
       "1  Pinot Grigio      Italy    13.20  3.30  White  Fruity\n",
       "2   Pinot Blanc     France    13.16  3.16  White  Citrus\n",
       "3        Shiraz      Chile    14.91  3.39    Red   Berry\n",
       "4        Malbec  Argentina    13.83  3.28    Red  Fruity"
      ]
     },
     "execution_count": 158,
     "metadata": {},
     "output_type": "execute_result"
    }
   ],
   "source": [
    "df_1g = pd.read_excel(\"data/wine_g.xlsx\", sheet_name=\"Sheet1\")\n",
    "df_1g"
   ]
  },
  {
   "cell_type": "code",
   "execution_count": 159,
   "metadata": {
    "deletable": false,
    "editable": false,
    "nbgrader": {
     "cell_type": "code",
     "checksum": "25099b7f4806dbf35fe9c56fbfce7a7c",
     "grade": true,
     "grade_id": "cell-bdebf9baa0b94dde",
     "locked": true,
     "points": 1,
     "schema_version": 3,
     "solution": false,
     "task": false
    }
   },
   "outputs": [
    {
     "data": {
      "text/plain": [
       "'success'"
      ]
     },
     "execution_count": 159,
     "metadata": {},
     "output_type": "execute_result"
    }
   ],
   "source": [
    "t.test_1g(df_1g)"
   ]
  },
  {
   "cell_type": "markdown",
   "metadata": {},
   "source": [
    "**Question 1(h)**  <br> {points: 1}   \n",
    "\n",
    "Load in the file named `wine_h.xlsx` using the appropriate verb `pd.read_csv()` or `pd.read_excel()` and arguments and save it as an object named `df_1h`.\n",
    "\n",
    "\n",
    "You will need to look at the file which you can do by right clicking the file in the toolbar on the left of the screen and clicking on ***Download***."
   ]
  },
  {
   "cell_type": "code",
   "execution_count": 160,
   "metadata": {
    "deletable": false,
    "nbgrader": {
     "cell_type": "code",
     "checksum": "0f10fbd8407024e0ea65a27cbdb9b099",
     "grade": false,
     "grade_id": "cell-962b21f176ed873e",
     "locked": false,
     "schema_version": 3,
     "solution": true,
     "task": false
    }
   },
   "outputs": [
    {
     "data": {
      "text/html": [
       "<div>\n",
       "<style scoped>\n",
       "    .dataframe tbody tr th:only-of-type {\n",
       "        vertical-align: middle;\n",
       "    }\n",
       "\n",
       "    .dataframe tbody tr th {\n",
       "        vertical-align: top;\n",
       "    }\n",
       "\n",
       "    .dataframe thead th {\n",
       "        text-align: right;\n",
       "    }\n",
       "</style>\n",
       "<table border=\"1\" class=\"dataframe\">\n",
       "  <thead>\n",
       "    <tr style=\"text-align: right;\">\n",
       "      <th></th>\n",
       "      <th>Grape</th>\n",
       "      <th>Origin</th>\n",
       "      <th>Alcohol</th>\n",
       "      <th>pH</th>\n",
       "      <th>Colour</th>\n",
       "      <th>Aroma</th>\n",
       "    </tr>\n",
       "  </thead>\n",
       "  <tbody>\n",
       "    <tr>\n",
       "      <th>0</th>\n",
       "      <td>Chardonnay</td>\n",
       "      <td>Australia</td>\n",
       "      <td>14.23</td>\n",
       "      <td>3.51</td>\n",
       "      <td>White</td>\n",
       "      <td>Floral</td>\n",
       "    </tr>\n",
       "    <tr>\n",
       "      <th>1</th>\n",
       "      <td>Pinot Grigio</td>\n",
       "      <td>Italy</td>\n",
       "      <td>13.20</td>\n",
       "      <td>3.30</td>\n",
       "      <td>White</td>\n",
       "      <td>Fruity</td>\n",
       "    </tr>\n",
       "    <tr>\n",
       "      <th>2</th>\n",
       "      <td>Pinot Blanc</td>\n",
       "      <td>France</td>\n",
       "      <td>13.16</td>\n",
       "      <td>3.16</td>\n",
       "      <td>White</td>\n",
       "      <td>Citrus</td>\n",
       "    </tr>\n",
       "    <tr>\n",
       "      <th>3</th>\n",
       "      <td>Shiraz</td>\n",
       "      <td>Chile</td>\n",
       "      <td>14.91</td>\n",
       "      <td>3.39</td>\n",
       "      <td>Red</td>\n",
       "      <td>Berry</td>\n",
       "    </tr>\n",
       "    <tr>\n",
       "      <th>4</th>\n",
       "      <td>Malbec</td>\n",
       "      <td>Argentina</td>\n",
       "      <td>13.83</td>\n",
       "      <td>3.28</td>\n",
       "      <td>Red</td>\n",
       "      <td>Fruity</td>\n",
       "    </tr>\n",
       "  </tbody>\n",
       "</table>\n",
       "</div>"
      ],
      "text/plain": [
       "          Grape     Origin  Alcohol    pH Colour   Aroma\n",
       "0    Chardonnay  Australia    14.23  3.51  White  Floral\n",
       "1  Pinot Grigio      Italy    13.20  3.30  White  Fruity\n",
       "2   Pinot Blanc     France    13.16  3.16  White  Citrus\n",
       "3        Shiraz      Chile    14.91  3.39    Red   Berry\n",
       "4        Malbec  Argentina    13.83  3.28    Red  Fruity"
      ]
     },
     "execution_count": 160,
     "metadata": {},
     "output_type": "execute_result"
    }
   ],
   "source": [
    "df_1h = pd.read_excel(\"data/wine_h.xlsx\", sheet_name=\"WINE\")\n",
    "df_1h"
   ]
  },
  {
   "cell_type": "code",
   "execution_count": 161,
   "metadata": {
    "deletable": false,
    "editable": false,
    "nbgrader": {
     "cell_type": "code",
     "checksum": "e98bd2097e34194611e6a96483f04e2a",
     "grade": true,
     "grade_id": "cell-b7b92ccaceee0a48",
     "locked": true,
     "points": 1,
     "schema_version": 3,
     "solution": false,
     "task": false
    }
   },
   "outputs": [
    {
     "data": {
      "text/plain": [
       "'success'"
      ]
     },
     "execution_count": 161,
     "metadata": {},
     "output_type": "execute_result"
    }
   ],
   "source": [
    "t.test_1h(df_1h)"
   ]
  },
  {
   "cell_type": "markdown",
   "metadata": {},
   "source": [
    "\n",
    "**Question 1(i)**  <br> {points: 1}   \n",
    "\n",
    "Pandas can also load files directly using a url. Let's explore this functionality using a simple dataset showing the number of people that immigrate to Canada from the US and Britain located [here](https://raw.githubusercontent.com/plotly/datasets/master/Move%20to%20Canada.csv).\n",
    "\n",
    "Read the 'Move to Canada' .csv file using `pd.read_csv()` and store the dataframe as the variable `df`."
   ]
  },
  {
   "cell_type": "code",
   "execution_count": 162,
   "metadata": {
    "deletable": false,
    "nbgrader": {
     "cell_type": "code",
     "checksum": "7166dcd1f1eeb859e580112ec0d581cb",
     "grade": false,
     "grade_id": "cell-293da28cdee572c7",
     "locked": false,
     "schema_version": 3,
     "solution": true,
     "task": false
    }
   },
   "outputs": [],
   "source": [
    "df = pd.read_csv(\"https://raw.githubusercontent.com/plotly/datasets/master/Move%20to%20Canada.csv\")"
   ]
  },
  {
   "cell_type": "code",
   "execution_count": 163,
   "metadata": {
    "deletable": false,
    "editable": false,
    "nbgrader": {
     "cell_type": "code",
     "checksum": "8c3cd9a0fb5f155346d623d7923464f9",
     "grade": true,
     "grade_id": "cell-645f7dcf97036ef7",
     "locked": true,
     "points": 1,
     "schema_version": 3,
     "solution": false,
     "task": false
    }
   },
   "outputs": [
    {
     "data": {
      "text/plain": [
       "'success'"
      ]
     },
     "execution_count": 163,
     "metadata": {},
     "output_type": "execute_result"
    }
   ],
   "source": [
    "t.test_1i(df)"
   ]
  },
  {
   "cell_type": "markdown",
   "metadata": {},
   "source": [
    "## 2. Vancouver Street Tree dataset <a name='2.6'></a>\n",
    "\n",
    "The City of Vancouver, nicknamed [Raincouver](https://blogs.ubc.ca/camdrohan/2012/08/14/the-truth-about-raincouver/) or [Raincity](https://en.wikipedia.org/wiki/Nicknames_of_Vancouver) surprises many non-residents by the sheer quantity of rain it receives. To locals, this is simply the expectations of living in a rainforest. The rainfall mixed with the temperate climate provides the perfect environment to maintain numerous species of trees across the city. Every year, Vancouver hosts a [cherry blossom festival](https://www.vcbf.ca/)  where people can take walks to view the blossoming cherry trees across the city,  post cherry blossom photos and attend a Cherry Jam Concert. People more interested in grandeur can explore the [giants in Stanley Park](https://www.insidevancouver.ca/2019/06/27/where-to-see-big-trees-in-vancouver/). \n",
    "In any case, The city has provided open data to all of Vancouver's street trees. The data includes the following:\n",
    "\n",
    "\n",
    "\n",
    "-  TREE_ID\n",
    "- CIVIC_NUMBER - Street number\n",
    "- STD_STREET - Street name\n",
    "- GENUS_NAME \n",
    "- SPECIES_NAME \n",
    "- CULTIVAR_NAME \n",
    "- COMMON_NAME \n",
    "- ASSIGNED - Indicates whether the address is made up to associate the tree with a nearby  lot (Y=Yes or N=No)\n",
    "- ROOT_BARRIER - Root barrier installed (Y = Yes, N = No)\n",
    "- PLANT_AREA - B = behind sidewalk, G = in tree grate, N = no sidewalk, C = cutout, a number  indicates boulevard width in feet\n",
    "- ON_STREET_BLOCK\n",
    "- ON_STREET\n",
    "- NEIGHBOURHOOD_NAME \n",
    "- STREET_SIDE_NAME - The street side which the tree is physically located on (Even, Odd or Median  (Med))\n",
    "- HEIGHT_RANGE_ID - 0-10 for every 10 feet (e.g., 0 = 0-10 ft, 1 = 10-20 ft, 2 = 20-30 ft, and10 = 100+ ft)\n",
    "- DIAMETER - in inches\n",
    "- CURB - Curb presence (Y = Yes, N = No)\n",
    "- DATE_PLANTED \n",
    "- Geom   \n"
   ]
  },
  {
   "cell_type": "markdown",
   "metadata": {},
   "source": [
    "**Question 2(a)**  <br> {points: 1}  \n",
    "\n",
    "Load the `street-trees.csv` dataset into a pandas dataframe named `trees`.     \n",
    "_Hint: How is your file delimited?_"
   ]
  },
  {
   "cell_type": "code",
   "execution_count": 164,
   "metadata": {
    "deletable": false,
    "nbgrader": {
     "cell_type": "code",
     "checksum": "40f26e13b3415f8d61eb049961658f2a",
     "grade": false,
     "grade_id": "cell-7a1b3cebb9d471e8",
     "locked": false,
     "schema_version": 3,
     "solution": true,
     "task": false
    }
   },
   "outputs": [
    {
     "data": {
      "text/html": [
       "<div>\n",
       "<style scoped>\n",
       "    .dataframe tbody tr th:only-of-type {\n",
       "        vertical-align: middle;\n",
       "    }\n",
       "\n",
       "    .dataframe tbody tr th {\n",
       "        vertical-align: top;\n",
       "    }\n",
       "\n",
       "    .dataframe thead th {\n",
       "        text-align: right;\n",
       "    }\n",
       "</style>\n",
       "<table border=\"1\" class=\"dataframe\">\n",
       "  <thead>\n",
       "    <tr style=\"text-align: right;\">\n",
       "      <th></th>\n",
       "      <th>TREE_ID</th>\n",
       "      <th>CIVIC_NUMBER</th>\n",
       "      <th>STD_STREET</th>\n",
       "      <th>GENUS_NAME</th>\n",
       "      <th>SPECIES_NAME</th>\n",
       "      <th>CULTIVAR_NAME</th>\n",
       "      <th>COMMON_NAME</th>\n",
       "      <th>ASSIGNED</th>\n",
       "      <th>ROOT_BARRIER</th>\n",
       "      <th>PLANT_AREA</th>\n",
       "      <th>ON_STREET_BLOCK</th>\n",
       "      <th>ON_STREET</th>\n",
       "      <th>NEIGHBOURHOOD_NAME</th>\n",
       "      <th>STREET_SIDE_NAME</th>\n",
       "      <th>HEIGHT_RANGE_ID</th>\n",
       "      <th>DIAMETER</th>\n",
       "      <th>CURB</th>\n",
       "      <th>DATE_PLANTED</th>\n",
       "      <th>Geom</th>\n",
       "    </tr>\n",
       "  </thead>\n",
       "  <tbody>\n",
       "    <tr>\n",
       "      <th>0</th>\n",
       "      <td>2460</td>\n",
       "      <td>1400</td>\n",
       "      <td>W 4TH AV</td>\n",
       "      <td>ACER</td>\n",
       "      <td>CAMPESTRE</td>\n",
       "      <td>QUEEN ELIZABETH</td>\n",
       "      <td>QUEEN ELIZABETH MAPLE</td>\n",
       "      <td>Y</td>\n",
       "      <td>N</td>\n",
       "      <td>N</td>\n",
       "      <td>1400</td>\n",
       "      <td>W 4TH AV</td>\n",
       "      <td>FAIRVIEW</td>\n",
       "      <td>MED</td>\n",
       "      <td>1</td>\n",
       "      <td>4.00</td>\n",
       "      <td>Y</td>\n",
       "      <td>2005-03-13</td>\n",
       "      <td>NaN</td>\n",
       "    </tr>\n",
       "    <tr>\n",
       "      <th>1</th>\n",
       "      <td>2484</td>\n",
       "      <td>1625</td>\n",
       "      <td>W 3RD AV</td>\n",
       "      <td>PRUNUS</td>\n",
       "      <td>SERRULATA</td>\n",
       "      <td>SEIBOLDI</td>\n",
       "      <td>SEIBOLDI CHERRY</td>\n",
       "      <td>N</td>\n",
       "      <td>N</td>\n",
       "      <td>7</td>\n",
       "      <td>1600</td>\n",
       "      <td>W 3RD AV</td>\n",
       "      <td>FAIRVIEW</td>\n",
       "      <td>ODD</td>\n",
       "      <td>3</td>\n",
       "      <td>16.00</td>\n",
       "      <td>Y</td>\n",
       "      <td>NaN</td>\n",
       "      <td>{\"type\": \"Point\", \"coordinates\": [-123.141561,...</td>\n",
       "    </tr>\n",
       "    <tr>\n",
       "      <th>2</th>\n",
       "      <td>2489</td>\n",
       "      <td>1698</td>\n",
       "      <td>W 3RD AV</td>\n",
       "      <td>PRUNUS</td>\n",
       "      <td>SERRULATA</td>\n",
       "      <td>UKON</td>\n",
       "      <td>UKON JAPANESE CHERRY</td>\n",
       "      <td>N</td>\n",
       "      <td>N</td>\n",
       "      <td>7</td>\n",
       "      <td>1600</td>\n",
       "      <td>W 3RD AV</td>\n",
       "      <td>FAIRVIEW</td>\n",
       "      <td>EVEN</td>\n",
       "      <td>2</td>\n",
       "      <td>7.75</td>\n",
       "      <td>Y</td>\n",
       "      <td>NaN</td>\n",
       "      <td>{\"type\": \"Point\", \"coordinates\": [-123.14216, ...</td>\n",
       "    </tr>\n",
       "    <tr>\n",
       "      <th>3</th>\n",
       "      <td>2490</td>\n",
       "      <td>1655</td>\n",
       "      <td>W 3RD AV</td>\n",
       "      <td>PRUNUS</td>\n",
       "      <td>SERRULATA</td>\n",
       "      <td>SEIBOLDI</td>\n",
       "      <td>SEIBOLDI CHERRY</td>\n",
       "      <td>N</td>\n",
       "      <td>N</td>\n",
       "      <td>7</td>\n",
       "      <td>1600</td>\n",
       "      <td>W 3RD AV</td>\n",
       "      <td>FAIRVIEW</td>\n",
       "      <td>ODD</td>\n",
       "      <td>2</td>\n",
       "      <td>7.00</td>\n",
       "      <td>Y</td>\n",
       "      <td>NaN</td>\n",
       "      <td>{\"type\": \"Point\", \"coordinates\": [-123.142186,...</td>\n",
       "    </tr>\n",
       "    <tr>\n",
       "      <th>4</th>\n",
       "      <td>2492</td>\n",
       "      <td>1655</td>\n",
       "      <td>W 3RD AV</td>\n",
       "      <td>PRUNUS</td>\n",
       "      <td>SERRULATA</td>\n",
       "      <td>SEIBOLDI</td>\n",
       "      <td>SEIBOLDI CHERRY</td>\n",
       "      <td>N</td>\n",
       "      <td>N</td>\n",
       "      <td>7</td>\n",
       "      <td>1600</td>\n",
       "      <td>W 3RD AV</td>\n",
       "      <td>FAIRVIEW</td>\n",
       "      <td>ODD</td>\n",
       "      <td>3</td>\n",
       "      <td>15.00</td>\n",
       "      <td>Y</td>\n",
       "      <td>NaN</td>\n",
       "      <td>{\"type\": \"Point\", \"coordinates\": [-123.141852,...</td>\n",
       "    </tr>\n",
       "    <tr>\n",
       "      <th>...</th>\n",
       "      <td>...</td>\n",
       "      <td>...</td>\n",
       "      <td>...</td>\n",
       "      <td>...</td>\n",
       "      <td>...</td>\n",
       "      <td>...</td>\n",
       "      <td>...</td>\n",
       "      <td>...</td>\n",
       "      <td>...</td>\n",
       "      <td>...</td>\n",
       "      <td>...</td>\n",
       "      <td>...</td>\n",
       "      <td>...</td>\n",
       "      <td>...</td>\n",
       "      <td>...</td>\n",
       "      <td>...</td>\n",
       "      <td>...</td>\n",
       "      <td>...</td>\n",
       "      <td>...</td>\n",
       "    </tr>\n",
       "    <tr>\n",
       "      <th>146456</th>\n",
       "      <td>250217</td>\n",
       "      <td>444</td>\n",
       "      <td>E 6TH AV</td>\n",
       "      <td>PRUNUS</td>\n",
       "      <td>SARGENTII</td>\n",
       "      <td>RANCHO</td>\n",
       "      <td>RANCHO SARGENT CHERRY</td>\n",
       "      <td>N</td>\n",
       "      <td>N</td>\n",
       "      <td>3</td>\n",
       "      <td>400</td>\n",
       "      <td>E 6TH AV</td>\n",
       "      <td>MOUNT PLEASANT</td>\n",
       "      <td>EVEN</td>\n",
       "      <td>1</td>\n",
       "      <td>3.00</td>\n",
       "      <td>Y</td>\n",
       "      <td>NaN</td>\n",
       "      <td>NaN</td>\n",
       "    </tr>\n",
       "    <tr>\n",
       "      <th>146457</th>\n",
       "      <td>250219</td>\n",
       "      <td>447</td>\n",
       "      <td>E 6TH AV</td>\n",
       "      <td>SYRINGA</td>\n",
       "      <td>RETICULATA</td>\n",
       "      <td>IVORY SILK</td>\n",
       "      <td>TREE LILAC</td>\n",
       "      <td>N</td>\n",
       "      <td>N</td>\n",
       "      <td>3</td>\n",
       "      <td>400</td>\n",
       "      <td>E 6TH AV</td>\n",
       "      <td>MOUNT PLEASANT</td>\n",
       "      <td>ODD</td>\n",
       "      <td>1</td>\n",
       "      <td>3.00</td>\n",
       "      <td>Y</td>\n",
       "      <td>NaN</td>\n",
       "      <td>NaN</td>\n",
       "    </tr>\n",
       "    <tr>\n",
       "      <th>146458</th>\n",
       "      <td>250225</td>\n",
       "      <td>3300</td>\n",
       "      <td>YUKON ST</td>\n",
       "      <td>CERCIS</td>\n",
       "      <td>CANADENSIS</td>\n",
       "      <td>NaN</td>\n",
       "      <td>EASTERN REDBUD</td>\n",
       "      <td>N</td>\n",
       "      <td>N</td>\n",
       "      <td>8</td>\n",
       "      <td>3300</td>\n",
       "      <td>YUKON ST</td>\n",
       "      <td>RILEY PARK</td>\n",
       "      <td>EVEN</td>\n",
       "      <td>1</td>\n",
       "      <td>3.00</td>\n",
       "      <td>N</td>\n",
       "      <td>2015-02-10</td>\n",
       "      <td>{\"type\": \"Point\", \"coordinates\": [-123.112448,...</td>\n",
       "    </tr>\n",
       "    <tr>\n",
       "      <th>146459</th>\n",
       "      <td>250226</td>\n",
       "      <td>3300</td>\n",
       "      <td>YUKON ST</td>\n",
       "      <td>CERCIS</td>\n",
       "      <td>CANADENSIS</td>\n",
       "      <td>NaN</td>\n",
       "      <td>EASTERN REDBUD</td>\n",
       "      <td>N</td>\n",
       "      <td>N</td>\n",
       "      <td>8</td>\n",
       "      <td>3300</td>\n",
       "      <td>YUKON ST</td>\n",
       "      <td>RILEY PARK</td>\n",
       "      <td>EVEN</td>\n",
       "      <td>1</td>\n",
       "      <td>3.00</td>\n",
       "      <td>N</td>\n",
       "      <td>2015-02-10</td>\n",
       "      <td>{\"type\": \"Point\", \"coordinates\": [-123.112453,...</td>\n",
       "    </tr>\n",
       "    <tr>\n",
       "      <th>146460</th>\n",
       "      <td>250239</td>\n",
       "      <td>3788</td>\n",
       "      <td>COLUMBIA ST</td>\n",
       "      <td>FRAXINUS</td>\n",
       "      <td>AMERICANA</td>\n",
       "      <td>AUTUMN APPLAUSE</td>\n",
       "      <td>AUTUMN APPLAUSE ASH</td>\n",
       "      <td>N</td>\n",
       "      <td>N</td>\n",
       "      <td>B</td>\n",
       "      <td>3700</td>\n",
       "      <td>COLUMBIA ST</td>\n",
       "      <td>RILEY PARK</td>\n",
       "      <td>EVEN</td>\n",
       "      <td>1</td>\n",
       "      <td>3.00</td>\n",
       "      <td>Y</td>\n",
       "      <td>2014-11-13</td>\n",
       "      <td>{\"type\": \"Point\", \"coordinates\": [-123.109872,...</td>\n",
       "    </tr>\n",
       "  </tbody>\n",
       "</table>\n",
       "<p>146461 rows × 19 columns</p>\n",
       "</div>"
      ],
      "text/plain": [
       "        TREE_ID  CIVIC_NUMBER   STD_STREET GENUS_NAME SPECIES_NAME  \\\n",
       "0          2460          1400     W 4TH AV       ACER    CAMPESTRE   \n",
       "1          2484          1625     W 3RD AV     PRUNUS    SERRULATA   \n",
       "2          2489          1698     W 3RD AV     PRUNUS    SERRULATA   \n",
       "3          2490          1655     W 3RD AV     PRUNUS    SERRULATA   \n",
       "4          2492          1655     W 3RD AV     PRUNUS    SERRULATA   \n",
       "...         ...           ...          ...        ...          ...   \n",
       "146456   250217           444     E 6TH AV     PRUNUS    SARGENTII   \n",
       "146457   250219           447     E 6TH AV    SYRINGA   RETICULATA   \n",
       "146458   250225          3300     YUKON ST     CERCIS   CANADENSIS   \n",
       "146459   250226          3300     YUKON ST     CERCIS   CANADENSIS   \n",
       "146460   250239          3788  COLUMBIA ST   FRAXINUS    AMERICANA   \n",
       "\n",
       "          CULTIVAR_NAME            COMMON_NAME ASSIGNED ROOT_BARRIER  \\\n",
       "0       QUEEN ELIZABETH  QUEEN ELIZABETH MAPLE        Y            N   \n",
       "1              SEIBOLDI        SEIBOLDI CHERRY        N            N   \n",
       "2                  UKON   UKON JAPANESE CHERRY        N            N   \n",
       "3              SEIBOLDI        SEIBOLDI CHERRY        N            N   \n",
       "4              SEIBOLDI        SEIBOLDI CHERRY        N            N   \n",
       "...                 ...                    ...      ...          ...   \n",
       "146456           RANCHO  RANCHO SARGENT CHERRY        N            N   \n",
       "146457       IVORY SILK             TREE LILAC        N            N   \n",
       "146458              NaN         EASTERN REDBUD        N            N   \n",
       "146459              NaN         EASTERN REDBUD        N            N   \n",
       "146460  AUTUMN APPLAUSE    AUTUMN APPLAUSE ASH        N            N   \n",
       "\n",
       "       PLANT_AREA  ON_STREET_BLOCK    ON_STREET NEIGHBOURHOOD_NAME  \\\n",
       "0               N             1400     W 4TH AV           FAIRVIEW   \n",
       "1               7             1600     W 3RD AV           FAIRVIEW   \n",
       "2               7             1600     W 3RD AV           FAIRVIEW   \n",
       "3               7             1600     W 3RD AV           FAIRVIEW   \n",
       "4               7             1600     W 3RD AV           FAIRVIEW   \n",
       "...           ...              ...          ...                ...   \n",
       "146456          3              400     E 6TH AV     MOUNT PLEASANT   \n",
       "146457          3              400     E 6TH AV     MOUNT PLEASANT   \n",
       "146458          8             3300     YUKON ST         RILEY PARK   \n",
       "146459          8             3300     YUKON ST         RILEY PARK   \n",
       "146460          B             3700  COLUMBIA ST         RILEY PARK   \n",
       "\n",
       "       STREET_SIDE_NAME  HEIGHT_RANGE_ID  DIAMETER CURB DATE_PLANTED  \\\n",
       "0                   MED                1      4.00    Y   2005-03-13   \n",
       "1                   ODD                3     16.00    Y          NaN   \n",
       "2                  EVEN                2      7.75    Y          NaN   \n",
       "3                   ODD                2      7.00    Y          NaN   \n",
       "4                   ODD                3     15.00    Y          NaN   \n",
       "...                 ...              ...       ...  ...          ...   \n",
       "146456             EVEN                1      3.00    Y          NaN   \n",
       "146457              ODD                1      3.00    Y          NaN   \n",
       "146458             EVEN                1      3.00    N   2015-02-10   \n",
       "146459             EVEN                1      3.00    N   2015-02-10   \n",
       "146460             EVEN                1      3.00    Y   2014-11-13   \n",
       "\n",
       "                                                     Geom  \n",
       "0                                                     NaN  \n",
       "1       {\"type\": \"Point\", \"coordinates\": [-123.141561,...  \n",
       "2       {\"type\": \"Point\", \"coordinates\": [-123.14216, ...  \n",
       "3       {\"type\": \"Point\", \"coordinates\": [-123.142186,...  \n",
       "4       {\"type\": \"Point\", \"coordinates\": [-123.141852,...  \n",
       "...                                                   ...  \n",
       "146456                                                NaN  \n",
       "146457                                                NaN  \n",
       "146458  {\"type\": \"Point\", \"coordinates\": [-123.112448,...  \n",
       "146459  {\"type\": \"Point\", \"coordinates\": [-123.112453,...  \n",
       "146460  {\"type\": \"Point\", \"coordinates\": [-123.109872,...  \n",
       "\n",
       "[146461 rows x 19 columns]"
      ]
     },
     "execution_count": 164,
     "metadata": {},
     "output_type": "execute_result"
    }
   ],
   "source": [
    "trees = pd.read_csv(\"data/street-trees.csv\", delimiter = \";\")\n",
    "trees"
   ]
  },
  {
   "cell_type": "code",
   "execution_count": 165,
   "metadata": {
    "deletable": false,
    "editable": false,
    "nbgrader": {
     "cell_type": "code",
     "checksum": "2d479615824f12a4385c5055eb29e5fa",
     "grade": true,
     "grade_id": "cell-9483fdf964a8582a",
     "locked": true,
     "points": 1,
     "schema_version": 3,
     "solution": false,
     "task": false
    }
   },
   "outputs": [
    {
     "data": {
      "text/plain": [
       "'success'"
      ]
     },
     "execution_count": 165,
     "metadata": {},
     "output_type": "execute_result"
    }
   ],
   "source": [
    "t.test_2a(trees)"
   ]
  },
  {
   "cell_type": "markdown",
   "metadata": {},
   "source": [
    "**Question 2(b)**  <br> {points: 1}  \n",
    "\n",
    "Create a new column named `DIAMETER_CM` that contains the each tree's diameter in cm. \n",
    "Don't forget to save the dataframe as the object `trees` to maintain the changes.    \n",
    "_Note that 1 inch = 2.54cm._\n"
   ]
  },
  {
   "cell_type": "code",
   "execution_count": 166,
   "metadata": {
    "deletable": false,
    "nbgrader": {
     "cell_type": "code",
     "checksum": "e77fa15e1f3faa37ebe29740d0cc4822",
     "grade": false,
     "grade_id": "cell-d76b48ee4be626ca",
     "locked": false,
     "schema_version": 3,
     "solution": true,
     "task": false
    }
   },
   "outputs": [],
   "source": [
    "CM_PER_INCH = 2.54\n",
    "trees = trees.assign(DIAMETER_CM = trees[\"DIAMETER\"]*CM_PER_INCH)"
   ]
  },
  {
   "cell_type": "code",
   "execution_count": 167,
   "metadata": {
    "deletable": false,
    "editable": false,
    "nbgrader": {
     "cell_type": "code",
     "checksum": "cf1abc9ecfab78f5d245e1ba1890ccfa",
     "grade": true,
     "grade_id": "cell-0436a6dbfeca97e4",
     "locked": true,
     "points": 1,
     "schema_version": 3,
     "solution": false,
     "task": false
    }
   },
   "outputs": [
    {
     "data": {
      "text/plain": [
       "'success'"
      ]
     },
     "execution_count": 167,
     "metadata": {},
     "output_type": "execute_result"
    }
   ],
   "source": [
    "t.test_2b(trees)"
   ]
  },
  {
   "cell_type": "markdown",
   "metadata": {},
   "source": [
    "**Question 2(c)**  <br> {points: 1}  \n",
    "Filter so we can concentrate our attention on the cherry trees - specifically species `SERRULATA`.   \n",
    "Save the resulting dataframe in an object called cherry.\n"
   ]
  },
  {
   "cell_type": "code",
   "execution_count": 168,
   "metadata": {
    "deletable": false,
    "nbgrader": {
     "cell_type": "code",
     "checksum": "d7fc9d7fd70e6047a0c3e8a43bbf114c",
     "grade": false,
     "grade_id": "cell-a607c416f05888c4",
     "locked": false,
     "schema_version": 3,
     "solution": true,
     "task": false
    }
   },
   "outputs": [],
   "source": [
    "cherry = trees.loc[trees['SPECIES_NAME'] == \"SERRULATA\"]"
   ]
  },
  {
   "cell_type": "code",
   "execution_count": 169,
   "metadata": {
    "deletable": false,
    "editable": false,
    "nbgrader": {
     "cell_type": "code",
     "checksum": "617651c2601e4393919a74d1d5ad71c8",
     "grade": true,
     "grade_id": "cell-432b2048ee01b7a3",
     "locked": true,
     "points": 1,
     "schema_version": 3,
     "solution": false,
     "task": false
    }
   },
   "outputs": [
    {
     "data": {
      "text/plain": [
       "'success'"
      ]
     },
     "execution_count": 169,
     "metadata": {},
     "output_type": "execute_result"
    }
   ],
   "source": [
    "t.test_2c(cherry)"
   ]
  },
  {
   "cell_type": "markdown",
   "metadata": {},
   "source": [
    "**Question 2(d)**  <br> {points: 1}  \n",
    "\n",
    "Group the cherry trees by their common name. Save the results in an object called `cherry_group`."
   ]
  },
  {
   "cell_type": "code",
   "execution_count": 170,
   "metadata": {
    "deletable": false,
    "nbgrader": {
     "cell_type": "code",
     "checksum": "b9d854fff99a5561d5516ad3d2df28af",
     "grade": false,
     "grade_id": "cell-6cece0b23a120a40",
     "locked": false,
     "schema_version": 3,
     "solution": true,
     "task": false
    }
   },
   "outputs": [
    {
     "name": "stdout",
     "output_type": "stream",
     "text": [
      "<pandas.core.groupby.generic.DataFrameGroupBy object at 0x7ff9350e9c70>\n"
     ]
    }
   ],
   "source": [
    "cherry_group = cherry.groupby('COMMON_NAME')\n",
    "print(cherry_group)"
   ]
  },
  {
   "cell_type": "code",
   "execution_count": 171,
   "metadata": {
    "deletable": false,
    "editable": false,
    "nbgrader": {
     "cell_type": "code",
     "checksum": "b4d1777d5a67bac0100d0e4ed362b2e4",
     "grade": true,
     "grade_id": "cell-113ba90db47fd897",
     "locked": true,
     "points": 1,
     "schema_version": 3,
     "solution": false,
     "task": false
    }
   },
   "outputs": [
    {
     "data": {
      "text/plain": [
       "'success'"
      ]
     },
     "execution_count": 171,
     "metadata": {},
     "output_type": "execute_result"
    }
   ],
   "source": [
    "t.test_2d(cherry_group)"
   ]
  },
  {
   "cell_type": "markdown",
   "metadata": {},
   "source": [
    "**Question 2(e)**  <br> {points: 1}  \n",
    "\n",
    "For each type of cherry tree (`COMMON_NAME`) find the average diameter in cm and the number of the cherry trees for that cherry tree type.   \n",
    "Name the new dataframe as `cherry_stats`.    \n",
    "*Hint: Your dataframe should have the shape (16, 2).*     "
   ]
  },
  {
   "cell_type": "code",
   "execution_count": 172,
   "metadata": {
    "deletable": false,
    "nbgrader": {
     "cell_type": "code",
     "checksum": "9c3bb3ca9e7ededd43f3924058d007ae",
     "grade": false,
     "grade_id": "cell-23e8676185b31137",
     "locked": false,
     "schema_version": 3,
     "solution": true,
     "task": false
    }
   },
   "outputs": [
    {
     "data": {
      "text/html": [
       "<div>\n",
       "<style scoped>\n",
       "    .dataframe tbody tr th:only-of-type {\n",
       "        vertical-align: middle;\n",
       "    }\n",
       "\n",
       "    .dataframe tbody tr th {\n",
       "        vertical-align: top;\n",
       "    }\n",
       "\n",
       "    .dataframe thead th {\n",
       "        text-align: right;\n",
       "    }\n",
       "</style>\n",
       "<table border=\"1\" class=\"dataframe\">\n",
       "  <thead>\n",
       "    <tr style=\"text-align: right;\">\n",
       "      <th></th>\n",
       "      <th>COMMON_NAME</th>\n",
       "      <th>mean</th>\n",
       "      <th>count</th>\n",
       "    </tr>\n",
       "  </thead>\n",
       "  <tbody>\n",
       "    <tr>\n",
       "      <th>0</th>\n",
       "      <td>ACCOLADE CHERRY</td>\n",
       "      <td>52.768500</td>\n",
       "      <td>60</td>\n",
       "    </tr>\n",
       "    <tr>\n",
       "      <th>1</th>\n",
       "      <td>AMANOGAWA JAPANESE CHERRY</td>\n",
       "      <td>21.638559</td>\n",
       "      <td>68</td>\n",
       "    </tr>\n",
       "    <tr>\n",
       "      <th>2</th>\n",
       "      <td>CHEALS WEEPING CHERRY</td>\n",
       "      <td>8.128000</td>\n",
       "      <td>5</td>\n",
       "    </tr>\n",
       "    <tr>\n",
       "      <th>3</th>\n",
       "      <td>GREAT WHITE CHERRY</td>\n",
       "      <td>49.247778</td>\n",
       "      <td>9</td>\n",
       "    </tr>\n",
       "    <tr>\n",
       "      <th>4</th>\n",
       "      <td>JAPANESE FLOWERING CHERRY</td>\n",
       "      <td>42.627791</td>\n",
       "      <td>474</td>\n",
       "    </tr>\n",
       "    <tr>\n",
       "      <th>5</th>\n",
       "      <td>KWANZAN FLOWERING CHERRY</td>\n",
       "      <td>45.734833</td>\n",
       "      <td>10540</td>\n",
       "    </tr>\n",
       "    <tr>\n",
       "      <th>6</th>\n",
       "      <td>MIKURUMA-GAESHI CHERRY</td>\n",
       "      <td>40.640000</td>\n",
       "      <td>1</td>\n",
       "    </tr>\n",
       "    <tr>\n",
       "      <th>7</th>\n",
       "      <td>MIYAKO CHERRY</td>\n",
       "      <td>42.291000</td>\n",
       "      <td>2</td>\n",
       "    </tr>\n",
       "    <tr>\n",
       "      <th>8</th>\n",
       "      <td>PINK PERFECTION CHERRY</td>\n",
       "      <td>47.896517</td>\n",
       "      <td>522</td>\n",
       "    </tr>\n",
       "    <tr>\n",
       "      <th>9</th>\n",
       "      <td>SEIBOLDI CHERRY</td>\n",
       "      <td>43.499741</td>\n",
       "      <td>170</td>\n",
       "    </tr>\n",
       "    <tr>\n",
       "      <th>10</th>\n",
       "      <td>SHIROFUGEN CHERRY</td>\n",
       "      <td>20.795648</td>\n",
       "      <td>369</td>\n",
       "    </tr>\n",
       "    <tr>\n",
       "      <th>11</th>\n",
       "      <td>SHIROTAE(MT FUJI) CHERRY</td>\n",
       "      <td>34.349267</td>\n",
       "      <td>225</td>\n",
       "    </tr>\n",
       "    <tr>\n",
       "      <th>12</th>\n",
       "      <td>SHOGETSU JAPANESE CHERRY</td>\n",
       "      <td>71.882000</td>\n",
       "      <td>1</td>\n",
       "    </tr>\n",
       "    <tr>\n",
       "      <th>13</th>\n",
       "      <td>SNOW GOOSE CHERRY</td>\n",
       "      <td>8.158788</td>\n",
       "      <td>33</td>\n",
       "    </tr>\n",
       "    <tr>\n",
       "      <th>14</th>\n",
       "      <td>UKON JAPANESE CHERRY</td>\n",
       "      <td>43.817343</td>\n",
       "      <td>813</td>\n",
       "    </tr>\n",
       "    <tr>\n",
       "      <th>15</th>\n",
       "      <td>WEEPING JAPANESE CHERRY</td>\n",
       "      <td>59.700410</td>\n",
       "      <td>61</td>\n",
       "    </tr>\n",
       "  </tbody>\n",
       "</table>\n",
       "</div>"
      ],
      "text/plain": [
       "                  COMMON_NAME       mean  count\n",
       "0             ACCOLADE CHERRY  52.768500     60\n",
       "1   AMANOGAWA JAPANESE CHERRY  21.638559     68\n",
       "2       CHEALS WEEPING CHERRY   8.128000      5\n",
       "3          GREAT WHITE CHERRY  49.247778      9\n",
       "4   JAPANESE FLOWERING CHERRY  42.627791    474\n",
       "5    KWANZAN FLOWERING CHERRY  45.734833  10540\n",
       "6      MIKURUMA-GAESHI CHERRY  40.640000      1\n",
       "7               MIYAKO CHERRY  42.291000      2\n",
       "8      PINK PERFECTION CHERRY  47.896517    522\n",
       "9             SEIBOLDI CHERRY  43.499741    170\n",
       "10          SHIROFUGEN CHERRY  20.795648    369\n",
       "11   SHIROTAE(MT FUJI) CHERRY  34.349267    225\n",
       "12   SHOGETSU JAPANESE CHERRY  71.882000      1\n",
       "13          SNOW GOOSE CHERRY   8.158788     33\n",
       "14       UKON JAPANESE CHERRY  43.817343    813\n",
       "15    WEEPING JAPANESE CHERRY  59.700410     61"
      ]
     },
     "execution_count": 172,
     "metadata": {},
     "output_type": "execute_result"
    }
   ],
   "source": [
    "cherry_stats = cherry_group.agg(mean=('DIAMETER_CM', 'mean'), count=('DIAMETER_CM', 'count'))\n",
    "\n",
    "cherry_stats.reset_index()"
   ]
  },
  {
   "cell_type": "code",
   "execution_count": 173,
   "metadata": {
    "deletable": false,
    "editable": false,
    "nbgrader": {
     "cell_type": "code",
     "checksum": "3aca67416838251b5f1360dacd8e4036",
     "grade": true,
     "grade_id": "cell-e05a3d9da4ed3d5c",
     "locked": true,
     "points": 1,
     "schema_version": 3,
     "solution": false,
     "task": false
    }
   },
   "outputs": [
    {
     "data": {
      "text/plain": [
       "'success'"
      ]
     },
     "execution_count": 173,
     "metadata": {},
     "output_type": "execute_result"
    }
   ],
   "source": [
    "t.test_2e(cherry_stats)"
   ]
  },
  {
   "cell_type": "markdown",
   "metadata": {},
   "source": [
    "**Question 2(f)**  <br> {points: 1}  \n",
    "\n",
    "Graph the mean diameter of `cherry_stats`.  Sort the values in ascending order before you use graph your results. Make sure you add a discriptive title and label the y-axis.        \n",
    "Save the plot in an object called `cherry_graph`.   "
   ]
  },
  {
   "cell_type": "code",
   "execution_count": 174,
   "metadata": {
    "deletable": false,
    "nbgrader": {
     "cell_type": "code",
     "checksum": "524fe9cfa54b29c25ad4bf5d4c9d392b",
     "grade": false,
     "grade_id": "cell-d27bbe1f8b0c7834",
     "locked": false,
     "schema_version": 3,
     "solution": true,
     "task": false
    },
    "tags": []
   },
   "outputs": [
    {
     "data": {
      "text/html": [
       "<div>\n",
       "<style scoped>\n",
       "    .dataframe tbody tr th:only-of-type {\n",
       "        vertical-align: middle;\n",
       "    }\n",
       "\n",
       "    .dataframe tbody tr th {\n",
       "        vertical-align: top;\n",
       "    }\n",
       "\n",
       "    .dataframe thead th {\n",
       "        text-align: right;\n",
       "    }\n",
       "</style>\n",
       "<table border=\"1\" class=\"dataframe\">\n",
       "  <thead>\n",
       "    <tr style=\"text-align: right;\">\n",
       "      <th></th>\n",
       "      <th>COMMON_NAME</th>\n",
       "      <th>mean</th>\n",
       "      <th>count</th>\n",
       "    </tr>\n",
       "  </thead>\n",
       "  <tbody>\n",
       "    <tr>\n",
       "      <th>0</th>\n",
       "      <td>ACCOLADE CHERRY</td>\n",
       "      <td>52.768500</td>\n",
       "      <td>60</td>\n",
       "    </tr>\n",
       "    <tr>\n",
       "      <th>1</th>\n",
       "      <td>AMANOGAWA JAPANESE CHERRY</td>\n",
       "      <td>21.638559</td>\n",
       "      <td>68</td>\n",
       "    </tr>\n",
       "    <tr>\n",
       "      <th>2</th>\n",
       "      <td>CHEALS WEEPING CHERRY</td>\n",
       "      <td>8.128000</td>\n",
       "      <td>5</td>\n",
       "    </tr>\n",
       "    <tr>\n",
       "      <th>3</th>\n",
       "      <td>GREAT WHITE CHERRY</td>\n",
       "      <td>49.247778</td>\n",
       "      <td>9</td>\n",
       "    </tr>\n",
       "    <tr>\n",
       "      <th>4</th>\n",
       "      <td>JAPANESE FLOWERING CHERRY</td>\n",
       "      <td>42.627791</td>\n",
       "      <td>474</td>\n",
       "    </tr>\n",
       "    <tr>\n",
       "      <th>5</th>\n",
       "      <td>KWANZAN FLOWERING CHERRY</td>\n",
       "      <td>45.734833</td>\n",
       "      <td>10540</td>\n",
       "    </tr>\n",
       "    <tr>\n",
       "      <th>6</th>\n",
       "      <td>MIKURUMA-GAESHI CHERRY</td>\n",
       "      <td>40.640000</td>\n",
       "      <td>1</td>\n",
       "    </tr>\n",
       "    <tr>\n",
       "      <th>7</th>\n",
       "      <td>MIYAKO CHERRY</td>\n",
       "      <td>42.291000</td>\n",
       "      <td>2</td>\n",
       "    </tr>\n",
       "    <tr>\n",
       "      <th>8</th>\n",
       "      <td>PINK PERFECTION CHERRY</td>\n",
       "      <td>47.896517</td>\n",
       "      <td>522</td>\n",
       "    </tr>\n",
       "    <tr>\n",
       "      <th>9</th>\n",
       "      <td>SEIBOLDI CHERRY</td>\n",
       "      <td>43.499741</td>\n",
       "      <td>170</td>\n",
       "    </tr>\n",
       "    <tr>\n",
       "      <th>10</th>\n",
       "      <td>SHIROFUGEN CHERRY</td>\n",
       "      <td>20.795648</td>\n",
       "      <td>369</td>\n",
       "    </tr>\n",
       "    <tr>\n",
       "      <th>11</th>\n",
       "      <td>SHIROTAE(MT FUJI) CHERRY</td>\n",
       "      <td>34.349267</td>\n",
       "      <td>225</td>\n",
       "    </tr>\n",
       "    <tr>\n",
       "      <th>12</th>\n",
       "      <td>SHOGETSU JAPANESE CHERRY</td>\n",
       "      <td>71.882000</td>\n",
       "      <td>1</td>\n",
       "    </tr>\n",
       "    <tr>\n",
       "      <th>13</th>\n",
       "      <td>SNOW GOOSE CHERRY</td>\n",
       "      <td>8.158788</td>\n",
       "      <td>33</td>\n",
       "    </tr>\n",
       "    <tr>\n",
       "      <th>14</th>\n",
       "      <td>UKON JAPANESE CHERRY</td>\n",
       "      <td>43.817343</td>\n",
       "      <td>813</td>\n",
       "    </tr>\n",
       "    <tr>\n",
       "      <th>15</th>\n",
       "      <td>WEEPING JAPANESE CHERRY</td>\n",
       "      <td>59.700410</td>\n",
       "      <td>61</td>\n",
       "    </tr>\n",
       "  </tbody>\n",
       "</table>\n",
       "</div>"
      ],
      "text/plain": [
       "                  COMMON_NAME       mean  count\n",
       "0             ACCOLADE CHERRY  52.768500     60\n",
       "1   AMANOGAWA JAPANESE CHERRY  21.638559     68\n",
       "2       CHEALS WEEPING CHERRY   8.128000      5\n",
       "3          GREAT WHITE CHERRY  49.247778      9\n",
       "4   JAPANESE FLOWERING CHERRY  42.627791    474\n",
       "5    KWANZAN FLOWERING CHERRY  45.734833  10540\n",
       "6      MIKURUMA-GAESHI CHERRY  40.640000      1\n",
       "7               MIYAKO CHERRY  42.291000      2\n",
       "8      PINK PERFECTION CHERRY  47.896517    522\n",
       "9             SEIBOLDI CHERRY  43.499741    170\n",
       "10          SHIROFUGEN CHERRY  20.795648    369\n",
       "11   SHIROTAE(MT FUJI) CHERRY  34.349267    225\n",
       "12   SHOGETSU JAPANESE CHERRY  71.882000      1\n",
       "13          SNOW GOOSE CHERRY   8.158788     33\n",
       "14       UKON JAPANESE CHERRY  43.817343    813\n",
       "15    WEEPING JAPANESE CHERRY  59.700410     61"
      ]
     },
     "execution_count": 174,
     "metadata": {},
     "output_type": "execute_result"
    }
   ],
   "source": [
    "cherry_stats.reset_index()"
   ]
  },
  {
   "cell_type": "code",
   "execution_count": 175,
   "metadata": {
    "deletable": false,
    "nbgrader": {
     "cell_type": "code",
     "checksum": "524fe9cfa54b29c25ad4bf5d4c9d392b",
     "grade": false,
     "grade_id": "cell-d27bbe1f8b0c7834",
     "locked": false,
     "schema_version": 3,
     "solution": true,
     "task": false
    },
    "tags": []
   },
   "outputs": [
    {
     "data": {
      "text/html": [
       "\n",
       "<div id=\"altair-viz-593c4002831b40f6a6c42066bad69fd5\"></div>\n",
       "<script type=\"text/javascript\">\n",
       "  (function(spec, embedOpt){\n",
       "    let outputDiv = document.currentScript.previousElementSibling;\n",
       "    if (outputDiv.id !== \"altair-viz-593c4002831b40f6a6c42066bad69fd5\") {\n",
       "      outputDiv = document.getElementById(\"altair-viz-593c4002831b40f6a6c42066bad69fd5\");\n",
       "    }\n",
       "    const paths = {\n",
       "      \"vega\": \"https://cdn.jsdelivr.net/npm//vega@5?noext\",\n",
       "      \"vega-lib\": \"https://cdn.jsdelivr.net/npm//vega-lib?noext\",\n",
       "      \"vega-lite\": \"https://cdn.jsdelivr.net/npm//vega-lite@4.8.1?noext\",\n",
       "      \"vega-embed\": \"https://cdn.jsdelivr.net/npm//vega-embed@6?noext\",\n",
       "    };\n",
       "\n",
       "    function loadScript(lib) {\n",
       "      return new Promise(function(resolve, reject) {\n",
       "        var s = document.createElement('script');\n",
       "        s.src = paths[lib];\n",
       "        s.async = true;\n",
       "        s.onload = () => resolve(paths[lib]);\n",
       "        s.onerror = () => reject(`Error loading script: ${paths[lib]}`);\n",
       "        document.getElementsByTagName(\"head\")[0].appendChild(s);\n",
       "      });\n",
       "    }\n",
       "\n",
       "    function showError(err) {\n",
       "      outputDiv.innerHTML = `<div class=\"error\" style=\"color:red;\">${err}</div>`;\n",
       "      throw err;\n",
       "    }\n",
       "\n",
       "    function displayChart(vegaEmbed) {\n",
       "      vegaEmbed(outputDiv, spec, embedOpt)\n",
       "        .catch(err => showError(`Javascript Error: ${err.message}<br>This usually means there's a typo in your chart specification. See the javascript console for the full traceback.`));\n",
       "    }\n",
       "\n",
       "    if(typeof define === \"function\" && define.amd) {\n",
       "      requirejs.config({paths});\n",
       "      require([\"vega-embed\"], displayChart, err => showError(`Error loading script: ${err.message}`));\n",
       "    } else if (typeof vegaEmbed === \"function\") {\n",
       "      displayChart(vegaEmbed);\n",
       "    } else {\n",
       "      loadScript(\"vega\")\n",
       "        .then(() => loadScript(\"vega-lite\"))\n",
       "        .then(() => loadScript(\"vega-embed\"))\n",
       "        .catch(showError)\n",
       "        .then(() => displayChart(vegaEmbed));\n",
       "    }\n",
       "  })({\"config\": {\"view\": {\"continuousWidth\": 400, \"continuousHeight\": 300}}, \"data\": {\"name\": \"data-000b41886274f6f8459a24de8439610e\"}, \"mark\": {\"type\": \"bar\", \"color\": \"Blue\", \"opacity\": 0.5}, \"encoding\": {\"x\": {\"type\": \"nominal\", \"field\": \"COMMON_NAME\", \"sort\": \"y\"}, \"y\": {\"type\": \"quantitative\", \"field\": \"mean\"}}, \"height\": 300, \"title\": \"Mean Diameter of Cheery Trees\", \"width\": 500, \"$schema\": \"https://vega.github.io/schema/vega-lite/v4.8.1.json\", \"datasets\": {\"data-000b41886274f6f8459a24de8439610e\": [{\"COMMON_NAME\": \"ACCOLADE CHERRY\", \"mean\": 52.76849999999999, \"count\": 60}, {\"COMMON_NAME\": \"AMANOGAWA JAPANESE CHERRY\", \"mean\": 21.638558823529408, \"count\": 68}, {\"COMMON_NAME\": \"CHEALS WEEPING CHERRY\", \"mean\": 8.128, \"count\": 5}, {\"COMMON_NAME\": \"GREAT WHITE CHERRY\", \"mean\": 49.24777777777778, \"count\": 9}, {\"COMMON_NAME\": \"JAPANESE FLOWERING CHERRY\", \"mean\": 42.627791139240486, \"count\": 474}, {\"COMMON_NAME\": \"KWANZAN FLOWERING CHERRY\", \"mean\": 45.73483273244734, \"count\": 10540}, {\"COMMON_NAME\": \"MIKURUMA-GAESHI CHERRY\", \"mean\": 40.64, \"count\": 1}, {\"COMMON_NAME\": \"MIYAKO CHERRY\", \"mean\": 42.291000000000004, \"count\": 2}, {\"COMMON_NAME\": \"PINK PERFECTION CHERRY\", \"mean\": 47.896517241379286, \"count\": 522}, {\"COMMON_NAME\": \"SEIBOLDI CHERRY\", \"mean\": 43.49974117647057, \"count\": 170}, {\"COMMON_NAME\": \"SHIROFUGEN CHERRY\", \"mean\": 20.795647696476912, \"count\": 369}, {\"COMMON_NAME\": \"SHIROTAE(MT FUJI) CHERRY\", \"mean\": 34.34926666666664, \"count\": 225}, {\"COMMON_NAME\": \"SHOGETSU JAPANESE CHERRY\", \"mean\": 71.882, \"count\": 1}, {\"COMMON_NAME\": \"SNOW GOOSE CHERRY\", \"mean\": 8.158787878787878, \"count\": 33}, {\"COMMON_NAME\": \"UKON JAPANESE CHERRY\", \"mean\": 43.817343173431745, \"count\": 813}, {\"COMMON_NAME\": \"WEEPING JAPANESE CHERRY\", \"mean\": 59.70040983606557, \"count\": 61}]}}, {\"mode\": \"vega-lite\"});\n",
       "</script>"
      ],
      "text/plain": [
       "alt.Chart(...)"
      ]
     },
     "execution_count": 175,
     "metadata": {},
     "output_type": "execute_result"
    }
   ],
   "source": [
    "cherry_graph = alt.Chart(\n",
    "    cherry_stats.reset_index(), width=500, height=300).mark_bar(\n",
    "        color='Blue', opacity=0.5).encode(\n",
    "            x=alt.X('COMMON_NAME', sort='y'),\n",
    "            y=alt.Y('mean')).properties(title = \"Mean Diameter of Cheery Trees\")\n",
    "cherry_graph"
   ]
  },
  {
   "cell_type": "code",
   "execution_count": 176,
   "metadata": {
    "deletable": false,
    "editable": false,
    "nbgrader": {
     "cell_type": "code",
     "checksum": "67f8a6c9f17db1d153d150c0441a69b0",
     "grade": true,
     "grade_id": "cell-f58346aa6368a2f3",
     "locked": true,
     "points": 1,
     "schema_version": 3,
     "solution": false,
     "task": false
    }
   },
   "outputs": [
    {
     "data": {
      "text/plain": [
       "'success'"
      ]
     },
     "execution_count": 176,
     "metadata": {},
     "output_type": "execute_result"
    }
   ],
   "source": [
    "t.test_2f(cherry_graph)"
   ]
  },
  {
   "cell_type": "markdown",
   "metadata": {},
   "source": [
    "## 3. The Titanic dataset <a name='2.6'></a>\n",
    "\n",
    "The sinking of the RMS Titanic is one of the most infamous shipwrecks in history.  On April 15, 1912, during her maiden voyage, the Titanic sank after colliding with an iceberg. The file *titanic.csv* contains data of 1309 passengers who were on the ship. For each passenger, the following data are recorded:\n",
    "* survival - Survival (0 = No; 1 = Yes)\n",
    "* class - Passenger Class (1 = 1st; 2 = 2nd; 3 = 3rd)\n",
    "* name - Name\n",
    "* sex - Sex\n",
    "* age - Age\n",
    "* sibsp - Number of Siblings/Spouses Aboard\n",
    "* parch - Number of Parents/Children Aboard\n",
    "* ticket - Ticket Number\n",
    "* fare - Passenger Fare\n",
    "* cabin - Cabin\n",
    "* embarked - Port of Embarkation (C = Cherbourg; Q = Queenstown; S = Southampton)\n",
    "* boat - Lifeboat (if survived)\n",
    "* body - Body number (if did not survive and the body was recovered)\n",
    "\n",
    "***Note: many popular datasets have sex as a feature where the possible values are male and female. This representation reflects how the data were collected and is not meant to imply that, for example, gender is binary.***\n",
    "\n",
    "In this exercise, you will perform a number of wrangling operations to manipulate and extract subsets of the data."
   ]
  },
  {
   "cell_type": "markdown",
   "metadata": {},
   "source": [
    "**Question 3(a)**  <br> {points: 1}   \n",
    "\n",
    "\n",
    "Load the `titanic.csv` dataset into a pandas dataframe named `titanic_df`.     \n",
    "*Hint: Remember where we store our data*"
   ]
  },
  {
   "cell_type": "code",
   "execution_count": 177,
   "metadata": {
    "deletable": false,
    "nbgrader": {
     "cell_type": "code",
     "checksum": "1ec8f6cbd6b9a87249893842691d992f",
     "grade": false,
     "grade_id": "cell-6ca937ceb1f63f35",
     "locked": false,
     "schema_version": 3,
     "solution": true,
     "task": false
    }
   },
   "outputs": [
    {
     "data": {
      "text/html": [
       "<div>\n",
       "<style scoped>\n",
       "    .dataframe tbody tr th:only-of-type {\n",
       "        vertical-align: middle;\n",
       "    }\n",
       "\n",
       "    .dataframe tbody tr th {\n",
       "        vertical-align: top;\n",
       "    }\n",
       "\n",
       "    .dataframe thead th {\n",
       "        text-align: right;\n",
       "    }\n",
       "</style>\n",
       "<table border=\"1\" class=\"dataframe\">\n",
       "  <thead>\n",
       "    <tr style=\"text-align: right;\">\n",
       "      <th></th>\n",
       "      <th>pclass</th>\n",
       "      <th>survived</th>\n",
       "      <th>name</th>\n",
       "      <th>sex</th>\n",
       "      <th>age</th>\n",
       "      <th>sibsp</th>\n",
       "      <th>parch</th>\n",
       "      <th>ticket</th>\n",
       "      <th>fare</th>\n",
       "      <th>cabin</th>\n",
       "      <th>embarked</th>\n",
       "      <th>boat</th>\n",
       "      <th>body</th>\n",
       "      <th>home.dest</th>\n",
       "    </tr>\n",
       "  </thead>\n",
       "  <tbody>\n",
       "    <tr>\n",
       "      <th>0</th>\n",
       "      <td>1</td>\n",
       "      <td>1</td>\n",
       "      <td>Allen, Miss. Elisabeth Walton</td>\n",
       "      <td>female</td>\n",
       "      <td>29.0000</td>\n",
       "      <td>0</td>\n",
       "      <td>0</td>\n",
       "      <td>24160</td>\n",
       "      <td>211.3375</td>\n",
       "      <td>B5</td>\n",
       "      <td>S</td>\n",
       "      <td>2</td>\n",
       "      <td>NaN</td>\n",
       "      <td>St Louis, MO</td>\n",
       "    </tr>\n",
       "    <tr>\n",
       "      <th>1</th>\n",
       "      <td>1</td>\n",
       "      <td>1</td>\n",
       "      <td>Allison, Master. Hudson Trevor</td>\n",
       "      <td>male</td>\n",
       "      <td>0.9167</td>\n",
       "      <td>1</td>\n",
       "      <td>2</td>\n",
       "      <td>113781</td>\n",
       "      <td>151.5500</td>\n",
       "      <td>C22 C26</td>\n",
       "      <td>S</td>\n",
       "      <td>11</td>\n",
       "      <td>NaN</td>\n",
       "      <td>Montreal, PQ / Chesterville, ON</td>\n",
       "    </tr>\n",
       "    <tr>\n",
       "      <th>2</th>\n",
       "      <td>1</td>\n",
       "      <td>0</td>\n",
       "      <td>Allison, Miss. Helen Loraine</td>\n",
       "      <td>female</td>\n",
       "      <td>2.0000</td>\n",
       "      <td>1</td>\n",
       "      <td>2</td>\n",
       "      <td>113781</td>\n",
       "      <td>151.5500</td>\n",
       "      <td>C22 C26</td>\n",
       "      <td>S</td>\n",
       "      <td>NaN</td>\n",
       "      <td>NaN</td>\n",
       "      <td>Montreal, PQ / Chesterville, ON</td>\n",
       "    </tr>\n",
       "    <tr>\n",
       "      <th>3</th>\n",
       "      <td>1</td>\n",
       "      <td>0</td>\n",
       "      <td>Allison, Mr. Hudson Joshua Creighton</td>\n",
       "      <td>male</td>\n",
       "      <td>30.0000</td>\n",
       "      <td>1</td>\n",
       "      <td>2</td>\n",
       "      <td>113781</td>\n",
       "      <td>151.5500</td>\n",
       "      <td>C22 C26</td>\n",
       "      <td>S</td>\n",
       "      <td>NaN</td>\n",
       "      <td>135.0</td>\n",
       "      <td>Montreal, PQ / Chesterville, ON</td>\n",
       "    </tr>\n",
       "    <tr>\n",
       "      <th>4</th>\n",
       "      <td>1</td>\n",
       "      <td>0</td>\n",
       "      <td>Allison, Mrs. Hudson J C (Bessie Waldo Daniels)</td>\n",
       "      <td>female</td>\n",
       "      <td>25.0000</td>\n",
       "      <td>1</td>\n",
       "      <td>2</td>\n",
       "      <td>113781</td>\n",
       "      <td>151.5500</td>\n",
       "      <td>C22 C26</td>\n",
       "      <td>S</td>\n",
       "      <td>NaN</td>\n",
       "      <td>NaN</td>\n",
       "      <td>Montreal, PQ / Chesterville, ON</td>\n",
       "    </tr>\n",
       "    <tr>\n",
       "      <th>...</th>\n",
       "      <td>...</td>\n",
       "      <td>...</td>\n",
       "      <td>...</td>\n",
       "      <td>...</td>\n",
       "      <td>...</td>\n",
       "      <td>...</td>\n",
       "      <td>...</td>\n",
       "      <td>...</td>\n",
       "      <td>...</td>\n",
       "      <td>...</td>\n",
       "      <td>...</td>\n",
       "      <td>...</td>\n",
       "      <td>...</td>\n",
       "      <td>...</td>\n",
       "    </tr>\n",
       "    <tr>\n",
       "      <th>1304</th>\n",
       "      <td>3</td>\n",
       "      <td>0</td>\n",
       "      <td>Zabour, Miss. Hileni</td>\n",
       "      <td>female</td>\n",
       "      <td>14.5000</td>\n",
       "      <td>1</td>\n",
       "      <td>0</td>\n",
       "      <td>2665</td>\n",
       "      <td>14.4542</td>\n",
       "      <td>NaN</td>\n",
       "      <td>C</td>\n",
       "      <td>NaN</td>\n",
       "      <td>328.0</td>\n",
       "      <td>NaN</td>\n",
       "    </tr>\n",
       "    <tr>\n",
       "      <th>1305</th>\n",
       "      <td>3</td>\n",
       "      <td>0</td>\n",
       "      <td>Zabour, Miss. Thamine</td>\n",
       "      <td>female</td>\n",
       "      <td>NaN</td>\n",
       "      <td>1</td>\n",
       "      <td>0</td>\n",
       "      <td>2665</td>\n",
       "      <td>14.4542</td>\n",
       "      <td>NaN</td>\n",
       "      <td>C</td>\n",
       "      <td>NaN</td>\n",
       "      <td>NaN</td>\n",
       "      <td>NaN</td>\n",
       "    </tr>\n",
       "    <tr>\n",
       "      <th>1306</th>\n",
       "      <td>3</td>\n",
       "      <td>0</td>\n",
       "      <td>Zakarian, Mr. Mapriededer</td>\n",
       "      <td>male</td>\n",
       "      <td>26.5000</td>\n",
       "      <td>0</td>\n",
       "      <td>0</td>\n",
       "      <td>2656</td>\n",
       "      <td>7.2250</td>\n",
       "      <td>NaN</td>\n",
       "      <td>C</td>\n",
       "      <td>NaN</td>\n",
       "      <td>304.0</td>\n",
       "      <td>NaN</td>\n",
       "    </tr>\n",
       "    <tr>\n",
       "      <th>1307</th>\n",
       "      <td>3</td>\n",
       "      <td>0</td>\n",
       "      <td>Zakarian, Mr. Ortin</td>\n",
       "      <td>male</td>\n",
       "      <td>27.0000</td>\n",
       "      <td>0</td>\n",
       "      <td>0</td>\n",
       "      <td>2670</td>\n",
       "      <td>7.2250</td>\n",
       "      <td>NaN</td>\n",
       "      <td>C</td>\n",
       "      <td>NaN</td>\n",
       "      <td>NaN</td>\n",
       "      <td>NaN</td>\n",
       "    </tr>\n",
       "    <tr>\n",
       "      <th>1308</th>\n",
       "      <td>3</td>\n",
       "      <td>0</td>\n",
       "      <td>Zimmerman, Mr. Leo</td>\n",
       "      <td>male</td>\n",
       "      <td>29.0000</td>\n",
       "      <td>0</td>\n",
       "      <td>0</td>\n",
       "      <td>315082</td>\n",
       "      <td>7.8750</td>\n",
       "      <td>NaN</td>\n",
       "      <td>S</td>\n",
       "      <td>NaN</td>\n",
       "      <td>NaN</td>\n",
       "      <td>NaN</td>\n",
       "    </tr>\n",
       "  </tbody>\n",
       "</table>\n",
       "<p>1309 rows × 14 columns</p>\n",
       "</div>"
      ],
      "text/plain": [
       "      pclass  survived                                             name  \\\n",
       "0          1         1                    Allen, Miss. Elisabeth Walton   \n",
       "1          1         1                   Allison, Master. Hudson Trevor   \n",
       "2          1         0                     Allison, Miss. Helen Loraine   \n",
       "3          1         0             Allison, Mr. Hudson Joshua Creighton   \n",
       "4          1         0  Allison, Mrs. Hudson J C (Bessie Waldo Daniels)   \n",
       "...      ...       ...                                              ...   \n",
       "1304       3         0                             Zabour, Miss. Hileni   \n",
       "1305       3         0                            Zabour, Miss. Thamine   \n",
       "1306       3         0                        Zakarian, Mr. Mapriededer   \n",
       "1307       3         0                              Zakarian, Mr. Ortin   \n",
       "1308       3         0                               Zimmerman, Mr. Leo   \n",
       "\n",
       "         sex      age  sibsp  parch  ticket      fare    cabin embarked boat  \\\n",
       "0     female  29.0000      0      0   24160  211.3375       B5        S    2   \n",
       "1       male   0.9167      1      2  113781  151.5500  C22 C26        S   11   \n",
       "2     female   2.0000      1      2  113781  151.5500  C22 C26        S  NaN   \n",
       "3       male  30.0000      1      2  113781  151.5500  C22 C26        S  NaN   \n",
       "4     female  25.0000      1      2  113781  151.5500  C22 C26        S  NaN   \n",
       "...      ...      ...    ...    ...     ...       ...      ...      ...  ...   \n",
       "1304  female  14.5000      1      0    2665   14.4542      NaN        C  NaN   \n",
       "1305  female      NaN      1      0    2665   14.4542      NaN        C  NaN   \n",
       "1306    male  26.5000      0      0    2656    7.2250      NaN        C  NaN   \n",
       "1307    male  27.0000      0      0    2670    7.2250      NaN        C  NaN   \n",
       "1308    male  29.0000      0      0  315082    7.8750      NaN        S  NaN   \n",
       "\n",
       "       body                        home.dest  \n",
       "0       NaN                     St Louis, MO  \n",
       "1       NaN  Montreal, PQ / Chesterville, ON  \n",
       "2       NaN  Montreal, PQ / Chesterville, ON  \n",
       "3     135.0  Montreal, PQ / Chesterville, ON  \n",
       "4       NaN  Montreal, PQ / Chesterville, ON  \n",
       "...     ...                              ...  \n",
       "1304  328.0                              NaN  \n",
       "1305    NaN                              NaN  \n",
       "1306  304.0                              NaN  \n",
       "1307    NaN                              NaN  \n",
       "1308    NaN                              NaN  \n",
       "\n",
       "[1309 rows x 14 columns]"
      ]
     },
     "execution_count": 177,
     "metadata": {},
     "output_type": "execute_result"
    }
   ],
   "source": [
    "titanic_df = pd.read_csv(\"data/titanic.csv\")\n",
    "titanic_df"
   ]
  },
  {
   "cell_type": "code",
   "execution_count": 178,
   "metadata": {
    "deletable": false,
    "editable": false,
    "nbgrader": {
     "cell_type": "code",
     "checksum": "130593fab40c2e4e4606c007f6716107",
     "grade": true,
     "grade_id": "cell-8b69beeeb3a63066",
     "locked": true,
     "points": 1,
     "schema_version": 3,
     "solution": false,
     "task": false
    }
   },
   "outputs": [
    {
     "data": {
      "text/plain": [
       "'success'"
      ]
     },
     "execution_count": 178,
     "metadata": {},
     "output_type": "execute_result"
    }
   ],
   "source": [
    "t.test_3a(titanic_df)"
   ]
  },
  {
   "cell_type": "markdown",
   "metadata": {},
   "source": [
    "**Question 3(b)**  <br> {points: 1}  \n",
    "\n",
    "\n",
    "The column names `sibsp` and `parch` are not very descriptive. Rename these columns to `siblings_spouses` and `parents_children` respectively."
   ]
  },
  {
   "cell_type": "code",
   "execution_count": 179,
   "metadata": {
    "deletable": false,
    "nbgrader": {
     "cell_type": "code",
     "checksum": "bedc4ab1337deda730e6ded49e41c47c",
     "grade": false,
     "grade_id": "cell-848a01803315ae81",
     "locked": false,
     "schema_version": 3,
     "solution": true,
     "task": false
    }
   },
   "outputs": [],
   "source": [
    "titanic_df.rename(columns={'sibsp':'siblings_spouses', \"parch\": \"parents_children\"}, inplace = True)"
   ]
  },
  {
   "cell_type": "code",
   "execution_count": 180,
   "metadata": {
    "deletable": false,
    "editable": false,
    "nbgrader": {
     "cell_type": "code",
     "checksum": "a935a734b95869a080748732a64fd197",
     "grade": true,
     "grade_id": "cell-a971e94ff67950ce",
     "locked": true,
     "points": 1,
     "schema_version": 3,
     "solution": false,
     "task": false
    }
   },
   "outputs": [
    {
     "data": {
      "text/plain": [
       "'success'"
      ]
     },
     "execution_count": 180,
     "metadata": {},
     "output_type": "execute_result"
    }
   ],
   "source": [
    "t.test_3b(titanic_df)"
   ]
  },
  {
   "cell_type": "markdown",
   "metadata": {},
   "source": [
    "**Question 3(c)**  <br> {points: 1}  \n",
    "\n",
    "Drop the columns `body` and `cabin`, using a single line of code and save it as an object named `dropped_df`."
   ]
  },
  {
   "cell_type": "code",
   "execution_count": 181,
   "metadata": {
    "deletable": false,
    "nbgrader": {
     "cell_type": "code",
     "checksum": "079a886f3b6e7f5976cf0ade748c5032",
     "grade": false,
     "grade_id": "cell-d822e26557aef2f2",
     "locked": false,
     "schema_version": 3,
     "solution": true,
     "task": false
    }
   },
   "outputs": [],
   "source": [
    "dropped_df = titanic_df.drop(columns = ['body','cabin'], axis = 1)"
   ]
  },
  {
   "cell_type": "code",
   "execution_count": 182,
   "metadata": {
    "deletable": false,
    "editable": false,
    "nbgrader": {
     "cell_type": "code",
     "checksum": "1a3aef7c99b89f281cf2f74b0631c603",
     "grade": true,
     "grade_id": "cell-2349fcdcc552bdd3",
     "locked": true,
     "points": 1,
     "schema_version": 3,
     "solution": false,
     "task": false
    }
   },
   "outputs": [
    {
     "data": {
      "text/plain": [
       "'success'"
      ]
     },
     "execution_count": 182,
     "metadata": {},
     "output_type": "execute_result"
    }
   ],
   "source": [
    "t.test_3c(dropped_df)"
   ]
  },
  {
   "cell_type": "markdown",
   "metadata": {},
   "source": [
    "**Question 3(d)**  <br> {points: 2}  \n",
    "Which passengers survived (`survived = 1`) the disaster? Save the filtered **dataframe** in an object named `survived_titanic`. "
   ]
  },
  {
   "cell_type": "code",
   "execution_count": 183,
   "metadata": {
    "deletable": false,
    "nbgrader": {
     "cell_type": "code",
     "checksum": "30fe84ea9b1029a29f60a1101204c27e",
     "grade": false,
     "grade_id": "cell-58d4de705145af3c",
     "locked": false,
     "schema_version": 3,
     "solution": true,
     "task": false
    }
   },
   "outputs": [
    {
     "data": {
      "text/html": [
       "<div>\n",
       "<style scoped>\n",
       "    .dataframe tbody tr th:only-of-type {\n",
       "        vertical-align: middle;\n",
       "    }\n",
       "\n",
       "    .dataframe tbody tr th {\n",
       "        vertical-align: top;\n",
       "    }\n",
       "\n",
       "    .dataframe thead th {\n",
       "        text-align: right;\n",
       "    }\n",
       "</style>\n",
       "<table border=\"1\" class=\"dataframe\">\n",
       "  <thead>\n",
       "    <tr style=\"text-align: right;\">\n",
       "      <th></th>\n",
       "      <th>pclass</th>\n",
       "      <th>survived</th>\n",
       "      <th>name</th>\n",
       "      <th>sex</th>\n",
       "      <th>age</th>\n",
       "      <th>siblings_spouses</th>\n",
       "      <th>parents_children</th>\n",
       "      <th>ticket</th>\n",
       "      <th>fare</th>\n",
       "      <th>embarked</th>\n",
       "      <th>boat</th>\n",
       "      <th>home.dest</th>\n",
       "    </tr>\n",
       "  </thead>\n",
       "  <tbody>\n",
       "    <tr>\n",
       "      <th>0</th>\n",
       "      <td>1</td>\n",
       "      <td>1</td>\n",
       "      <td>Allen, Miss. Elisabeth Walton</td>\n",
       "      <td>female</td>\n",
       "      <td>29.0000</td>\n",
       "      <td>0</td>\n",
       "      <td>0</td>\n",
       "      <td>24160</td>\n",
       "      <td>211.3375</td>\n",
       "      <td>S</td>\n",
       "      <td>2</td>\n",
       "      <td>St Louis, MO</td>\n",
       "    </tr>\n",
       "    <tr>\n",
       "      <th>1</th>\n",
       "      <td>1</td>\n",
       "      <td>1</td>\n",
       "      <td>Allison, Master. Hudson Trevor</td>\n",
       "      <td>male</td>\n",
       "      <td>0.9167</td>\n",
       "      <td>1</td>\n",
       "      <td>2</td>\n",
       "      <td>113781</td>\n",
       "      <td>151.5500</td>\n",
       "      <td>S</td>\n",
       "      <td>11</td>\n",
       "      <td>Montreal, PQ / Chesterville, ON</td>\n",
       "    </tr>\n",
       "    <tr>\n",
       "      <th>5</th>\n",
       "      <td>1</td>\n",
       "      <td>1</td>\n",
       "      <td>Anderson, Mr. Harry</td>\n",
       "      <td>male</td>\n",
       "      <td>48.0000</td>\n",
       "      <td>0</td>\n",
       "      <td>0</td>\n",
       "      <td>19952</td>\n",
       "      <td>26.5500</td>\n",
       "      <td>S</td>\n",
       "      <td>3</td>\n",
       "      <td>New York, NY</td>\n",
       "    </tr>\n",
       "    <tr>\n",
       "      <th>6</th>\n",
       "      <td>1</td>\n",
       "      <td>1</td>\n",
       "      <td>Andrews, Miss. Kornelia Theodosia</td>\n",
       "      <td>female</td>\n",
       "      <td>63.0000</td>\n",
       "      <td>1</td>\n",
       "      <td>0</td>\n",
       "      <td>13502</td>\n",
       "      <td>77.9583</td>\n",
       "      <td>S</td>\n",
       "      <td>10</td>\n",
       "      <td>Hudson, NY</td>\n",
       "    </tr>\n",
       "    <tr>\n",
       "      <th>8</th>\n",
       "      <td>1</td>\n",
       "      <td>1</td>\n",
       "      <td>Appleton, Mrs. Edward Dale (Charlotte Lamson)</td>\n",
       "      <td>female</td>\n",
       "      <td>53.0000</td>\n",
       "      <td>2</td>\n",
       "      <td>0</td>\n",
       "      <td>11769</td>\n",
       "      <td>51.4792</td>\n",
       "      <td>S</td>\n",
       "      <td>D</td>\n",
       "      <td>Bayside, Queens, NY</td>\n",
       "    </tr>\n",
       "    <tr>\n",
       "      <th>...</th>\n",
       "      <td>...</td>\n",
       "      <td>...</td>\n",
       "      <td>...</td>\n",
       "      <td>...</td>\n",
       "      <td>...</td>\n",
       "      <td>...</td>\n",
       "      <td>...</td>\n",
       "      <td>...</td>\n",
       "      <td>...</td>\n",
       "      <td>...</td>\n",
       "      <td>...</td>\n",
       "      <td>...</td>\n",
       "    </tr>\n",
       "    <tr>\n",
       "      <th>1261</th>\n",
       "      <td>3</td>\n",
       "      <td>1</td>\n",
       "      <td>Turkula, Mrs. (Hedwig)</td>\n",
       "      <td>female</td>\n",
       "      <td>63.0000</td>\n",
       "      <td>0</td>\n",
       "      <td>0</td>\n",
       "      <td>4134</td>\n",
       "      <td>9.5875</td>\n",
       "      <td>S</td>\n",
       "      <td>15</td>\n",
       "      <td>NaN</td>\n",
       "    </tr>\n",
       "    <tr>\n",
       "      <th>1277</th>\n",
       "      <td>3</td>\n",
       "      <td>1</td>\n",
       "      <td>Vartanian, Mr. David</td>\n",
       "      <td>male</td>\n",
       "      <td>22.0000</td>\n",
       "      <td>0</td>\n",
       "      <td>0</td>\n",
       "      <td>2658</td>\n",
       "      <td>7.2250</td>\n",
       "      <td>C</td>\n",
       "      <td>13 15</td>\n",
       "      <td>NaN</td>\n",
       "    </tr>\n",
       "    <tr>\n",
       "      <th>1286</th>\n",
       "      <td>3</td>\n",
       "      <td>1</td>\n",
       "      <td>Whabee, Mrs. George Joseph (Shawneene Abi-Saab)</td>\n",
       "      <td>female</td>\n",
       "      <td>38.0000</td>\n",
       "      <td>0</td>\n",
       "      <td>0</td>\n",
       "      <td>2688</td>\n",
       "      <td>7.2292</td>\n",
       "      <td>C</td>\n",
       "      <td>C</td>\n",
       "      <td>NaN</td>\n",
       "    </tr>\n",
       "    <tr>\n",
       "      <th>1290</th>\n",
       "      <td>3</td>\n",
       "      <td>1</td>\n",
       "      <td>Wilkes, Mrs. James (Ellen Needs)</td>\n",
       "      <td>female</td>\n",
       "      <td>47.0000</td>\n",
       "      <td>1</td>\n",
       "      <td>0</td>\n",
       "      <td>363272</td>\n",
       "      <td>7.0000</td>\n",
       "      <td>S</td>\n",
       "      <td>NaN</td>\n",
       "      <td>NaN</td>\n",
       "    </tr>\n",
       "    <tr>\n",
       "      <th>1300</th>\n",
       "      <td>3</td>\n",
       "      <td>1</td>\n",
       "      <td>Yasbeck, Mrs. Antoni (Selini Alexander)</td>\n",
       "      <td>female</td>\n",
       "      <td>15.0000</td>\n",
       "      <td>1</td>\n",
       "      <td>0</td>\n",
       "      <td>2659</td>\n",
       "      <td>14.4542</td>\n",
       "      <td>C</td>\n",
       "      <td>NaN</td>\n",
       "      <td>NaN</td>\n",
       "    </tr>\n",
       "  </tbody>\n",
       "</table>\n",
       "<p>500 rows × 12 columns</p>\n",
       "</div>"
      ],
      "text/plain": [
       "      pclass  survived                                             name  \\\n",
       "0          1         1                    Allen, Miss. Elisabeth Walton   \n",
       "1          1         1                   Allison, Master. Hudson Trevor   \n",
       "5          1         1                              Anderson, Mr. Harry   \n",
       "6          1         1                Andrews, Miss. Kornelia Theodosia   \n",
       "8          1         1    Appleton, Mrs. Edward Dale (Charlotte Lamson)   \n",
       "...      ...       ...                                              ...   \n",
       "1261       3         1                           Turkula, Mrs. (Hedwig)   \n",
       "1277       3         1                             Vartanian, Mr. David   \n",
       "1286       3         1  Whabee, Mrs. George Joseph (Shawneene Abi-Saab)   \n",
       "1290       3         1                 Wilkes, Mrs. James (Ellen Needs)   \n",
       "1300       3         1          Yasbeck, Mrs. Antoni (Selini Alexander)   \n",
       "\n",
       "         sex      age  siblings_spouses  parents_children  ticket      fare  \\\n",
       "0     female  29.0000                 0                 0   24160  211.3375   \n",
       "1       male   0.9167                 1                 2  113781  151.5500   \n",
       "5       male  48.0000                 0                 0   19952   26.5500   \n",
       "6     female  63.0000                 1                 0   13502   77.9583   \n",
       "8     female  53.0000                 2                 0   11769   51.4792   \n",
       "...      ...      ...               ...               ...     ...       ...   \n",
       "1261  female  63.0000                 0                 0    4134    9.5875   \n",
       "1277    male  22.0000                 0                 0    2658    7.2250   \n",
       "1286  female  38.0000                 0                 0    2688    7.2292   \n",
       "1290  female  47.0000                 1                 0  363272    7.0000   \n",
       "1300  female  15.0000                 1                 0    2659   14.4542   \n",
       "\n",
       "     embarked   boat                        home.dest  \n",
       "0           S      2                     St Louis, MO  \n",
       "1           S     11  Montreal, PQ / Chesterville, ON  \n",
       "5           S      3                     New York, NY  \n",
       "6           S     10                       Hudson, NY  \n",
       "8           S      D              Bayside, Queens, NY  \n",
       "...       ...    ...                              ...  \n",
       "1261        S     15                              NaN  \n",
       "1277        C  13 15                              NaN  \n",
       "1286        C      C                              NaN  \n",
       "1290        S    NaN                              NaN  \n",
       "1300        C    NaN                              NaN  \n",
       "\n",
       "[500 rows x 12 columns]"
      ]
     },
     "execution_count": 183,
     "metadata": {},
     "output_type": "execute_result"
    }
   ],
   "source": [
    "survived_titanic = dropped_df.loc[(dropped_df['survived'] == 1)] \n",
    "survived_titanic"
   ]
  },
  {
   "cell_type": "code",
   "execution_count": 184,
   "metadata": {
    "deletable": false,
    "editable": false,
    "nbgrader": {
     "cell_type": "code",
     "checksum": "b3e9d7b7bf48f44397d3bda1f18209d8",
     "grade": true,
     "grade_id": "cell-d337093c3836b042",
     "locked": true,
     "points": 2,
     "schema_version": 3,
     "solution": false,
     "task": false
    }
   },
   "outputs": [],
   "source": [
    "assert 'survived_titanic' in locals(), \"Your answer should be named 'survived_titanic'\"\n",
    "\n",
    "# Note that this test has been hidden intentionally.\n",
    "# It will provide no feedback as to the correctness of your answers.\n",
    "# Thus, it is up to you to decide if your answer is sufficiently correct."
   ]
  },
  {
   "cell_type": "markdown",
   "metadata": {},
   "source": [
    "**Question 3(e)**  <br> {points: 1}  \n",
    "How many people survived the titanic?       \n",
    "Save this as just a number in an object named `survivors`."
   ]
  },
  {
   "cell_type": "code",
   "execution_count": 185,
   "metadata": {
    "deletable": false,
    "nbgrader": {
     "cell_type": "code",
     "checksum": "1200abd4bf532e4e8892f9e05ef8f787",
     "grade": false,
     "grade_id": "cell-33a45d51a162c2aa",
     "locked": false,
     "schema_version": 3,
     "solution": true,
     "task": false
    }
   },
   "outputs": [
    {
     "data": {
      "text/plain": [
       "500"
      ]
     },
     "execution_count": 185,
     "metadata": {},
     "output_type": "execute_result"
    }
   ],
   "source": [
    "survivors = len(survived_titanic)\n",
    "\n",
    "survivors"
   ]
  },
  {
   "cell_type": "code",
   "execution_count": 186,
   "metadata": {
    "nbgrader": {
     "cell_type": "code",
     "checksum": "1200abd4bf532e4e8892f9e05ef8f787",
     "grade": false,
     "grade_id": "cell-33a45d51a162c2aa",
     "locked": false,
     "schema_version": 3,
     "solution": true,
     "task": false
    }
   },
   "outputs": [],
   "source": [
    "survivors = len(titanic_df.loc[titanic_df['survived']==1])"
   ]
  },
  {
   "cell_type": "code",
   "execution_count": 187,
   "metadata": {
    "deletable": false,
    "editable": false,
    "nbgrader": {
     "cell_type": "code",
     "checksum": "92061b57f8bf0f55e85593f09d279701",
     "grade": true,
     "grade_id": "cell-18b12e16e1cc9d38",
     "locked": true,
     "points": 1,
     "schema_version": 3,
     "solution": false,
     "task": false
    }
   },
   "outputs": [
    {
     "data": {
      "text/plain": [
       "'success'"
      ]
     },
     "execution_count": 187,
     "metadata": {},
     "output_type": "execute_result"
    }
   ],
   "source": [
    "t.test_3e(survivors)"
   ]
  },
  {
   "cell_type": "markdown",
   "metadata": {},
   "source": [
    "**Question 3(f)**  <br> {points: 1}  \n",
    "\n",
    "Which passengers were in first class and younger than 16?   \n",
    "Save the filtered **dataframe** in an object named `first_class_pass`. "
   ]
  },
  {
   "cell_type": "code",
   "execution_count": 188,
   "metadata": {
    "deletable": false,
    "nbgrader": {
     "cell_type": "code",
     "checksum": "1447a960263ed38a48e36db9807d6d78",
     "grade": false,
     "grade_id": "cell-3a0619ef6d2af5a2",
     "locked": false,
     "schema_version": 3,
     "solution": true,
     "task": false
    }
   },
   "outputs": [
    {
     "data": {
      "text/html": [
       "<div>\n",
       "<style scoped>\n",
       "    .dataframe tbody tr th:only-of-type {\n",
       "        vertical-align: middle;\n",
       "    }\n",
       "\n",
       "    .dataframe tbody tr th {\n",
       "        vertical-align: top;\n",
       "    }\n",
       "\n",
       "    .dataframe thead th {\n",
       "        text-align: right;\n",
       "    }\n",
       "</style>\n",
       "<table border=\"1\" class=\"dataframe\">\n",
       "  <thead>\n",
       "    <tr style=\"text-align: right;\">\n",
       "      <th></th>\n",
       "      <th>pclass</th>\n",
       "      <th>survived</th>\n",
       "      <th>name</th>\n",
       "      <th>sex</th>\n",
       "      <th>age</th>\n",
       "      <th>siblings_spouses</th>\n",
       "      <th>parents_children</th>\n",
       "      <th>ticket</th>\n",
       "      <th>fare</th>\n",
       "      <th>cabin</th>\n",
       "      <th>embarked</th>\n",
       "      <th>boat</th>\n",
       "      <th>body</th>\n",
       "      <th>home.dest</th>\n",
       "    </tr>\n",
       "  </thead>\n",
       "  <tbody>\n",
       "    <tr>\n",
       "      <th>1</th>\n",
       "      <td>1</td>\n",
       "      <td>1</td>\n",
       "      <td>Allison, Master. Hudson Trevor</td>\n",
       "      <td>male</td>\n",
       "      <td>0.9167</td>\n",
       "      <td>1</td>\n",
       "      <td>2</td>\n",
       "      <td>113781</td>\n",
       "      <td>151.5500</td>\n",
       "      <td>C22 C26</td>\n",
       "      <td>S</td>\n",
       "      <td>11</td>\n",
       "      <td>NaN</td>\n",
       "      <td>Montreal, PQ / Chesterville, ON</td>\n",
       "    </tr>\n",
       "    <tr>\n",
       "      <th>2</th>\n",
       "      <td>1</td>\n",
       "      <td>0</td>\n",
       "      <td>Allison, Miss. Helen Loraine</td>\n",
       "      <td>female</td>\n",
       "      <td>2.0000</td>\n",
       "      <td>1</td>\n",
       "      <td>2</td>\n",
       "      <td>113781</td>\n",
       "      <td>151.5500</td>\n",
       "      <td>C22 C26</td>\n",
       "      <td>S</td>\n",
       "      <td>NaN</td>\n",
       "      <td>NaN</td>\n",
       "      <td>Montreal, PQ / Chesterville, ON</td>\n",
       "    </tr>\n",
       "    <tr>\n",
       "      <th>54</th>\n",
       "      <td>1</td>\n",
       "      <td>1</td>\n",
       "      <td>Carter, Master. William Thornton II</td>\n",
       "      <td>male</td>\n",
       "      <td>11.0000</td>\n",
       "      <td>1</td>\n",
       "      <td>2</td>\n",
       "      <td>113760</td>\n",
       "      <td>120.0000</td>\n",
       "      <td>B96 B98</td>\n",
       "      <td>S</td>\n",
       "      <td>4</td>\n",
       "      <td>NaN</td>\n",
       "      <td>Bryn Mawr, PA</td>\n",
       "    </tr>\n",
       "    <tr>\n",
       "      <th>55</th>\n",
       "      <td>1</td>\n",
       "      <td>1</td>\n",
       "      <td>Carter, Miss. Lucile Polk</td>\n",
       "      <td>female</td>\n",
       "      <td>14.0000</td>\n",
       "      <td>1</td>\n",
       "      <td>2</td>\n",
       "      <td>113760</td>\n",
       "      <td>120.0000</td>\n",
       "      <td>B96 B98</td>\n",
       "      <td>S</td>\n",
       "      <td>4</td>\n",
       "      <td>NaN</td>\n",
       "      <td>Bryn Mawr, PA</td>\n",
       "    </tr>\n",
       "    <tr>\n",
       "      <th>94</th>\n",
       "      <td>1</td>\n",
       "      <td>1</td>\n",
       "      <td>Dodge, Master. Washington</td>\n",
       "      <td>male</td>\n",
       "      <td>4.0000</td>\n",
       "      <td>0</td>\n",
       "      <td>2</td>\n",
       "      <td>33638</td>\n",
       "      <td>81.8583</td>\n",
       "      <td>A34</td>\n",
       "      <td>S</td>\n",
       "      <td>5</td>\n",
       "      <td>NaN</td>\n",
       "      <td>San Francisco, CA</td>\n",
       "    </tr>\n",
       "    <tr>\n",
       "      <th>193</th>\n",
       "      <td>1</td>\n",
       "      <td>1</td>\n",
       "      <td>Madill, Miss. Georgette Alexandra</td>\n",
       "      <td>female</td>\n",
       "      <td>15.0000</td>\n",
       "      <td>0</td>\n",
       "      <td>1</td>\n",
       "      <td>24160</td>\n",
       "      <td>211.3375</td>\n",
       "      <td>B5</td>\n",
       "      <td>S</td>\n",
       "      <td>2</td>\n",
       "      <td>NaN</td>\n",
       "      <td>St Louis, MO</td>\n",
       "    </tr>\n",
       "    <tr>\n",
       "      <th>249</th>\n",
       "      <td>1</td>\n",
       "      <td>1</td>\n",
       "      <td>Ryerson, Master. John Borie</td>\n",
       "      <td>male</td>\n",
       "      <td>13.0000</td>\n",
       "      <td>2</td>\n",
       "      <td>2</td>\n",
       "      <td>PC 17608</td>\n",
       "      <td>262.3750</td>\n",
       "      <td>B57 B59 B63 B66</td>\n",
       "      <td>C</td>\n",
       "      <td>4</td>\n",
       "      <td>NaN</td>\n",
       "      <td>Haverford, PA / Cooperstown, NY</td>\n",
       "    </tr>\n",
       "    <tr>\n",
       "      <th>273</th>\n",
       "      <td>1</td>\n",
       "      <td>1</td>\n",
       "      <td>Spedden, Master. Robert Douglas</td>\n",
       "      <td>male</td>\n",
       "      <td>6.0000</td>\n",
       "      <td>0</td>\n",
       "      <td>2</td>\n",
       "      <td>16966</td>\n",
       "      <td>134.5000</td>\n",
       "      <td>E34</td>\n",
       "      <td>C</td>\n",
       "      <td>3</td>\n",
       "      <td>NaN</td>\n",
       "      <td>Tuxedo Park, NY</td>\n",
       "    </tr>\n",
       "  </tbody>\n",
       "</table>\n",
       "</div>"
      ],
      "text/plain": [
       "     pclass  survived                                 name     sex      age  \\\n",
       "1         1         1       Allison, Master. Hudson Trevor    male   0.9167   \n",
       "2         1         0         Allison, Miss. Helen Loraine  female   2.0000   \n",
       "54        1         1  Carter, Master. William Thornton II    male  11.0000   \n",
       "55        1         1            Carter, Miss. Lucile Polk  female  14.0000   \n",
       "94        1         1            Dodge, Master. Washington    male   4.0000   \n",
       "193       1         1    Madill, Miss. Georgette Alexandra  female  15.0000   \n",
       "249       1         1          Ryerson, Master. John Borie    male  13.0000   \n",
       "273       1         1      Spedden, Master. Robert Douglas    male   6.0000   \n",
       "\n",
       "     siblings_spouses  parents_children    ticket      fare            cabin  \\\n",
       "1                   1                 2    113781  151.5500          C22 C26   \n",
       "2                   1                 2    113781  151.5500          C22 C26   \n",
       "54                  1                 2    113760  120.0000          B96 B98   \n",
       "55                  1                 2    113760  120.0000          B96 B98   \n",
       "94                  0                 2     33638   81.8583              A34   \n",
       "193                 0                 1     24160  211.3375               B5   \n",
       "249                 2                 2  PC 17608  262.3750  B57 B59 B63 B66   \n",
       "273                 0                 2     16966  134.5000              E34   \n",
       "\n",
       "    embarked boat  body                        home.dest  \n",
       "1          S   11   NaN  Montreal, PQ / Chesterville, ON  \n",
       "2          S  NaN   NaN  Montreal, PQ / Chesterville, ON  \n",
       "54         S    4   NaN                    Bryn Mawr, PA  \n",
       "55         S    4   NaN                    Bryn Mawr, PA  \n",
       "94         S    5   NaN                San Francisco, CA  \n",
       "193        S    2   NaN                     St Louis, MO  \n",
       "249        C    4   NaN  Haverford, PA / Cooperstown, NY  \n",
       "273        C    3   NaN                  Tuxedo Park, NY  "
      ]
     },
     "execution_count": 188,
     "metadata": {},
     "output_type": "execute_result"
    }
   ],
   "source": [
    "first_class_pass = pd.DataFrame(titanic_df[(titanic_df['pclass']==1) & (titanic_df['age']<16)])\n",
    "first_class_pass"
   ]
  },
  {
   "cell_type": "code",
   "execution_count": 189,
   "metadata": {
    "deletable": false,
    "editable": false,
    "nbgrader": {
     "cell_type": "code",
     "checksum": "1490360a440112487bd324e2528a808e",
     "grade": true,
     "grade_id": "cell-4ed4057ebf7bf52f",
     "locked": true,
     "points": 1,
     "schema_version": 3,
     "solution": false,
     "task": false
    }
   },
   "outputs": [
    {
     "data": {
      "text/plain": [
       "'success'"
      ]
     },
     "execution_count": 189,
     "metadata": {},
     "output_type": "execute_result"
    }
   ],
   "source": [
    "t.test_3f(first_class_pass)"
   ]
  },
  {
   "cell_type": "markdown",
   "metadata": {},
   "source": [
    "**Question 3(g)**  <br> {points: 1}  \n",
    "\n",
    "Make a new dataframe containing only the columns `age` and `fare` on the full `titanic_df` dataframe and take the mean of these columns using chaining.   \n",
    "Save it as an object named  `mean_age_fare`.\n"
   ]
  },
  {
   "cell_type": "code",
   "execution_count": 190,
   "metadata": {
    "deletable": false,
    "nbgrader": {
     "cell_type": "code",
     "checksum": "877efcbc8c09225f0e01d94b037ccd4b",
     "grade": false,
     "grade_id": "cell-2e89f890b11155df",
     "locked": false,
     "schema_version": 3,
     "solution": true,
     "task": false
    }
   },
   "outputs": [
    {
     "data": {
      "text/plain": [
       "age     29.881135\n",
       "fare    33.295479\n",
       "dtype: float64"
      ]
     },
     "execution_count": 190,
     "metadata": {},
     "output_type": "execute_result"
    }
   ],
   "source": [
    "mean_age_fare = pd.DataFrame(titanic_df.loc[:,['age','fare']]).agg('mean')\n",
    "mean_age_fare"
   ]
  },
  {
   "cell_type": "code",
   "execution_count": 191,
   "metadata": {
    "deletable": false,
    "editable": false,
    "nbgrader": {
     "cell_type": "code",
     "checksum": "63e1743c038e79c4c259c03dece5acaa",
     "grade": true,
     "grade_id": "cell-d73c0f21bdebe3df",
     "locked": true,
     "points": 1,
     "schema_version": 3,
     "solution": false,
     "task": false
    }
   },
   "outputs": [
    {
     "data": {
      "text/plain": [
       "'success'"
      ]
     },
     "execution_count": 191,
     "metadata": {},
     "output_type": "execute_result"
    }
   ],
   "source": [
    "t.test_3g(mean_age_fare)"
   ]
  },
  {
   "cell_type": "markdown",
   "metadata": {},
   "source": [
    "**Question 3(h)**  <br> {points: 1}  \n",
    "\n",
    "Let's make a groupby object by the column `sex`  on our full dataframe `titanic_df` and find the average value each of each column for `male` and `female` passengers.    \n",
    "Save the results in a **dataframe** object named `titanic_sex_mean`."
   ]
  },
  {
   "cell_type": "code",
   "execution_count": 192,
   "metadata": {
    "deletable": false,
    "nbgrader": {
     "cell_type": "code",
     "checksum": "43a9683838df66bdd560af149c89b66d",
     "grade": false,
     "grade_id": "cell-2518084eff7a7e46",
     "locked": false,
     "schema_version": 3,
     "solution": true,
     "task": false
    }
   },
   "outputs": [
    {
     "data": {
      "text/html": [
       "<div>\n",
       "<style scoped>\n",
       "    .dataframe tbody tr th:only-of-type {\n",
       "        vertical-align: middle;\n",
       "    }\n",
       "\n",
       "    .dataframe tbody tr th {\n",
       "        vertical-align: top;\n",
       "    }\n",
       "\n",
       "    .dataframe thead th {\n",
       "        text-align: right;\n",
       "    }\n",
       "</style>\n",
       "<table border=\"1\" class=\"dataframe\">\n",
       "  <thead>\n",
       "    <tr style=\"text-align: right;\">\n",
       "      <th></th>\n",
       "      <th>pclass</th>\n",
       "      <th>survived</th>\n",
       "      <th>age</th>\n",
       "      <th>siblings_spouses</th>\n",
       "      <th>parents_children</th>\n",
       "      <th>fare</th>\n",
       "      <th>body</th>\n",
       "    </tr>\n",
       "    <tr>\n",
       "      <th>sex</th>\n",
       "      <th></th>\n",
       "      <th></th>\n",
       "      <th></th>\n",
       "      <th></th>\n",
       "      <th></th>\n",
       "      <th></th>\n",
       "      <th></th>\n",
       "    </tr>\n",
       "  </thead>\n",
       "  <tbody>\n",
       "    <tr>\n",
       "      <th>female</th>\n",
       "      <td>2.154506</td>\n",
       "      <td>0.727468</td>\n",
       "      <td>28.687071</td>\n",
       "      <td>0.652361</td>\n",
       "      <td>0.633047</td>\n",
       "      <td>46.198097</td>\n",
       "      <td>166.62500</td>\n",
       "    </tr>\n",
       "    <tr>\n",
       "      <th>male</th>\n",
       "      <td>2.372479</td>\n",
       "      <td>0.190985</td>\n",
       "      <td>30.585233</td>\n",
       "      <td>0.413998</td>\n",
       "      <td>0.247924</td>\n",
       "      <td>26.154601</td>\n",
       "      <td>160.39823</td>\n",
       "    </tr>\n",
       "  </tbody>\n",
       "</table>\n",
       "</div>"
      ],
      "text/plain": [
       "          pclass  survived        age  siblings_spouses  parents_children  \\\n",
       "sex                                                                         \n",
       "female  2.154506  0.727468  28.687071          0.652361          0.633047   \n",
       "male    2.372479  0.190985  30.585233          0.413998          0.247924   \n",
       "\n",
       "             fare       body  \n",
       "sex                           \n",
       "female  46.198097  166.62500  \n",
       "male    26.154601  160.39823  "
      ]
     },
     "execution_count": 192,
     "metadata": {},
     "output_type": "execute_result"
    }
   ],
   "source": [
    "titanic_sex_mean = titanic_df.groupby(by = 'sex').agg('mean')\n",
    "titanic_sex_mean"
   ]
  },
  {
   "cell_type": "code",
   "execution_count": 193,
   "metadata": {
    "deletable": false,
    "editable": false,
    "nbgrader": {
     "cell_type": "code",
     "checksum": "efca3f01e3ce09e5bf5874810c609ea1",
     "grade": true,
     "grade_id": "cell-c59fc52c7c1f03c4",
     "locked": true,
     "points": 1,
     "schema_version": 3,
     "solution": false,
     "task": false
    }
   },
   "outputs": [
    {
     "data": {
      "text/plain": [
       "'success'"
      ]
     },
     "execution_count": 193,
     "metadata": {},
     "output_type": "execute_result"
    }
   ],
   "source": [
    "t.test_3h(titanic_sex_mean)"
   ]
  },
  {
   "cell_type": "markdown",
   "metadata": {},
   "source": [
    "**Question 3(i)**  <br> {points: 1}  \n",
    "\n",
    "To answer the question, assign the letter associated with the correct answer to a variable in the code cell below:   \n",
    "Which statement below is accurate?\n",
    "\n",
    "A. The average age of male passengers is lower than the total passenger mean age.    \n",
    "\n",
    "B. The female passenger fare average is greater than the male passenger fare average.  \n",
    "\n",
    "C. The male fare average is greater than than the total passenger fare average. \n",
    "\n",
    "\n",
    "*Answer in the cell below using the uppercase letter associated with your answer. Place your answer between `\"\"`, assign the correct answer to an object called `answer3_i`.*"
   ]
  },
  {
   "cell_type": "code",
   "execution_count": 194,
   "metadata": {
    "deletable": false,
    "nbgrader": {
     "cell_type": "code",
     "checksum": "14f2ba2bf5bf9c2877c77bfea9763d9c",
     "grade": false,
     "grade_id": "cell-b14e8438781ba083",
     "locked": false,
     "schema_version": 3,
     "solution": true,
     "task": false
    }
   },
   "outputs": [],
   "source": [
    "answer3_i = 'B'"
   ]
  },
  {
   "cell_type": "code",
   "execution_count": 195,
   "metadata": {
    "deletable": false,
    "editable": false,
    "nbgrader": {
     "cell_type": "code",
     "checksum": "48e60b856da1d15ac4890bd9d2b94960",
     "grade": true,
     "grade_id": "cell-884d987b24fb9b40",
     "locked": true,
     "points": 1,
     "schema_version": 3,
     "solution": false,
     "task": false
    }
   },
   "outputs": [
    {
     "data": {
      "text/plain": [
       "'success'"
      ]
     },
     "execution_count": 195,
     "metadata": {},
     "output_type": "execute_result"
    }
   ],
   "source": [
    "t.test_3i(answer3_i)"
   ]
  },
  {
   "cell_type": "markdown",
   "metadata": {},
   "source": [
    "**Question 3(j)**  <br> {points: 1}  \n",
    "\n",
    "What was the highest and lowest fair paid by male and female passengers? Use `.agg()` and save the dataframe as object `high_low_fare`.  \n"
   ]
  },
  {
   "cell_type": "code",
   "execution_count": 196,
   "metadata": {
    "deletable": false,
    "nbgrader": {
     "cell_type": "code",
     "checksum": "461d2d965034499bfeae2f0ac098ad96",
     "grade": false,
     "grade_id": "cell-01ad2d8d34762607",
     "locked": false,
     "schema_version": 3,
     "solution": true,
     "task": false
    }
   },
   "outputs": [
    {
     "data": {
      "text/html": [
       "<div>\n",
       "<style scoped>\n",
       "    .dataframe tbody tr th:only-of-type {\n",
       "        vertical-align: middle;\n",
       "    }\n",
       "\n",
       "    .dataframe tbody tr th {\n",
       "        vertical-align: top;\n",
       "    }\n",
       "\n",
       "    .dataframe thead th {\n",
       "        text-align: right;\n",
       "    }\n",
       "</style>\n",
       "<table border=\"1\" class=\"dataframe\">\n",
       "  <thead>\n",
       "    <tr style=\"text-align: right;\">\n",
       "      <th></th>\n",
       "      <th>max</th>\n",
       "      <th>min</th>\n",
       "    </tr>\n",
       "    <tr>\n",
       "      <th>sex</th>\n",
       "      <th></th>\n",
       "      <th></th>\n",
       "    </tr>\n",
       "  </thead>\n",
       "  <tbody>\n",
       "    <tr>\n",
       "      <th>female</th>\n",
       "      <td>512.3292</td>\n",
       "      <td>6.75</td>\n",
       "    </tr>\n",
       "    <tr>\n",
       "      <th>male</th>\n",
       "      <td>512.3292</td>\n",
       "      <td>0.00</td>\n",
       "    </tr>\n",
       "  </tbody>\n",
       "</table>\n",
       "</div>"
      ],
      "text/plain": [
       "             max   min\n",
       "sex                   \n",
       "female  512.3292  6.75\n",
       "male    512.3292  0.00"
      ]
     },
     "execution_count": 196,
     "metadata": {},
     "output_type": "execute_result"
    }
   ],
   "source": [
    "high_low_fare = pd.DataFrame(titanic_df.groupby(by = 'sex').agg(max=('fare', 'max'), min=('fare', 'min')))\n",
    "high_low_fare"
   ]
  },
  {
   "cell_type": "code",
   "execution_count": 197,
   "metadata": {
    "deletable": false,
    "editable": false,
    "nbgrader": {
     "cell_type": "code",
     "checksum": "9b08c6f0b13c6009b17f463f94ec50ed",
     "grade": true,
     "grade_id": "cell-5d68da022e6dfa03",
     "locked": true,
     "points": 1,
     "schema_version": 3,
     "solution": false,
     "task": false
    }
   },
   "outputs": [
    {
     "data": {
      "text/plain": [
       "'success'"
      ]
     },
     "execution_count": 197,
     "metadata": {},
     "output_type": "execute_result"
    }
   ],
   "source": [
    "t.test_3j(high_low_fare)"
   ]
  },
  {
   "cell_type": "markdown",
   "metadata": {},
   "source": [
    "**Question 3(k)**  <br> {points: 1}  \n",
    "\n",
    "Use chaining to obtain the name of the youngest known female passenger and save it as object `youngest_female`.    \n",
    "This object should be a value not a dataframe."
   ]
  },
  {
   "cell_type": "code",
   "execution_count": 198,
   "metadata": {
    "deletable": false,
    "nbgrader": {
     "cell_type": "code",
     "checksum": "e519948df159b6e766842036385a4172",
     "grade": false,
     "grade_id": "cell-2af735c6c0c8e9ed",
     "locked": false,
     "schema_version": 3,
     "solution": true,
     "task": false
    }
   },
   "outputs": [],
   "source": [
    "youngest_female = titanic_df[titanic_df['sex']=='female'].sort_values(by= 'age', ascending=True).reset_index().loc[:0, 'name']\n",
    "youngest_female = youngest_female[0]"
   ]
  },
  {
   "cell_type": "code",
   "execution_count": 199,
   "metadata": {
    "deletable": false,
    "editable": false,
    "nbgrader": {
     "cell_type": "code",
     "checksum": "11c48bfd3856a8d6ebfbf19851e3bc15",
     "grade": true,
     "grade_id": "cell-b1c0624507f4f69e",
     "locked": true,
     "points": 1,
     "schema_version": 3,
     "solution": false,
     "task": false
    }
   },
   "outputs": [
    {
     "data": {
      "text/plain": [
       "'success'"
      ]
     },
     "execution_count": 199,
     "metadata": {},
     "output_type": "execute_result"
    }
   ],
   "source": [
    "t.test_3k(youngest_female)"
   ]
  },
  {
   "cell_type": "markdown",
   "metadata": {},
   "source": [
    "## 4. Titanic Analysis  \n",
    "\n",
    "\n",
    "In exercise 3, we explored the dataset somewhat arbitrarily, trying to gain some insights into the data. In this exercise, we will carry out a number of steps to answer a single analysis question. \n",
    "\n",
    "> \"How does a passenger's class, sex and age affect their chance of survival?\"\n",
    "\n",
    "Use chaining to answer each question.\n",
    "\n",
    "One thing you may notice in the data is that there are missing values in the survived column that present themselves as`NaN`. This can be a potential problem as it could cause the analyst to draw inaccurate conclusions about the data. For this question, we will disregard this issue to concentrate on the skills we have learned up until now. We will, however, be returning to this topic further into the course and discuss how missing data effects analysis and different methods of handling them."
   ]
  },
  {
   "cell_type": "markdown",
   "metadata": {},
   "source": [
    "**Question 4(a)**  <br> {points: 1}  \n",
    "\n",
    "Beginning the analysis with passenger class, find the mean survival rate of the 3 classes and plot this as a bar chart. Name the object `group_class`. Make sure that you give the plot a descriptive title and y-axis label.\n",
    "You will need to groupby `pclass` and inorder to find the `mean` survival rate. Don't forget to `reset_index()` when plotting."
   ]
  },
  {
   "cell_type": "code",
   "execution_count": 221,
   "metadata": {
    "deletable": false,
    "nbgrader": {
     "cell_type": "code",
     "checksum": "bdcf8ca150adf85b49b429db58b859e8",
     "grade": false,
     "grade_id": "cell-0390e77765430881",
     "locked": false,
     "schema_version": 3,
     "solution": true,
     "task": false
    }
   },
   "outputs": [
    {
     "data": {
      "text/html": [
       "\n",
       "<div id=\"altair-viz-3aa55fa9855f4da89d59629b8401b8df\"></div>\n",
       "<script type=\"text/javascript\">\n",
       "  (function(spec, embedOpt){\n",
       "    let outputDiv = document.currentScript.previousElementSibling;\n",
       "    if (outputDiv.id !== \"altair-viz-3aa55fa9855f4da89d59629b8401b8df\") {\n",
       "      outputDiv = document.getElementById(\"altair-viz-3aa55fa9855f4da89d59629b8401b8df\");\n",
       "    }\n",
       "    const paths = {\n",
       "      \"vega\": \"https://cdn.jsdelivr.net/npm//vega@5?noext\",\n",
       "      \"vega-lib\": \"https://cdn.jsdelivr.net/npm//vega-lib?noext\",\n",
       "      \"vega-lite\": \"https://cdn.jsdelivr.net/npm//vega-lite@4.8.1?noext\",\n",
       "      \"vega-embed\": \"https://cdn.jsdelivr.net/npm//vega-embed@6?noext\",\n",
       "    };\n",
       "\n",
       "    function loadScript(lib) {\n",
       "      return new Promise(function(resolve, reject) {\n",
       "        var s = document.createElement('script');\n",
       "        s.src = paths[lib];\n",
       "        s.async = true;\n",
       "        s.onload = () => resolve(paths[lib]);\n",
       "        s.onerror = () => reject(`Error loading script: ${paths[lib]}`);\n",
       "        document.getElementsByTagName(\"head\")[0].appendChild(s);\n",
       "      });\n",
       "    }\n",
       "\n",
       "    function showError(err) {\n",
       "      outputDiv.innerHTML = `<div class=\"error\" style=\"color:red;\">${err}</div>`;\n",
       "      throw err;\n",
       "    }\n",
       "\n",
       "    function displayChart(vegaEmbed) {\n",
       "      vegaEmbed(outputDiv, spec, embedOpt)\n",
       "        .catch(err => showError(`Javascript Error: ${err.message}<br>This usually means there's a typo in your chart specification. See the javascript console for the full traceback.`));\n",
       "    }\n",
       "\n",
       "    if(typeof define === \"function\" && define.amd) {\n",
       "      requirejs.config({paths});\n",
       "      require([\"vega-embed\"], displayChart, err => showError(`Error loading script: ${err.message}`));\n",
       "    } else if (typeof vegaEmbed === \"function\") {\n",
       "      displayChart(vegaEmbed);\n",
       "    } else {\n",
       "      loadScript(\"vega\")\n",
       "        .then(() => loadScript(\"vega-lite\"))\n",
       "        .then(() => loadScript(\"vega-embed\"))\n",
       "        .catch(showError)\n",
       "        .then(() => displayChart(vegaEmbed));\n",
       "    }\n",
       "  })({\"config\": {\"view\": {\"continuousWidth\": 400, \"continuousHeight\": 300}}, \"data\": {\"name\": \"data-a3c1ad397efd491208298d03794e5602\"}, \"mark\": {\"type\": \"bar\", \"color\": \"violet\", \"opacity\": 0.5, \"width\": 83}, \"encoding\": {\"x\": {\"type\": \"quantitative\", \"axis\": {\"tickCount\": 3}, \"field\": \"pclass\", \"sort\": \"y\"}, \"y\": {\"type\": \"quantitative\", \"field\": \"survived\"}}, \"height\": 300, \"title\": \"Mean Survival Rate by Passenger Class\", \"width\": 500, \"$schema\": \"https://vega.github.io/schema/vega-lite/v4.8.1.json\", \"datasets\": {\"data-a3c1ad397efd491208298d03794e5602\": [{\"pclass\": 1, \"survived\": 0.6191950464396285}, {\"pclass\": 2, \"survived\": 0.4296028880866426}, {\"pclass\": 3, \"survived\": 0.2552891396332863}]}}, {\"mode\": \"vega-lite\"});\n",
       "</script>"
      ],
      "text/plain": [
       "alt.Chart(...)"
      ]
     },
     "execution_count": 221,
     "metadata": {},
     "output_type": "execute_result"
    }
   ],
   "source": [
    "titanic_classes = titanic_df.groupby(['pclass']).agg(survived=('survived', 'mean'))\n",
    "\n",
    "group_class = alt.Chart(\n",
    "    titanic_classes.reset_index(), width=500, height=300).mark_bar(\n",
    "        color='violet', opacity=0.5, width = 83).encode(\n",
    "            x=alt.X('pclass', sort='y',axis=alt.Axis(tickCount=3)),\n",
    "            y=alt.Y('survived')).properties(title = \"Mean Survival Rate by Passenger Class\")\n",
    "group_class"
   ]
  },
  {
   "cell_type": "code",
   "execution_count": 201,
   "metadata": {
    "deletable": false,
    "editable": false,
    "nbgrader": {
     "cell_type": "code",
     "checksum": "a1565ea48dbec9211261eaea5c73f16f",
     "grade": true,
     "grade_id": "cell-c73402b6c72374a4",
     "locked": true,
     "points": 1,
     "schema_version": 3,
     "solution": false,
     "task": false
    }
   },
   "outputs": [
    {
     "data": {
      "text/plain": [
       "'success'"
      ]
     },
     "execution_count": 201,
     "metadata": {},
     "output_type": "execute_result"
    }
   ],
   "source": [
    "t.test_4a(group_class)"
   ]
  },
  {
   "cell_type": "markdown",
   "metadata": {},
   "source": [
    "**Question 4(b)**  <br> {points: 1}  \n",
    "\n",
    "To answer the question, assign the letter associated with the correct answer to a variable in the code cell below:   \n",
    "Which statement below is accurate?\n",
    "\n",
    "A. Passengers from 1st class had the highest survival rate\n",
    "\n",
    "B. Passengers from 2nd class had the highest survival rate \n",
    "\n",
    "C. Passengers from 3rd class had the highest survival rate\n",
    "\n",
    "\n",
    "*Answer in the cell below using the uppercase letter associated with your answer. Place your answer between `\"\"`, assign the correct answer to an object called `answer4_b`.*"
   ]
  },
  {
   "cell_type": "code",
   "execution_count": 202,
   "metadata": {
    "deletable": false,
    "nbgrader": {
     "cell_type": "code",
     "checksum": "2227a7d9f721e37182847d947301dbea",
     "grade": false,
     "grade_id": "cell-76b9ead78ecfb0e0",
     "locked": false,
     "schema_version": 3,
     "solution": true,
     "task": false
    }
   },
   "outputs": [],
   "source": [
    "answer4_b = 'A'"
   ]
  },
  {
   "cell_type": "code",
   "execution_count": 203,
   "metadata": {
    "deletable": false,
    "editable": false,
    "nbgrader": {
     "cell_type": "code",
     "checksum": "dc15db98791a1e1273d915170bbd8ffb",
     "grade": true,
     "grade_id": "cell-7dbcb42fb864375a",
     "locked": true,
     "points": 1,
     "schema_version": 3,
     "solution": false,
     "task": false
    }
   },
   "outputs": [
    {
     "data": {
      "text/plain": [
       "'success'"
      ]
     },
     "execution_count": 203,
     "metadata": {},
     "output_type": "execute_result"
    }
   ],
   "source": [
    "t.test_4b(answer4_b)"
   ]
  },
  {
   "cell_type": "markdown",
   "metadata": {},
   "source": [
    "**Question 4(c)**  <br> {points: 1}  \n",
    "\n",
    "Plot the mean survival rates for each sex using a bar chart. Name the object `group_sex`. Make sure that you give the plot a descriptive title and y-axis label. You will need to groupby `sex` in order to find the `mean` survival rate. Don't forget to `reset_index()` when plotting.    "
   ]
  },
  {
   "cell_type": "code",
   "execution_count": 204,
   "metadata": {
    "deletable": false,
    "nbgrader": {
     "cell_type": "code",
     "checksum": "a19a88e88d77e05a2effb48798bf3bb9",
     "grade": false,
     "grade_id": "cell-3ec8f18303bb6b2f",
     "locked": false,
     "schema_version": 3,
     "solution": true,
     "task": false
    }
   },
   "outputs": [
    {
     "data": {
      "text/html": [
       "\n",
       "<div id=\"altair-viz-6320c87e07a14184a761c328897f926a\"></div>\n",
       "<script type=\"text/javascript\">\n",
       "  (function(spec, embedOpt){\n",
       "    let outputDiv = document.currentScript.previousElementSibling;\n",
       "    if (outputDiv.id !== \"altair-viz-6320c87e07a14184a761c328897f926a\") {\n",
       "      outputDiv = document.getElementById(\"altair-viz-6320c87e07a14184a761c328897f926a\");\n",
       "    }\n",
       "    const paths = {\n",
       "      \"vega\": \"https://cdn.jsdelivr.net/npm//vega@5?noext\",\n",
       "      \"vega-lib\": \"https://cdn.jsdelivr.net/npm//vega-lib?noext\",\n",
       "      \"vega-lite\": \"https://cdn.jsdelivr.net/npm//vega-lite@4.8.1?noext\",\n",
       "      \"vega-embed\": \"https://cdn.jsdelivr.net/npm//vega-embed@6?noext\",\n",
       "    };\n",
       "\n",
       "    function loadScript(lib) {\n",
       "      return new Promise(function(resolve, reject) {\n",
       "        var s = document.createElement('script');\n",
       "        s.src = paths[lib];\n",
       "        s.async = true;\n",
       "        s.onload = () => resolve(paths[lib]);\n",
       "        s.onerror = () => reject(`Error loading script: ${paths[lib]}`);\n",
       "        document.getElementsByTagName(\"head\")[0].appendChild(s);\n",
       "      });\n",
       "    }\n",
       "\n",
       "    function showError(err) {\n",
       "      outputDiv.innerHTML = `<div class=\"error\" style=\"color:red;\">${err}</div>`;\n",
       "      throw err;\n",
       "    }\n",
       "\n",
       "    function displayChart(vegaEmbed) {\n",
       "      vegaEmbed(outputDiv, spec, embedOpt)\n",
       "        .catch(err => showError(`Javascript Error: ${err.message}<br>This usually means there's a typo in your chart specification. See the javascript console for the full traceback.`));\n",
       "    }\n",
       "\n",
       "    if(typeof define === \"function\" && define.amd) {\n",
       "      requirejs.config({paths});\n",
       "      require([\"vega-embed\"], displayChart, err => showError(`Error loading script: ${err.message}`));\n",
       "    } else if (typeof vegaEmbed === \"function\") {\n",
       "      displayChart(vegaEmbed);\n",
       "    } else {\n",
       "      loadScript(\"vega\")\n",
       "        .then(() => loadScript(\"vega-lite\"))\n",
       "        .then(() => loadScript(\"vega-embed\"))\n",
       "        .catch(showError)\n",
       "        .then(() => displayChart(vegaEmbed));\n",
       "    }\n",
       "  })({\"config\": {\"view\": {\"continuousWidth\": 400, \"continuousHeight\": 300}}, \"data\": {\"name\": \"data-2c7a6e7dffc2056fcc62ef7bab043c59\"}, \"mark\": {\"type\": \"bar\", \"color\": \"Red\", \"opacity\": 0.5, \"width\": 83}, \"encoding\": {\"x\": {\"type\": \"nominal\", \"axis\": {\"tickCount\": 3}, \"field\": \"sex\", \"sort\": \"y\"}, \"y\": {\"type\": \"quantitative\", \"field\": \"survived\"}}, \"height\": 300, \"title\": \"Mean Survival Rate by Passenger Sex\", \"width\": 500, \"$schema\": \"https://vega.github.io/schema/vega-lite/v4.8.1.json\", \"datasets\": {\"data-2c7a6e7dffc2056fcc62ef7bab043c59\": [{\"sex\": \"female\", \"survived\": 0.7274678111587983}, {\"sex\": \"male\", \"survived\": 0.19098457888493475}]}}, {\"mode\": \"vega-lite\"});\n",
       "</script>"
      ],
      "text/plain": [
       "alt.Chart(...)"
      ]
     },
     "execution_count": 204,
     "metadata": {},
     "output_type": "execute_result"
    }
   ],
   "source": [
    "titanic_sex = titanic_df.groupby(by = 'sex').agg(survived=('survived', 'mean'))\n",
    "\n",
    "group_sex = alt.Chart(\n",
    "    titanic_sex.reset_index(), width=500, height=300).mark_bar(\n",
    "        color='Red', opacity=0.5, width = 83).encode(\n",
    "            x=alt.X('sex', sort='y',axis=alt.Axis(tickCount=3)),\n",
    "            y=alt.Y('survived')).properties(title = \"Mean Survival Rate by Passenger Sex\")\n",
    "group_sex"
   ]
  },
  {
   "cell_type": "code",
   "execution_count": 205,
   "metadata": {
    "deletable": false,
    "editable": false,
    "nbgrader": {
     "cell_type": "code",
     "checksum": "e3aa8402a01bb14f19081ec42818b7e0",
     "grade": true,
     "grade_id": "cell-f13869dd0bead0a2",
     "locked": true,
     "points": 1,
     "schema_version": 3,
     "solution": false,
     "task": false
    }
   },
   "outputs": [
    {
     "data": {
      "text/plain": [
       "'success'"
      ]
     },
     "execution_count": 205,
     "metadata": {},
     "output_type": "execute_result"
    }
   ],
   "source": [
    "t.test_4c(group_sex)"
   ]
  },
  {
   "cell_type": "markdown",
   "metadata": {},
   "source": [
    "**Question 4(d)**  <br> {points: 1}  \n",
    "\n",
    "To answer the question, assign the letter associated with the correct answer to a variable in the code cell below:   \n",
    "Which statement below is accurate?\n",
    "\n",
    "A. Male passengers had the highest survival rate\n",
    "\n",
    "B. Female passengers had the highest survival rate \n",
    "\n",
    "\n",
    "*Answer in the cell below using the uppercase letter associated with your answer. Place your answer between `\"\"`, assign the correct answer to an object called `answer4_d`.*"
   ]
  },
  {
   "cell_type": "code",
   "execution_count": 206,
   "metadata": {
    "deletable": false,
    "nbgrader": {
     "cell_type": "code",
     "checksum": "5aed63564a666700c2c9cf542e340859",
     "grade": false,
     "grade_id": "cell-9149cc7bdba9811f",
     "locked": false,
     "schema_version": 3,
     "solution": true,
     "task": false
    }
   },
   "outputs": [],
   "source": [
    "answer4_d = 'B'"
   ]
  },
  {
   "cell_type": "code",
   "execution_count": 207,
   "metadata": {
    "deletable": false,
    "editable": false,
    "nbgrader": {
     "cell_type": "code",
     "checksum": "75507e8ea866cd15d668f9d011c719ea",
     "grade": true,
     "grade_id": "cell-1b1831223a4df316",
     "locked": true,
     "points": 1,
     "schema_version": 3,
     "solution": false,
     "task": false
    }
   },
   "outputs": [
    {
     "data": {
      "text/plain": [
       "'success'"
      ]
     },
     "execution_count": 207,
     "metadata": {},
     "output_type": "execute_result"
    }
   ],
   "source": [
    "t.test_4d(answer4_d)"
   ]
  },
  {
   "cell_type": "markdown",
   "metadata": {},
   "source": [
    "**Question 4(e)**  <br> {points: 1}  \n",
    "\n",
    "\n",
    "Before we can do anything let's categorize the ages into 4 age classes into a column named `age_group`. Use the following conditions for each age class\n",
    "- younger than 20 column values → \"youth\"   \n",
    "- 20-39 column values → \"adult\"\n",
    "- 40-59 column values → \"older adult\"   \n",
    "- Age 60 and older column values → \"senior\" \n",
    "\n",
    "Find the mean survival rate of each `age_group` and plot this as a bar chart. Name the object `age_plot`."
   ]
  },
  {
   "cell_type": "code",
   "execution_count": 222,
   "metadata": {
    "deletable": false,
    "nbgrader": {
     "cell_type": "code",
     "checksum": "3042d3ed80c2beb3af85e7a461e25aa1",
     "grade": false,
     "grade_id": "cell-440f649f81785f5c",
     "locked": false,
     "schema_version": 3,
     "solution": true,
     "task": false
    }
   },
   "outputs": [
    {
     "data": {
      "text/html": [
       "\n",
       "<div id=\"altair-viz-5dbe90d820a14618ad2f66d261529e3c\"></div>\n",
       "<script type=\"text/javascript\">\n",
       "  (function(spec, embedOpt){\n",
       "    let outputDiv = document.currentScript.previousElementSibling;\n",
       "    if (outputDiv.id !== \"altair-viz-5dbe90d820a14618ad2f66d261529e3c\") {\n",
       "      outputDiv = document.getElementById(\"altair-viz-5dbe90d820a14618ad2f66d261529e3c\");\n",
       "    }\n",
       "    const paths = {\n",
       "      \"vega\": \"https://cdn.jsdelivr.net/npm//vega@5?noext\",\n",
       "      \"vega-lib\": \"https://cdn.jsdelivr.net/npm//vega-lib?noext\",\n",
       "      \"vega-lite\": \"https://cdn.jsdelivr.net/npm//vega-lite@4.8.1?noext\",\n",
       "      \"vega-embed\": \"https://cdn.jsdelivr.net/npm//vega-embed@6?noext\",\n",
       "    };\n",
       "\n",
       "    function loadScript(lib) {\n",
       "      return new Promise(function(resolve, reject) {\n",
       "        var s = document.createElement('script');\n",
       "        s.src = paths[lib];\n",
       "        s.async = true;\n",
       "        s.onload = () => resolve(paths[lib]);\n",
       "        s.onerror = () => reject(`Error loading script: ${paths[lib]}`);\n",
       "        document.getElementsByTagName(\"head\")[0].appendChild(s);\n",
       "      });\n",
       "    }\n",
       "\n",
       "    function showError(err) {\n",
       "      outputDiv.innerHTML = `<div class=\"error\" style=\"color:red;\">${err}</div>`;\n",
       "      throw err;\n",
       "    }\n",
       "\n",
       "    function displayChart(vegaEmbed) {\n",
       "      vegaEmbed(outputDiv, spec, embedOpt)\n",
       "        .catch(err => showError(`Javascript Error: ${err.message}<br>This usually means there's a typo in your chart specification. See the javascript console for the full traceback.`));\n",
       "    }\n",
       "\n",
       "    if(typeof define === \"function\" && define.amd) {\n",
       "      requirejs.config({paths});\n",
       "      require([\"vega-embed\"], displayChart, err => showError(`Error loading script: ${err.message}`));\n",
       "    } else if (typeof vegaEmbed === \"function\") {\n",
       "      displayChart(vegaEmbed);\n",
       "    } else {\n",
       "      loadScript(\"vega\")\n",
       "        .then(() => loadScript(\"vega-lite\"))\n",
       "        .then(() => loadScript(\"vega-embed\"))\n",
       "        .catch(showError)\n",
       "        .then(() => displayChart(vegaEmbed));\n",
       "    }\n",
       "  })({\"config\": {\"view\": {\"continuousWidth\": 400, \"continuousHeight\": 300}}, \"data\": {\"name\": \"data-bdf1ed9f96713b6f390ae823ea5201cc\"}, \"mark\": {\"type\": \"bar\", \"color\": \"green\", \"opacity\": 0.5, \"width\": 83}, \"encoding\": {\"x\": {\"type\": \"nominal\", \"axis\": {\"tickCount\": 3}, \"field\": \"age_group\"}, \"y\": {\"type\": \"quantitative\", \"field\": \"survived\"}}, \"height\": 300, \"title\": \"Mean Survival Rate by Passenger Age Group\", \"width\": 500, \"$schema\": \"https://vega.github.io/schema/vega-lite/v4.8.1.json\", \"datasets\": {\"data-bdf1ed9f96713b6f390ae823ea5201cc\": [{\"age_group\": \"adult\", \"survived\": 0.390625}, {\"age_group\": \"older adult\", \"survived\": 0.4097560975609756}, {\"age_group\": \"senior\", \"survived\": 0.3}, {\"age_group\": \"youth\", \"survived\": 0.4711111111111111}]}}, {\"mode\": \"vega-lite\"});\n",
       "</script>"
      ],
      "text/plain": [
       "alt.Chart(...)"
      ]
     },
     "execution_count": 222,
     "metadata": {},
     "output_type": "execute_result"
    }
   ],
   "source": [
    "titanic_df.loc[(titanic_df['age'] < 20),  'age_group'] = 'youth'\n",
    "titanic_df.loc[(titanic_df['age']>=20) & (titanic_df['age']<40),  'age_group'] = 'adult'\n",
    "titanic_df.loc[(titanic_df['age']>=40) & (titanic_df['age']<60),  'age_group'] = 'older adult'\n",
    "titanic_df.loc[(titanic_df['age']>=60),  'age_group'] = 'senior'\n",
    "\n",
    "titanic_age = titanic_df.groupby(by = 'age_group').agg(survived=('survived', 'mean'))\n",
    "age_plot = alt.Chart(\n",
    "    titanic_age.reset_index(), width=500, height=300).mark_bar(\n",
    "        color='green', opacity=0.5, width = 83).encode(\n",
    "            x=alt.X('age_group',axis=alt.Axis(tickCount=3)),\n",
    "            y=alt.Y('survived')).properties(title = \"Mean Survival Rate by Passenger Age Group\")\n",
    "age_plot"
   ]
  },
  {
   "cell_type": "code",
   "execution_count": 209,
   "metadata": {
    "deletable": false,
    "editable": false,
    "nbgrader": {
     "cell_type": "code",
     "checksum": "f7a5049bf6101ed055de8080eb291515",
     "grade": true,
     "grade_id": "cell-829cd55e54c6514b",
     "locked": true,
     "points": 1,
     "schema_version": 3,
     "solution": false,
     "task": false
    }
   },
   "outputs": [
    {
     "data": {
      "text/plain": [
       "'success'"
      ]
     },
     "execution_count": 209,
     "metadata": {},
     "output_type": "execute_result"
    }
   ],
   "source": [
    "t.test_4e(age_plot)"
   ]
  },
  {
   "cell_type": "markdown",
   "metadata": {},
   "source": [
    "**Question 4(f)**  <br> {points: 2}  \n",
    "\n",
    "To answer the question, assign the letter associated with the correct answer to a variable in the code cell below:   \n",
    "Which statement below is accurate?\n",
    "\n",
    "A. youth passengers had the highest survival rate\n",
    "\n",
    "B. adult passengers had the highest survival rate \n",
    "\n",
    "C. older adult passengers had the highest survival rate \n",
    "\n",
    "D. senior passengers had the highest survival rate \n",
    "\n",
    "\n",
    "*Answer in the cell below using the uppercase letter associated with your answer. Place your answer between `\"\"`, assign the correct answer to an object called `answer4_f`.*\n"
   ]
  },
  {
   "cell_type": "code",
   "execution_count": 210,
   "metadata": {
    "deletable": false,
    "nbgrader": {
     "cell_type": "code",
     "checksum": "aeeb6f07d65d5d5684393c8f63d2228e",
     "grade": false,
     "grade_id": "cell-490bc519ab3b379d",
     "locked": false,
     "schema_version": 3,
     "solution": true,
     "task": false
    }
   },
   "outputs": [],
   "source": [
    "answer4_f = 'A'"
   ]
  },
  {
   "cell_type": "code",
   "execution_count": 211,
   "metadata": {
    "deletable": false,
    "editable": false,
    "nbgrader": {
     "cell_type": "code",
     "checksum": "ca0709fb93e254222c78d072fcd2405f",
     "grade": true,
     "grade_id": "cell-c6b572c05ef2cec7",
     "locked": true,
     "points": 2,
     "schema_version": 3,
     "solution": false,
     "task": false
    }
   },
   "outputs": [],
   "source": [
    "assert 'answer4_f' in locals(), \"Your answer should be named 'answer4_f'\"\n",
    "\n",
    "# Note that this test has been hidden intentionally.\n",
    "# It will provide no feedback as to the correctness of your answers.\n",
    "# Thus, it is up to you to decide if your answer is sufficiently correct."
   ]
  },
  {
   "cell_type": "markdown",
   "metadata": {},
   "source": [
    "**Question 4(g)**  <br> {points: 1}  \n",
    "\n",
    "Let's go one step further now and do something a little new. Make a groupby object on 2 columns. Use columns `pclass` and `sex`. This is will give 6 separate groups: \n",
    "- Female and 1st class\n",
    "- Female and 2nd class\n",
    "- Female and 3rd class\n",
    "- Male and 1st class\n",
    "- Male and 2nd class\n",
    "- Male and 3rd class\n",
    "\n",
    "Next, find the mean value of the `survived` rate using `.loc[]` and sort them in decreasing survival rate. "
   ]
  },
  {
   "cell_type": "code",
   "execution_count": 212,
   "metadata": {
    "deletable": false,
    "nbgrader": {
     "cell_type": "code",
     "checksum": "ccacf140f7eac7817cf4c9369a75dbc7",
     "grade": false,
     "grade_id": "cell-839b6becf2c070f7",
     "locked": false,
     "schema_version": 3,
     "solution": true,
     "task": false
    }
   },
   "outputs": [],
   "source": [
    "group_class_age = titanic_df.groupby(['pclass', 'sex']).mean().sort_values(by= 'survived', ascending=False)                   "
   ]
  },
  {
   "cell_type": "code",
   "execution_count": 213,
   "metadata": {
    "deletable": false,
    "editable": false,
    "nbgrader": {
     "cell_type": "code",
     "checksum": "2aef1239e28380c7d4f5a5f16f288bd4",
     "grade": true,
     "grade_id": "cell-e72552bb0a719e28",
     "locked": true,
     "points": 1,
     "schema_version": 3,
     "solution": false,
     "task": false
    }
   },
   "outputs": [
    {
     "data": {
      "text/plain": [
       "'success'"
      ]
     },
     "execution_count": 213,
     "metadata": {},
     "output_type": "execute_result"
    }
   ],
   "source": [
    "t.test_4g(group_class_age)"
   ]
  },
  {
   "cell_type": "markdown",
   "metadata": {},
   "source": [
    "**Question 4(h)**  <br> {points: 1}  \n",
    "Now that you know how to group on multiple columns, We are going to try it on all 3 of the columns; `pclass`, `sex` and `age_group` . \n",
    "\n",
    "What is the maximum number of groups possible if we group by all 3 columns? \n",
    "\n",
    "\n",
    "\n",
    "\n",
    "\n",
    "*Answer in the cell below and assign the correct answer to an object called `answer4_h`*\n"
   ]
  },
  {
   "cell_type": "code",
   "execution_count": 214,
   "metadata": {
    "deletable": false,
    "nbgrader": {
     "cell_type": "code",
     "checksum": "a1d04dd16cbec2f33cb60e1f8d4cde60",
     "grade": false,
     "grade_id": "cell-f75154cca3c9749a",
     "locked": false,
     "schema_version": 3,
     "solution": true,
     "task": false
    }
   },
   "outputs": [
    {
     "data": {
      "text/plain": [
       "24"
      ]
     },
     "execution_count": 214,
     "metadata": {},
     "output_type": "execute_result"
    }
   ],
   "source": [
    "answer4_h = titanic_df.groupby(['pclass', 'sex', 'age_group']).size().shape[0]\n",
    "answer4_h"
   ]
  },
  {
   "cell_type": "code",
   "execution_count": 215,
   "metadata": {
    "deletable": false,
    "editable": false,
    "nbgrader": {
     "cell_type": "code",
     "checksum": "c4cabd411bc117ecec883ac00dd2cb01",
     "grade": true,
     "grade_id": "cell-9ccb283f50c544eb",
     "locked": true,
     "points": 1,
     "schema_version": 3,
     "solution": false,
     "task": false
    }
   },
   "outputs": [
    {
     "data": {
      "text/plain": [
       "'success'"
      ]
     },
     "execution_count": 215,
     "metadata": {},
     "output_type": "execute_result"
    }
   ],
   "source": [
    "t.test_4h(answer4_h)"
   ]
  },
  {
   "cell_type": "markdown",
   "metadata": {},
   "source": [
    "**Question 4(i)**  <br> {points: 1}  \n",
    "\n",
    "\n",
    "Groupby `pclass`, `sex`, and `age_group` and find the mean value of the `survived` rate using `.loc[]`. Sort them in decreasing survival rate,  similarly to what you did in question 4(g)"
   ]
  },
  {
   "cell_type": "code",
   "execution_count": 216,
   "metadata": {
    "deletable": false,
    "nbgrader": {
     "cell_type": "code",
     "checksum": "ae9aa9bdeab77b42abcb455c06fefd13",
     "grade": false,
     "grade_id": "cell-f2f336f9cc068465",
     "locked": false,
     "schema_version": 3,
     "solution": true,
     "task": false
    }
   },
   "outputs": [],
   "source": [
    "group_class_sex_age = pd.DataFrame(titanic_df.groupby(['pclass', 'sex', 'age_group']).mean().loc[:,'survived'])\n",
    "group_class_sex_age = group_class_sex_age.sort_values(['survived'], ascending=False)"
   ]
  },
  {
   "cell_type": "code",
   "execution_count": 217,
   "metadata": {
    "deletable": false,
    "editable": false,
    "nbgrader": {
     "cell_type": "code",
     "checksum": "08205c9ae22dccf76153c986fed26727",
     "grade": true,
     "grade_id": "cell-f60510077774b6c3",
     "locked": true,
     "points": 1,
     "schema_version": 3,
     "solution": false,
     "task": false
    }
   },
   "outputs": [
    {
     "data": {
      "text/plain": [
       "'success'"
      ]
     },
     "execution_count": 217,
     "metadata": {},
     "output_type": "execute_result"
    }
   ],
   "source": [
    "t.test_4i(group_class_sex_age)"
   ]
  },
  {
   "cell_type": "markdown",
   "metadata": {},
   "source": [
    "**Question 4(j)**  <br> {points: 1}  \n",
    "\n",
    "Which of the 24 groups had a 100% rate of survival? Answer by creating an object with the class, then sex, then age group of the highest survival rate group. For example, if it were 2nd class adult males, your answer would be `[2, 'male', 'adult']`\n"
   ]
  },
  {
   "cell_type": "code",
   "execution_count": 218,
   "metadata": {
    "deletable": false,
    "nbgrader": {
     "cell_type": "code",
     "checksum": "20a1e0dfad36043dea43e1a355b8a307",
     "grade": false,
     "grade_id": "cell-87140b36d2ef7f96",
     "locked": false,
     "schema_version": 3,
     "solution": true,
     "task": false
    }
   },
   "outputs": [],
   "source": [
    "answer4_j=[3, 'female', 'senior']"
   ]
  },
  {
   "cell_type": "code",
   "execution_count": 219,
   "metadata": {
    "deletable": false,
    "editable": false,
    "nbgrader": {
     "cell_type": "code",
     "checksum": "c0c9f75a5f6848320579935e5c97de70",
     "grade": true,
     "grade_id": "cell-01fdec6b2e784aa3",
     "locked": true,
     "points": 1,
     "schema_version": 3,
     "solution": false,
     "task": false
    }
   },
   "outputs": [
    {
     "data": {
      "text/plain": [
       "'success'"
      ]
     },
     "execution_count": 219,
     "metadata": {},
     "output_type": "execute_result"
    }
   ],
   "source": [
    "t.test_4j(answer4_j)"
   ]
  },
  {
   "cell_type": "markdown",
   "metadata": {},
   "source": [
    "Before submitting your assignment please do the following:\n",
    "\n",
    "- Read through your solutions\n",
    "- **Restart your kernel and clear output and rerun your cells from top to bottom** \n",
    "- Makes sure that none of your code is broken \n",
    "- Verify that the tests from the questions you answered have obtained the output \"Success\"\n",
    "\n",
    "This is a simple way to make sure that you are submitting all the variables needed to mark the assignment. This method should help avoid losing marks due to changes in your environment.  "
   ]
  },
  {
   "cell_type": "markdown",
   "metadata": {},
   "source": [
    "## Attributions\n",
    "- City of Vancouver Open Data portal - [Street Trees Dataset](https://opendata.vancouver.ca/explore/dataset/street-trees/information/?disjunctive.species_name&disjunctive.common_name&disjunctive.height_range_id)\n",
    "- MDS DSCI 523 - Data Wrangling course - [MDS's GitHub website](hhttps://ubc-mds.github.io/) \n"
   ]
  },
  {
   "cell_type": "markdown",
   "metadata": {},
   "source": [
    "## Module Debriefing\n",
    "\n",
    "If this video is not showing up below, click on the cell and click the ▶ button in the toolbar above."
   ]
  },
  {
   "cell_type": "code",
   "execution_count": 220,
   "metadata": {},
   "outputs": [
    {
     "data": {
      "image/jpeg": "[encoded data removed]",
      "text/html": [
       "\n",
       "        <iframe\n",
       "            width=\"854\"\n",
       "            height=\"480\"\n",
       "            src=\"https://www.youtube.com/embed/zHK_l0YPcKA\"\n",
       "            frameborder=\"0\"\n",
       "            allowfullscreen\n",
       "        ></iframe>\n",
       "        "
      ],
      "text/plain": [
       "<IPython.lib.display.YouTubeVideo at 0x7ff93b7b94c0>"
      ]
     },
     "execution_count": 220,
     "metadata": {},
     "output_type": "execute_result"
    }
   ],
   "source": [
    "from IPython.display import YouTubeVideo\n",
    "YouTubeVideo('zHK_l0YPcKA', width=854, height=480)"
   ]
  }
 ],
 "metadata": {
  "jupytext": {
   "cell_metadata_filter": "-all",
   "notebook_metadata_filter": "-all"
  },
  "kernelspec": {
   "display_name": "Python 3",
   "language": "python",
   "name": "python3"
  },
  "language_info": {
   "codemirror_mode": {
    "name": "ipython",
    "version": 3
   },
   "file_extension": ".py",
   "mimetype": "text/x-python",
   "name": "python",
   "nbconvert_exporter": "python",
   "pygments_lexer": "ipython3",
   "version": "3.8.5"
  },
  "toc": {
   "base_numbering": 1,
   "nav_menu": {},
   "number_sections": true,
   "sideBar": true,
   "skip_h1_title": false,
   "title_cell": "Table of Contents",
   "title_sidebar": "Contents",
   "toc_cell": false,
   "toc_position": {},
   "toc_section_display": true,
   "toc_window_display": false
  }
 },
 "nbformat": 4,
 "nbformat_minor": 4
}
